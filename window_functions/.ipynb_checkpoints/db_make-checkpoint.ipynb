{
 "cells": [
  {
   "cell_type": "code",
   "execution_count": 1,
   "id": "b4cb9823-9b3e-40ca-8bf4-8199bd02f91c",
   "metadata": {},
   "outputs": [],
   "source": [
    "import sqlite3\n"
   ]
  },
  {
   "cell_type": "code",
   "execution_count": 2,
   "id": "e0bffaf5-5a97-4a64-98c8-6c97e04c796a",
   "metadata": {},
   "outputs": [],
   "source": [
    "script = \"\"\"\n",
    "DROP TABLE IF EXISTS emp;\n",
    "\n",
    "CREATE TABLE IF NOT EXISTS emp (\n",
    "    id INTEGER PRIMARY KEY AUTOINCREMENT,\n",
    "    name TEXT NOT NULL,\n",
    "    department TEXT,\n",
    "    salary NUMERIC(10, 2)\n",
    ");\n",
    "\n",
    "INSERT INTO emp (name, department, salary) VALUES\n",
    "    (\"Anthony\", \"Marketing\", 2300.00),\n",
    "    (\"Detelina\", \"Marketing\", 2200.00),\n",
    "    (\"Samuel\", \"Marketing\", 1500.00),\n",
    "    (\"Toby\", \"Operations\", 1750.00),\n",
    "    (\"Kris\", \"Operations\", 1800.00),\n",
    "    (\"Daniel\", \"Operations\", 1900.00),\n",
    "    (\"Maria\", \"Operations\", 2000.00),\n",
    "    (\"Pratel\", \"Operations\", 1850.00),\n",
    "    (\"Katya\", \"Operations\", 1500.00),\n",
    "    (\"Simeon\", \"Operations\", 1800.00),\n",
    "    (\"Tanya\", \"Operations\", 2000.00),\n",
    "    (\"Boris\", \"Sales\", 3200.00),\n",
    "    (\"Natalia\", \"Sales\", 3500.00),\n",
    "    (\"Dilyana\", \"IT\", 2200.00),\n",
    "    (\"John\", \"IT\", 2400.00),\n",
    "    (\"Ivan\", \"IT\", 1800.00),\n",
    "    (\"Petko\", \"IT\", 2700.00),\n",
    "    (\"Tobias\", \"Finance\", 3000.00),\n",
    "    (\"Karen\", \"Finance\", 2800.00),\n",
    "    (\"Anelia\", \"HR\", 2650.00),\n",
    "    (\"Mario\", \"HR\", 2500.00),\n",
    "    (\"Anelia\", \"HR\", 2650.00),\n",
    "    (\"Tony\", \"Legal\", 3100.00);\n",
    "\"\"\""
   ]
  },
  {
   "cell_type": "code",
   "execution_count": 4,
   "id": "1960c211-7b92-4732-bf6a-a099ef6bd6b2",
   "metadata": {},
   "outputs": [],
   "source": [
    "conn = sqlite3.connect('window.db')\n",
    "cursor = conn.cursor()\n"
   ]
  },
  {
   "cell_type": "code",
   "execution_count": 5,
   "id": "32cbb3be-2bc2-4dc3-ac2e-5cfa9f447b84",
   "metadata": {},
   "outputs": [
    {
     "data": {
      "text/plain": [
       "<sqlite3.Cursor at 0x7fd934d146c0>"
      ]
     },
     "execution_count": 5,
     "metadata": {},
     "output_type": "execute_result"
    }
   ],
   "source": [
    "cursor.executescript(script)"
   ]
  },
  {
   "cell_type": "code",
   "execution_count": 8,
   "id": "c0321fd7-c922-4e4c-818b-c429e9bc5007",
   "metadata": {},
   "outputs": [
    {
     "data": {
      "text/plain": [
       "[(1, 'Anthony', 'Marketing', 2300),\n",
       " (2, 'Detelina', 'Marketing', 2200),\n",
       " (3, 'Samuel', 'Marketing', 1500),\n",
       " (4, 'Toby', 'Operations', 1750),\n",
       " (5, 'Kris', 'Operations', 1800),\n",
       " (6, 'Daniel', 'Operations', 1900),\n",
       " (7, 'Maria', 'Operations', 2000),\n",
       " (8, 'Pratel', 'Operations', 1850),\n",
       " (9, 'Katya', 'Operations', 1500),\n",
       " (10, 'Simeon', 'Operations', 1800),\n",
       " (11, 'Tanya', 'Operations', 2000),\n",
       " (12, 'Boris', 'Sales', 3200),\n",
       " (13, 'Natalia', 'Sales', 3500),\n",
       " (14, 'Dilyana', 'IT', 2200),\n",
       " (15, 'John', 'IT', 2400),\n",
       " (16, 'Ivan', 'IT', 1800),\n",
       " (17, 'Petko', 'IT', 2700),\n",
       " (18, 'Tobias', 'Finance', 3000),\n",
       " (19, 'Karen', 'Finance', 2800),\n",
       " (20, 'Anelia', 'HR', 2650),\n",
       " (21, 'Mario', 'HR', 2500),\n",
       " (22, 'Anelia', 'HR', 2650),\n",
       " (23, 'Tony', 'Legal', 3100)]"
      ]
     },
     "execution_count": 8,
     "metadata": {},
     "output_type": "execute_result"
    }
   ],
   "source": [
    "result = cursor.execute(\"select * from emp\")\n",
    "result.fetchall()"
   ]
  },
  {
   "cell_type": "code",
   "execution_count": 9,
   "id": "515aa84b-a015-4de8-89fe-ee33b49992bf",
   "metadata": {},
   "outputs": [],
   "source": [
    "conn.close()"
   ]
  },
  {
   "cell_type": "code",
   "execution_count": null,
   "id": "251346a2-7a8a-4767-9500-361bd0de4329",
   "metadata": {},
   "outputs": [],
   "source": []
  }
 ],
 "metadata": {
  "kernelspec": {
   "display_name": "Python 3 (ipykernel)",
   "language": "python",
   "name": "python3"
  },
  "language_info": {
   "codemirror_mode": {
    "name": "ipython",
    "version": 3
   },
   "file_extension": ".py",
   "mimetype": "text/x-python",
   "name": "python",
   "nbconvert_exporter": "python",
   "pygments_lexer": "ipython3",
   "version": "3.11.6"
  }
 },
 "nbformat": 4,
 "nbformat_minor": 5
}
