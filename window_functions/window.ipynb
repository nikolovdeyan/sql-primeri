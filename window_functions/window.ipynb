{
 "cells": [
  {
   "cell_type": "markdown",
   "id": "033be9e7-12e0-4797-8a6e-996470075351",
   "metadata": {},
   "source": [
    "# Window Functions\n",
    "\n",
    "This is an in-depth guide on window functions' syntax, rules, and usage. It is mostly based on the great talks of Bruce Momjian, and is intended to be used as a reference when window functions are required.\n",
    "\n",
    "## ToC\n",
    "+ [Window Functions Definition](#Definition)\n",
    "+ [Usage](#Usage)\n",
    "+ [Window Syntax](#Window-Syntax)\n",
    "+ [Window Specific Functions](#Window-Specific-Functions)\n",
    "+ [Examples](#Examples)"
   ]
  },
  {
   "cell_type": "markdown",
   "id": "2401c974-3c5c-4e20-9dc6-9dad397d4a10",
   "metadata": {},
   "source": [
    "\n",
    "\n",
    "## Definition\n",
    "\n",
    "> In SQL a window function or analytic function is a function which uses values from one or multiple rows to return a value for each row.\n",
    "\n",
    "- **Each row remains a separate identity**. While aggregate functions cause rows to become grouped into a single output row, window functions do not.\n",
    "- `GROUP BY` can be used with aggregate functions. Window functions can be used with aggregate, ranking, and analytics functions"
   ]
  },
  {
   "cell_type": "markdown",
   "id": "5d04b0ae-c635-4fcc-9615-c4319bc90142",
   "metadata": {},
   "source": [
    "## Usage\n",
    "\n",
    "Window functions can be used to answer a wide range of analytical questions:\n",
    "\n",
    "1. Ranking and Ordering:\n",
    "    - What is the rank of each item within its category?\n",
    "    - How do the sales of each product compare to others in the same period?\n",
    "\n",
    "1. Running Totals and Aggregations:\n",
    "    - What is the cumulative total of sales for each day?\n",
    "    - How does the running average of a variable change over time\n",
    "1. Comparisons and Percentiles:\n",
    "    - What percentage of customers contribute to the top 80% of total revenue?\n",
    "    - How does each employee's sales performance compare to their team average\n",
    "1. Lead and Lag Analysis:\n",
    "    - What is the difference in revenue between consecutive months?\n",
    "    - Which products are gaining or losing market share over time\n",
    "1. Time-based Analysis:\n",
    "    - What is the rolling average of stock prices for the last 7 days?\n",
    "    - How does the current value compare to the historical average at the same point in time\n",
    "1. Cumulative Sums with Conditions:\n",
    "    - What is the cumulative sales for each product, but reset the total for each new month?\n",
    "    - How many consecutive days has a user been active, considering gaps of up to 2 days\n",
    "1. Top-N Analysis:\n",
    "    - What are the top 5 products with the highest sales in each category?\n",
    "    - Who are the top-performing employees in each department\n",
    "1. Window Frame Analysis:\n",
    "    - What is the average temperature for each day, considering the previous 3 days?\n",
    "    - Which customers had a consecutive streak of purchases lasting at least 5 days\n",
    "1. Percent Change and Growth Rates:\n",
    "    - What is the month-over-month growth rate of revenue?\n",
    "    - How does the sales performance of each region change compared to the previous year\n",
    "1. Distribution Analysis:\n",
    "    - What is the percentile rank of each employee's sales performance within the company?\n",
    "    - How does the distribution of product prices vary within each category\n",
    "1. First and Last Values:\n",
    "    - What is the first purchase date for each customer?\n",
    "    - What is the latest status of each project\n",
    "1. Handling Ties:\n",
    "    - How to handle tied ranks when calculating percentiles or assigning ranks?\n",
    "    - What is the strategy for breaking ties in ordering?"
   ]
  },
  {
   "cell_type": "markdown",
   "id": "24cd4e9d-08d6-40f6-9846-89977730d8fd",
   "metadata": {},
   "source": [
    "## Window Syntax\n",
    "\n",
    "\n",
    "### Window Definition\n",
    "+ Consists of three parts, all optional:\n",
    "  - partition part: dividing the result set into smaller windows (partitions)\n",
    "  - order by part\n",
    "  - frame part:  defining a set of rows within a partition\n",
    "\n",
    "``` postgresql\n",
    "func(expression) { OVER | WINDOW alias AS } (\n",
    "    [PARTITION BY ...]\n",
    "    [ORDER BY ...]\n",
    "    [\n",
    "        { RANGE | ROWS | GROUPS }\n",
    "        { frame_start | BETWEEN frame_start and frame_end } [ frame_exclusion ]\n",
    "    ]\n",
    ")\n",
    "```\n",
    "`func` can be one of the aggregate functions or one of the window-specific functions.\n",
    "\n",
    "`frame_start` and `frame_end` can be:\n",
    "- `UNBOUNDED PRECEDING`\n",
    "- `offset PRECEDING`\n",
    "- `CURRENT ROW`\n",
    "- `offset FOLLOWING`\n",
    "- `UNBOUNDED FOLLOWING`\n",
    "\n",
    "`frame_exclusion` can be:\n",
    "- `EXCLUDE CURRENT ROW`\n",
    "- `EXCLUDE GROUP`\n",
    "- `EXCLUDE TIES`\n",
    "- `EXCLUDE NO OTHERS`"
   ]
  },
  {
   "cell_type": "markdown",
   "id": "69cdd3a1-639d-425a-a020-87935694df59",
   "metadata": {},
   "source": [
    "### The Default Window Clause\n",
    "``` postgresql\n",
    "OVER()\n",
    "```\n",
    "which is the same as:\n",
    "``` postgresql\n",
    "OVER(RANGE BETWEEN UNBOUNDED PRECEDING AND CURRENT ROW)\n",
    "```\n",
    "+ The set is a single partition (No `PARTITION BY`)\n",
    "+ The set is unordered (All rows are peers of `CURRENT ROW`)\n",
    "+ All frame rows are processed (No `EXCLUDE` clause)\n",
    "+ `CURRENT ROW` inclides all peers (`RANGE` mode, not `ROWS`)"
   ]
  },
  {
   "cell_type": "markdown",
   "id": "5a753277-3a9e-42d8-8cbd-c26936ea3f17",
   "metadata": {},
   "source": [
    "### Terms\n",
    "\n",
    "+ **Window**: The set of rows within the result set that the window function operates on. It defines the scope of the calculation performed by the window function. The window is determined by the combination of the `PARTITION BY` and `ORDER BY` clauses in the window function.\n",
    "+ **Partition**: A partition is a way to divide the result set into smaller groups, where the window function will be independently applied to each partition. It is determined by the `PARTITION BY` clause.\n",
    "+ **Window Frame**: The set of rows within a partition that is used by the window function. It is determined by the `ORDER BY` clause within the window function and specifies the range of rows relative to the current row that should be included in the calculation.\n",
    "+ **`RANGE`** versus **`ROWS`**: Both are used to define the range of rows to include in the window frame, but they operate in slightly different ways:\n",
    "    - `ROWS`: Specifies the number of physical offset of rows from the current row to include in the window frame.\n",
    "    - `RANGE`: Specifies a range of values rather than a fixed number of physical rows. It is defined by the values in the order specified in the `ORDER BY` clause.\n",
    "    - **Handling of ties**: `ROWS` is based on the physical position of rows, so it doesn't consider ties in the ordering column. `RANGE` is based on the values of the ordering column, so it considers ties and includes all rows with the same value.\n",
    "    - **Handling of duplicate values**: `ROWS` operates on a fixed number of rows, irrespective of the values in the ordering column. `RANGE` considers the actual values and includes rows with the same value within the specified range.\n",
    "+ **Peer Rows**: Rows that share the same values in the columns specified in the `ORDER BY` clause. "
   ]
  },
  {
   "cell_type": "markdown",
   "id": "4895afa6-62ea-4074-b1e9-a5c6f751bd48",
   "metadata": {},
   "source": [
    "## Window-Specific Functions\n",
    "\n",
    "+ [`ROW_NUMBER`](#ROW_NUMBER)\n",
    "+ [`LAG`](#LAG)\n",
    "+ [`LEAD`](#LEAD)\n",
    "+ [`FIRST_VALUE`](#FIRST_VALUE)\n",
    "+ [`LAST_VALUE`](#LAST_VALUE)\n",
    "+ [`NTH_VALUE`](#NTH_VALUE)\n",
    "+ [`RANK`](#RANK)\n",
    "+ [`DENSE_RANK`](#DENSE_RANK)\n",
    "+ [`PERCENT_RANK`](#PERCENT_RANK)\n",
    "+ [`CUME_DIST`](#CUME_DIST)\n",
    "+ [`NTILE`](#NTILE)"
   ]
  },
  {
   "cell_type": "markdown",
   "id": "f8932233-457d-42a2-9d52-63b69458761b",
   "metadata": {},
   "source": [
    "### `ROW_NUMBER`\n",
    "\n",
    "+ Assigns a sequential integer number to each row in the query's result set.\n",
    "+ Takes no arguments and operates on partitions, not window frames.\n",
    "\n",
    "\n",
    "#### Useful for\n",
    "+ Assigning sequential numbers to a result set. Sometimes it is as simple as that.\n",
    "+ Pagination: By assigning each row a sequential number, rows can be filtered by that value.\n",
    "+ Finding the n-th highest value per group.\n",
    "+ Finding the top-n values per group.\n",
    "+ Finding duplicate rows: By partitioning over the attribute and then querying for rows with a row number > 1\n",
    "\n",
    "#### Example: `ROW_NUMBER` over the entire set\n",
    "``` sql\n",
    "SELECT x, ROW_NUMBER() OVER w\n",
    "FROM generate_1_to_5_x2\n",
    "WINDOW w AS ();\n",
    "```\n",
    "\n",
    "```\n",
    " x | row_number\n",
    "---+------------\n",
    " 1 |          1\n",
    " 1 |          2\n",
    " 2 |          3\n",
    " 2 |          4\n",
    " 3 |          5\n",
    " 3 |          6\n",
    " 4 |          7\n",
    " 4 |          8\n",
    " 5 |          9\n",
    " 5 |         10\n",
    "```\n",
    "\n",
    "#### Example: `ROW_NUMBER` over partitioned set\n",
    "``` sql\n",
    "SELECT x, ROW_NUMBER() OVER w\n",
    "FROM generate_1_to_5_x2\n",
    "WINDOW w AS (PARTITION BY x);\n",
    "```\n",
    "\n",
    "```\n",
    " x | row_number\n",
    "---+------------\n",
    " 1 |          1\n",
    " 1 |          2\n",
    " 2 |          1\n",
    " 2 |          2\n",
    " 3 |          1\n",
    " 3 |          2\n",
    " 4 |          1\n",
    " 4 |          2\n",
    " 5 |          1\n",
    " 5 |          2\n",
    "```"
   ]
  },
  {
   "cell_type": "markdown",
   "id": "9cb746c3-1350-41b7-8959-7f241d0527a9",
   "metadata": {},
   "source": [
    "### `LAG`\n",
    "\n",
    "+ Provides access to a row at a specified physical offset which comes before the current row.\n",
    "\n",
    "#### Useful for\n",
    "+ Calculating the difference between the current row and a previous one.\n",
    "\n",
    "#### Example: `LAG`\n",
    "``` sql\n",
    "SELECT x, LAG(x, 1) OVER w\n",
    "FROM generate_1_to_5_x2\n",
    "WINDOW w AS (ORDER BY x);\n",
    "```\n",
    "\n",
    "```\n",
    " x | row_number\n",
    "---+------------\n",
    " 1 |     (null)\n",
    " 1 |          1\n",
    " 2 |          1\n",
    " 2 |          2\n",
    " 3 |          2\n",
    " 3 |          3\n",
    " 4 |          3\n",
    " 4 |          4\n",
    " 5 |          4\n",
    " 5 |          5\n",
    "```\n"
   ]
  },
  {
   "cell_type": "markdown",
   "id": "83793684-ea93-4087-baa8-08e0ad7b9f25",
   "metadata": {},
   "source": [
    "## Tutorial\n",
    "\n",
    "This section mostly follows Bruce Momjian's [great presentation](https://momjian.us/main/writings/pgsql/window.pdf) explaining window functions."
   ]
  },
  {
   "cell_type": "markdown",
   "id": "005c9bd5-f348-40b1-9195-e6ee62ed60f9",
   "metadata": {},
   "source": [
    "### Tutorial Table #1\n",
    "\n",
    "Generate a set containing the numbers from 1 to 10:\n",
    "\n",
    "``` postgresql\n",
    "SELECT * FROM generate_series(1, 10) AS f(x)\n",
    "```\n",
    "\n",
    "```\n",
    " x \n",
    "---\n",
    " 1 \n",
    " 2 \n",
    " 3 \n",
    " 4 \n",
    " 5 \n",
    " 6 \n",
    " 7 \n",
    " 8 \n",
    " 9 \n",
    "10 \n",
    "```"
   ]
  },
  {
   "cell_type": "markdown",
   "id": "47d83abd-46c1-428b-a73c-5f5c40cc9fde",
   "metadata": {},
   "source": [
    "### The Simplest Window Function\n",
    "\n",
    "``` postgresql\n",
    "SELECT x, SUM(x) OVER ()\n",
    "FROM generate_series(1, 10) AS f(x);\n",
    "```\n",
    "\n",
    "```\n",
    " x | sum\n",
    "---+-----\n",
    " 1 |  55\n",
    " 2 |  55\n",
    " 3 |  55\n",
    " 4 |  55\n",
    " 5 |  55\n",
    " 6 |  55\n",
    " 7 |  55\n",
    " 8 |  55\n",
    " 9 |  55\n",
    "10 |  55\n",
    "```"
   ]
  },
  {
   "cell_type": "markdown",
   "id": "420c6cda-d4b7-44de-abf4-1f84fd76895e",
   "metadata": {},
   "source": [
    "### Two `OVER` Clauses\n",
    "\n",
    "``` postgresql\n",
    "SELECT x, COUNT(x) OVER (), SUM(x) OVER ()\n",
    "FROM generate_series(1, 10) AS f(x);\n",
    "```\n",
    "\n",
    "```\n",
    " x | count | sum\n",
    "---+-------+-----\n",
    " 1 |  10   |  55\n",
    " 2 |  10   |  55\n",
    " 3 |  10   |  55\n",
    " 4 |  10   |  55\n",
    " 5 |  10   |  55\n",
    " 6 |  10   |  55\n",
    " 7 |  10   |  55\n",
    " 8 |  10   |  55\n",
    " 9 |  10   |  55\n",
    "10 |  10   |  55\n",
    "```"
   ]
  },
  {
   "cell_type": "markdown",
   "id": "19179bd7-5362-4385-8688-a2ec9ce00538",
   "metadata": {},
   "source": [
    "### Presented as a `WINDOW` Clause\n",
    "\n",
    "``` postgresql\n",
    "SELECT x, COUNT(x) OVER w, SUM(x) OVER w\n",
    "FROM generate_series(1, 10) AS f(x)\n",
    "WINDOW w AS ();\n",
    "```\n",
    "\n",
    "```\n",
    " x | count | sum\n",
    "---+-------+-----\n",
    " 1 |  10   |  55\n",
    " 2 |  10   |  55\n",
    " 3 |  10   |  55\n",
    " 4 |  10   |  55\n",
    " 5 |  10   |  55\n",
    " 6 |  10   |  55\n",
    " 7 |  10   |  55\n",
    " 8 |  10   |  55\n",
    " 9 |  10   |  55\n",
    "10 |  10   |  55\n",
    "```\n",
    "\n",
    "This is the same as the following:\n",
    "``` postgresql\n",
    "SELECT x, COUNT(x) OVER w, SUM(x) OVER w\n",
    "FROM generate_series(1, 10) AS f(x)\n",
    "WINDOW w AS (RANGE BETWEEN UNBOUNDED PRECEDING AND CURRENT ROW);\n",
    "```\n",
    "\n",
    "If `ORDER BY` is not provided the default order is undefined. In this case, the concept of the current row becomes ambiguous, because there is no  specified order to determine which row is considered current. Therefore the window frame is essentially the entire partition defined by the `PARTITION BY` clause (or the entire result set if there's no `PARTITION BY` clause). The window function operates on all rows within the partition without considering any specific order."
   ]
  },
  {
   "cell_type": "markdown",
   "id": "4fa229e6-adf6-40ef-ae40-bd25b87146c6",
   "metadata": {},
   "source": [
    "### `ROWS` Instead of `RANGE`\n",
    "\n",
    "``` postgresql\n",
    "SELECT x, COUNT(x) OVER w, SUM(x) OVER w\n",
    "FROM generate_series(1, 10) AS f(x)\n",
    "WINDOW w AS (ROWS BETWEEN UNBOUNDED PRECEDING AND CURRENT ROW);\n",
    "```\n",
    "\n",
    "```\n",
    " x | count | sum\n",
    "\n",
    "---+-------+-----\n",
    " 1 |   1   |   1\n",
    " 2 |   2   |   3\n",
    " 3 |   3   |   6\n",
    " 4 |   4   |  10\n",
    " 5 |   5   |  15\n",
    " 6 |   6   |  21\n",
    " 7 |   7   |  28\n",
    " 8 |   8   |  36\n",
    " 9 |   9   |  45\n",
    "10 |  10   |  55\n",
    "```\n",
    "\n",
    "The default will produce the same result, because the default end frame is `CURRENT ROW`:\n",
    "``` postgresql\n",
    "SELECT x, COUNT(x) OVER w, SUM(x) OVER w\n",
    "FROM generate_series(1, 10) AS f(x)\n",
    "WINDOW w AS (ROWS UNBOUNDED PRECEDING);\n",
    "```"
   ]
  },
  {
   "cell_type": "markdown",
   "id": "6007103a-7d59-4c38-968c-c1065039ca70",
   "metadata": {},
   "source": [
    "### `RANGE` with `ORDER BY`\n",
    "\n",
    "``` postgresql\n",
    "SELECT x, COUNT(x) OVER w, SUM(x) OVER w\n",
    "FROM generate_series(1, 10) AS f(x)\n",
    "WINDOW w AS (ORDER BY x);\n",
    "```\n",
    "\n",
    "```\n",
    " x | count | sum\n",
    "---+-------+-----\n",
    " 1 |   1   |   1\n",
    " 2 |   2   |   3\n",
    " 3 |   3   |   6\n",
    " 4 |   4   |  10\n",
    " 5 |   5   |  15\n",
    " 6 |   6   |  21\n",
    " 7 |   7   |  28\n",
    " 8 |   8   |  36\n",
    " 9 |   9   |  45\n",
    "10 |  10   |  55\n",
    "```\n",
    "\n",
    "`CURRENT ROW` peers are rows with equal values for `ORDER BY` columns, or all partition rows if `ORDER BY` is not specified.\n",
    "\n",
    "The above will produce the same result if the default frame is explicitly specified:\n",
    "```postgresql\n",
    "(ORDER BY x RANGE BETWEEN UNBOUNDED PRECEDING AND CURRENT ROW)\n",
    "```"
   ]
  },
  {
   "cell_type": "markdown",
   "id": "8dddeb44-fc88-4e17-add0-89f45cbe4c3d",
   "metadata": {},
   "source": [
    "### `UNBOUNDED FOLLOWING`\n",
    "\n",
    "``` postgresql\n",
    "SELECT x, COUNT(x) OVER w, SUM(x) OVER w\n",
    "FROM generate_series(1, 10) AS f(x)\n",
    "WINDOW w AS (ROWS BETWEEN CURRENT ROW AND UNBOUNDED FOLLOWING);\n",
    "```\n",
    "\n",
    "```\n",
    " x | count | sum\n",
    "---+-------+-----\n",
    " 1 |  10   |  55\n",
    " 2 |   9   |  54\n",
    " 3 |   8   |  52\n",
    " 4 |   7   |  49\n",
    " 5 |   6   |  45\n",
    " 6 |   5   |  40\n",
    " 7 |   4   |  34\n",
    " 8 |   3   |  27\n",
    " 9 |   2   |  19\n",
    "10 |   1   |  10\n",
    "```\n"
   ]
  },
  {
   "cell_type": "markdown",
   "id": "0c4dfd74-fe63-4d82-b143-381969952c80",
   "metadata": {},
   "source": [
    "### `PRECEDING`\n",
    "\n",
    "``` postgresql\n",
    "SELECT x, COUNT(x) OVER w, SUM(x) OVER w\n",
    "FROM generate_series(1, 10) AS f(x)\n",
    "WINDOW w AS (ROWS BETWEEN 1 PRECEDING AND CURRENT ROW);\n",
    "```\n",
    "\n",
    "```\n",
    " x | count | sum\n",
    "---+-------+-----\n",
    " 1 |   1   |   1\n",
    " 2 |   2   |   3\n",
    " 3 |   2   |   5\n",
    " 4 |   2   |   7\n",
    " 5 |   2   |   9\n",
    " 6 |   2   |  11\n",
    " 7 |   2   |  13\n",
    " 8 |   2   |  15\n",
    " 9 |   2   |  17\n",
    "10 |   2   |  19\n",
    "```\n",
    "\n",
    " `PRECEDING` ignores nonexistent rows; they are not `NULL`s. In `RANGE` mode, offset `PRECEDING`/`FOLLOWING` includes peer groups with values plus/minus offset of the current peer's value.\n"
   ]
  },
  {
   "cell_type": "markdown",
   "id": "8eb40829-9ca2-4a30-bded-708293f40535",
   "metadata": {},
   "source": [
    "### `FOLLOWING`\n",
    "\n",
    "``` postgresql\n",
    "SELECT x, COUNT(x) OVER w, SUM(x) OVER w\n",
    "FROM generate_series(1, 10) AS f(x)\n",
    "WINDOW w AS (ROWS BETWEEN CURRENT ROW AND 1 FOLLOWING);\n",
    "```\n",
    "\n",
    "```\n",
    " x | count | sum\n",
    "---+-------+-----\n",
    " 1 |   2   |   3\n",
    " 2 |   2   |   5\n",
    " 3 |   2   |   7\n",
    " 4 |   2   |   9\n",
    " 5 |   2   |  11\n",
    " 6 |   2   |  13\n",
    " 7 |   2   |  15\n",
    " 8 |   2   |  17\n",
    " 9 |   2   |  19\n",
    "10 |   1   |  10\n",
    "```\n",
    "\n",
    " `PRECEDING` ignores nonexistent rows; they are not `NULL`s. In `RANGE` mode, offset `PRECEDING`/`FOLLOWING` includes peer groups with values plus/minus offset of the current peer's value."
   ]
  },
  {
   "cell_type": "markdown",
   "id": "ef6350ae-f6e9-420a-bef3-b8c3c31f5d65",
   "metadata": {},
   "source": [
    "### `CURRENT ROW` Only\n",
    "\n",
    "``` postgresql\n",
    "SELECT x, COUNT(x) OVER w, SUM(x) OVER w\n",
    "FROM generate_series(1, 10) AS f(x)\n",
    "WINDOW w AS (ORDER BY x RANGE CURRENT ROW);\n",
    "```\n",
    "\n",
    "```\n",
    " x | count | sum\n",
    "---+-------+-----\n",
    " 1 |   1   |   1\n",
    " 2 |   1   |   2\n",
    " 3 |   1   |   3\n",
    " 4 |   1   |   4\n",
    " 5 |   1   |   5\n",
    " 6 |   1   |   6\n",
    " 7 |   1   |   7\n",
    " 8 |   1   |   8\n",
    " 9 |   1   |   9\n",
    "10 |   1   |  10\n",
    "```\n",
    "\n",
    "Same as `(ROWS CURRENT ROW)`"
   ]
  },
  {
   "cell_type": "markdown",
   "id": "be80ed05-1d4d-4017-a292-e46d6687b23f",
   "metadata": {},
   "source": [
    "### Tutorial Table #2\n",
    "\n",
    "The next table contains duplicates.\n",
    "\n",
    "``` postgresql\n",
    "CREATE TABLE generate_1_to_5_x2 AS\n",
    "    SELECT ceil(x/2.0) AS x\n",
    "    FROM generate_series(1, 10) AS f(x);\n",
    "\n",
    "SELECT * FROM generate_1_to_5_x2;\n",
    "```\n",
    "\n",
    "```\n",
    " x \n",
    "---\n",
    " 1 \n",
    " 1 \n",
    " 2 \n",
    " 2 \n",
    " 3 \n",
    " 3 \n",
    " 4 \n",
    " 4 \n",
    " 5 \n",
    " 5 \n",
    "```"
   ]
  },
  {
   "cell_type": "markdown",
   "id": "7fb29300-e751-47f9-ad34-8219a5e358aa",
   "metadata": {},
   "source": [
    "### Empty `WINDOW` is the Same\n",
    "\n",
    "``` postgresql\n",
    "SELECT x, COUNT(x) OVER w, SUM(x) OVER w\n",
    "FROM generate_1_to_5_x2\n",
    "WINDOW w AS ()\n",
    "```\n",
    "\n",
    "```\n",
    " x | count | sum\n",
    "---+-------+-----\n",
    " 1 |    10 |  30\n",
    " 1 |    10 |  30\n",
    " 2 |    10 |  30\n",
    " 2 |    10 |  30\n",
    " 3 |    10 |  30\n",
    " 3 |    10 |  30\n",
    " 4 |    10 |  30\n",
    " 4 |    10 |  30\n",
    " 5 |    10 |  30\n",
    " 5 |    10 |  30\n",
    "```"
   ]
  },
  {
   "cell_type": "markdown",
   "id": "c5cc8679-26f0-4d85-b2ed-14dd7961ad9d",
   "metadata": {},
   "source": [
    "### `RANGE` With Duplicates\n",
    "\n",
    "``` postgresql\n",
    "SELECT x, COUNT(x) OVER w, SUM(x) OVER w\n",
    "FROM generate_1_to_5_x2\n",
    "WINDOW w AS (ORDER BY x);\n",
    "```\n",
    "\n",
    "```\n",
    " x | count | sum\n",
    "---+-------+-----\n",
    " 1 |     2 |   2\n",
    " 1 |     2 |   2\n",
    " 2 |     4 |   6\n",
    " 2 |     4 |   6\n",
    " 3 |     6 |  12\n",
    " 3 |     6 |  12\n",
    " 4 |     8 |  20\n",
    " 4 |     8 |  20\n",
    " 5 |    10 |  30\n",
    " 5 |    10 |  30\n",
    "```\n",
    "\n",
    "This is the same as\n",
    "``` postgresql\n",
    "(ORDER BY x RANGE BETWEEN UNBOUNDED PRECEDING AND CURRENT ROW)\n",
    "```\n",
    "\n",
    "Since the `CURRENT ROW` in `RANGE` mode means all peers having the same value, we get the result above."
   ]
  },
  {
   "cell_type": "markdown",
   "id": "52ab848f-b651-415d-828b-3c089cc5a4cf",
   "metadata": {},
   "source": [
    "### `RANGE` On `CURRENT ROW`\n",
    "\n",
    "``` postgresql\n",
    "SELECT x, COUNT(x) OVER w, SUM(x) OVER w\n",
    "FROM generate_1_to_5_x2\n",
    "WINDOW w AS (ORDER BY x RANGE CURRENT ROW);\n",
    "```\n",
    "\n",
    "```\n",
    " x | count | sum\n",
    "---+-------+-----\n",
    " 1 |     2 |   2\n",
    " 1 |     2 |   2\n",
    " 2 |     2 |   4\n",
    " 2 |     2 |   4\n",
    " 3 |     2 |   6\n",
    " 3 |     2 |   6\n",
    " 4 |     2 |   8\n",
    " 4 |     2 |   8\n",
    " 5 |     2 |  10\n",
    " 5 |     2 |  10\n",
    "```\n",
    "\n",
    "Range `CURRENT ROW TO CURRENT ROW` here actually means the range from the first row that has the same value to the last row that has the same value."
   ]
  },
  {
   "cell_type": "markdown",
   "id": "4b10435c-99bb-4058-8554-69736fc6b8ba",
   "metadata": {},
   "source": [
    "### `PARTITION BY`\n",
    "\n",
    "``` postgresql\n",
    "SELECT x, COUNT(x) OVER w, SUM(x) OVER w\n",
    "FROM generate_1_to_5_x2\n",
    "WINDOW w AS (PARTITION BY x);\n",
    "```\n",
    "\n",
    "```\n",
    " x | count | sum\n",
    "---+-------+-----\n",
    " 1 |     2 |   2\n",
    " 1 |     2 |   2\n",
    " 2 |     2 |   4\n",
    " 2 |     2 |   4\n",
    " 3 |     2 |   6\n",
    " 3 |     2 |   6\n",
    " 4 |     2 |   8\n",
    " 4 |     2 |   8\n",
    " 5 |     2 |  10\n",
    " 5 |     2 |  10\n",
    "```\n",
    "\n",
    "The results are the same as `RANGE CURRENT ROW` because the partition matches the window frame.\n"
   ]
  },
  {
   "cell_type": "markdown",
   "id": "f4597da0-d853-4656-8c75-256d894391b2",
   "metadata": {},
   "source": [
    "### `PARTITION BY` A Better Example\n",
    "\n",
    "``` postgresql\n",
    "SELECT x, COUNT(x) OVER w, SUM(x) OVER w\n",
    "FROM generate_1_to_5_x2\n",
    "WINDOW w AS (PARTITION BY x >= 3);\n",
    "```\n",
    "\n",
    "```\n",
    " x | count | sum\n",
    "---+-------+-----\n",
    " 1 |     4 |   6\n",
    " 1 |     4 |   6\n",
    " 2 |     4 |   6\n",
    " 2 |     4 |   6\n",
    " 3 |     6 |  24\n",
    " 3 |     6 |  24\n",
    " 4 |     6 |  24\n",
    " 4 |     6 |  24\n",
    " 5 |     6 |  24\n",
    " 5 |     6 |  24\n",
    "```\n",
    "\n"
   ]
  },
  {
   "cell_type": "markdown",
   "id": "1fab47e4-3236-4e37-95d9-4d79fe29c35a",
   "metadata": {},
   "source": [
    "### `PARTITION BY` Plus `ORDER BY`\n",
    "\n",
    "``` postgresql\n",
    "SELECT x, COUNT(x) OVER w, SUM(x) OVER w\n",
    "FROM generate_1_to_5_x2\n",
    "WINDOW w AS (PARTITION BY x >= 3 ORDER BY x);\n",
    "```\n",
    "\n",
    "```\n",
    " x | count | sum\n",
    "---+-------+-----\n",
    " 1 |     2 |   2\n",
    " 1 |     2 |   2\n",
    " 2 |     4 |   6\n",
    " 2 |     4 |   6\n",
    " 3 |     2 |   6\n",
    " 3 |     2 |   6\n",
    " 4 |     4 |  14\n",
    " 4 |     4 |  14\n",
    " 5 |     6 |  24\n",
    " 5 |     6 |  24\n",
    "```\n",
    "\n",
    "Again, using `ORDER BY` enables `RANGE` mode to view rows with same values as peer rows, because the window clause is the same as the following:\n",
    "``` postgresql\n",
    "(PARTITION BY x >= 3 ORDER BY x RANGE BETWEEN UNBOUNDED PRECEDING AND CURRENT ROW)\n",
    "```"
   ]
  },
  {
   "cell_type": "markdown",
   "id": "f34c1df4-55e6-4961-9cef-0fec723fd81d",
   "metadata": {},
   "source": [
    "### `ROWS`\n",
    "\n",
    "``` postgresql\n",
    "SELECT x, COUNT(x) OVER w, SUM(x) OVER w\n",
    "FROM generate_1_to_5_x2\n",
    "WINDOW w AS (PARTITION BY x >= 3 ORDER BY x\n",
    "             ROWS BETWEEN UNBOUNDED PRECEDING AND CURRENT ROW);\n",
    "```\n",
    "\n",
    "```\n",
    " x | count | sum\n",
    "---+-------+-----\n",
    " 1 |     1 |   1\n",
    " 1 |     2 |   2\n",
    " 2 |     3 |   4\n",
    " 2 |     4 |   6\n",
    " 3 |     1 |   3\n",
    " 3 |     2 |   6\n",
    " 4 |     3 |  10\n",
    " 4 |     4 |  14\n",
    " 5 |     5 |  19\n",
    " 5 |     6 |  24\n",
    "```"
   ]
  },
  {
   "cell_type": "markdown",
   "id": "332d2ce0-f260-43ef-a088-9451b339065e",
   "metadata": {},
   "source": []
  },
  {
   "cell_type": "markdown",
   "id": "3a50af8f-857e-4e06-8603-b876df71dcc3",
   "metadata": {},
   "source": []
  },
  {
   "cell_type": "markdown",
   "id": "742241be-15f4-4409-b3dc-3c47127c5ddd",
   "metadata": {},
   "source": [
    "## Examples"
   ]
  },
  {
   "cell_type": "code",
   "execution_count": 154,
   "id": "26385e57-9301-4afb-90c0-156e4d48b5e4",
   "metadata": {},
   "outputs": [],
   "source": [
    "import sqlite3\n",
    "from tabulate import tabulate"
   ]
  },
  {
   "cell_type": "code",
   "execution_count": 155,
   "id": "76e7c14b-2fdb-4044-b6fc-785064e2bce7",
   "metadata": {},
   "outputs": [],
   "source": [
    "conn = sqlite3.connect('window.db')\n",
    "cursor = conn.cursor()"
   ]
  },
  {
   "cell_type": "markdown",
   "id": "b5e32e96-36c2-429d-9ce2-d7a1325e4c09",
   "metadata": {},
   "source": [
    "### Example table overview"
   ]
  },
  {
   "cell_type": "code",
   "execution_count": 156,
   "id": "fa46b442-3b6c-4da0-89cc-9335ec3361e8",
   "metadata": {},
   "outputs": [
    {
     "data": {
      "text/html": [
       "<table>\n",
       "<tbody>\n",
       "<tr><td style=\"text-align: right;\"> 1</td><td>Anthony </td><td>Marketing </td><td style=\"text-align: right;\">2300</td></tr>\n",
       "<tr><td style=\"text-align: right;\"> 2</td><td>Detelina</td><td>Marketing </td><td style=\"text-align: right;\">2200</td></tr>\n",
       "<tr><td style=\"text-align: right;\"> 3</td><td>Samuel  </td><td>Marketing </td><td style=\"text-align: right;\">1500</td></tr>\n",
       "<tr><td style=\"text-align: right;\"> 4</td><td>Toby    </td><td>Operations</td><td style=\"text-align: right;\">1750</td></tr>\n",
       "<tr><td style=\"text-align: right;\"> 5</td><td>Kris    </td><td>Operations</td><td style=\"text-align: right;\">1800</td></tr>\n",
       "<tr><td style=\"text-align: right;\"> 6</td><td>Daniel  </td><td>Operations</td><td style=\"text-align: right;\">1900</td></tr>\n",
       "<tr><td style=\"text-align: right;\"> 7</td><td>Maria   </td><td>Operations</td><td style=\"text-align: right;\">2000</td></tr>\n",
       "<tr><td style=\"text-align: right;\"> 8</td><td>Pratel  </td><td>Operations</td><td style=\"text-align: right;\">1850</td></tr>\n",
       "<tr><td style=\"text-align: right;\"> 9</td><td>Katya   </td><td>Operations</td><td style=\"text-align: right;\">1500</td></tr>\n",
       "<tr><td style=\"text-align: right;\">10</td><td>Simeon  </td><td>Operations</td><td style=\"text-align: right;\">1800</td></tr>\n",
       "<tr><td style=\"text-align: right;\">11</td><td>Tanya   </td><td>Operations</td><td style=\"text-align: right;\">2000</td></tr>\n",
       "<tr><td style=\"text-align: right;\">12</td><td>Boris   </td><td>Sales     </td><td style=\"text-align: right;\">3200</td></tr>\n",
       "<tr><td style=\"text-align: right;\">13</td><td>Natalia </td><td>Sales     </td><td style=\"text-align: right;\">3500</td></tr>\n",
       "<tr><td style=\"text-align: right;\">14</td><td>Dilyana </td><td>IT        </td><td style=\"text-align: right;\">2200</td></tr>\n",
       "<tr><td style=\"text-align: right;\">15</td><td>John    </td><td>IT        </td><td style=\"text-align: right;\">2400</td></tr>\n",
       "<tr><td style=\"text-align: right;\">16</td><td>Ivan    </td><td>IT        </td><td style=\"text-align: right;\">1800</td></tr>\n",
       "<tr><td style=\"text-align: right;\">17</td><td>Petko   </td><td>IT        </td><td style=\"text-align: right;\">2700</td></tr>\n",
       "<tr><td style=\"text-align: right;\">18</td><td>Tobias  </td><td>Finance   </td><td style=\"text-align: right;\">3000</td></tr>\n",
       "<tr><td style=\"text-align: right;\">19</td><td>Karen   </td><td>Finance   </td><td style=\"text-align: right;\">2800</td></tr>\n",
       "<tr><td style=\"text-align: right;\">20</td><td>Anelia  </td><td>HR        </td><td style=\"text-align: right;\">2650</td></tr>\n",
       "<tr><td style=\"text-align: right;\">21</td><td>Mario   </td><td>HR        </td><td style=\"text-align: right;\">2500</td></tr>\n",
       "<tr><td style=\"text-align: right;\">22</td><td>Anelia  </td><td>HR        </td><td style=\"text-align: right;\">2650</td></tr>\n",
       "<tr><td style=\"text-align: right;\">23</td><td>Tony    </td><td>Legal     </td><td style=\"text-align: right;\">3100</td></tr>\n",
       "</tbody>\n",
       "</table>"
      ],
      "text/plain": [
       "'<table>\\n<tbody>\\n<tr><td style=\"text-align: right;\"> 1</td><td>Anthony </td><td>Marketing </td><td style=\"text-align: right;\">2300</td></tr>\\n<tr><td style=\"text-align: right;\"> 2</td><td>Detelina</td><td>Marketing </td><td style=\"text-align: right;\">2200</td></tr>\\n<tr><td style=\"text-align: right;\"> 3</td><td>Samuel  </td><td>Marketing </td><td style=\"text-align: right;\">1500</td></tr>\\n<tr><td style=\"text-align: right;\"> 4</td><td>Toby    </td><td>Operations</td><td style=\"text-align: right;\">1750</td></tr>\\n<tr><td style=\"text-align: right;\"> 5</td><td>Kris    </td><td>Operations</td><td style=\"text-align: right;\">1800</td></tr>\\n<tr><td style=\"text-align: right;\"> 6</td><td>Daniel  </td><td>Operations</td><td style=\"text-align: right;\">1900</td></tr>\\n<tr><td style=\"text-align: right;\"> 7</td><td>Maria   </td><td>Operations</td><td style=\"text-align: right;\">2000</td></tr>\\n<tr><td style=\"text-align: right;\"> 8</td><td>Pratel  </td><td>Operations</td><td style=\"text-align: right;\">1850</td></tr>\\n<tr><td style=\"text-align: right;\"> 9</td><td>Katya   </td><td>Operations</td><td style=\"text-align: right;\">1500</td></tr>\\n<tr><td style=\"text-align: right;\">10</td><td>Simeon  </td><td>Operations</td><td style=\"text-align: right;\">1800</td></tr>\\n<tr><td style=\"text-align: right;\">11</td><td>Tanya   </td><td>Operations</td><td style=\"text-align: right;\">2000</td></tr>\\n<tr><td style=\"text-align: right;\">12</td><td>Boris   </td><td>Sales     </td><td style=\"text-align: right;\">3200</td></tr>\\n<tr><td style=\"text-align: right;\">13</td><td>Natalia </td><td>Sales     </td><td style=\"text-align: right;\">3500</td></tr>\\n<tr><td style=\"text-align: right;\">14</td><td>Dilyana </td><td>IT        </td><td style=\"text-align: right;\">2200</td></tr>\\n<tr><td style=\"text-align: right;\">15</td><td>John    </td><td>IT        </td><td style=\"text-align: right;\">2400</td></tr>\\n<tr><td style=\"text-align: right;\">16</td><td>Ivan    </td><td>IT        </td><td style=\"text-align: right;\">1800</td></tr>\\n<tr><td style=\"text-align: right;\">17</td><td>Petko   </td><td>IT        </td><td style=\"text-align: right;\">2700</td></tr>\\n<tr><td style=\"text-align: right;\">18</td><td>Tobias  </td><td>Finance   </td><td style=\"text-align: right;\">3000</td></tr>\\n<tr><td style=\"text-align: right;\">19</td><td>Karen   </td><td>Finance   </td><td style=\"text-align: right;\">2800</td></tr>\\n<tr><td style=\"text-align: right;\">20</td><td>Anelia  </td><td>HR        </td><td style=\"text-align: right;\">2650</td></tr>\\n<tr><td style=\"text-align: right;\">21</td><td>Mario   </td><td>HR        </td><td style=\"text-align: right;\">2500</td></tr>\\n<tr><td style=\"text-align: right;\">22</td><td>Anelia  </td><td>HR        </td><td style=\"text-align: right;\">2650</td></tr>\\n<tr><td style=\"text-align: right;\">23</td><td>Tony    </td><td>Legal     </td><td style=\"text-align: right;\">3100</td></tr>\\n</tbody>\\n</table>'"
      ]
     },
     "execution_count": 156,
     "metadata": {},
     "output_type": "execute_result"
    }
   ],
   "source": [
    "result = cursor.execute(\"select * from emp\")\n",
    "tabulate(result.fetchall(), tablefmt=\"html\")"
   ]
  },
  {
   "cell_type": "markdown",
   "id": "5b695af1-581a-434a-b851-4edf1dd75894",
   "metadata": {},
   "source": [
    "#### Each row remains a separate entity when using window functions"
   ]
  },
  {
   "cell_type": "code",
   "execution_count": 157,
   "id": "4ce35669-263a-40c5-8c0c-bf5c3f7101b0",
   "metadata": {},
   "outputs": [
    {
     "data": {
      "text/html": [
       "<table>\n",
       "<tbody>\n",
       "<tr><td>Anelia</td><td style=\"text-align: right;\">2650</td><td style=\"text-align: right;\">7800</td></tr>\n",
       "</tbody>\n",
       "</table>"
      ],
      "text/plain": [
       "'<table>\\n<tbody>\\n<tr><td>Anelia</td><td style=\"text-align: right;\">2650</td><td style=\"text-align: right;\">7800</td></tr>\\n</tbody>\\n</table>'"
      ]
     },
     "execution_count": 157,
     "metadata": {},
     "output_type": "execute_result"
    }
   ],
   "source": [
    "sql_query = \"\"\"\n",
    "SELECT name, salary, SUM(salary)\n",
    "FROM emp\n",
    "WHERE department = \"HR\"\n",
    "GROUP BY department\n",
    "ORDER BY salary DESC;\n",
    "\"\"\"\n",
    "result = cursor.execute(sql_query)\n",
    "tabulate(result.fetchall(), tablefmt=\"html\")"
   ]
  },
  {
   "cell_type": "code",
   "execution_count": 158,
   "id": "8976f540-ce84-4c1f-a12e-646adbfb87fb",
   "metadata": {},
   "outputs": [
    {
     "data": {
      "text/html": [
       "<table>\n",
       "<tbody>\n",
       "<tr><td>Anelia</td><td style=\"text-align: right;\">2650</td><td style=\"text-align: right;\">7800</td></tr>\n",
       "<tr><td>Anelia</td><td style=\"text-align: right;\">2650</td><td style=\"text-align: right;\">7800</td></tr>\n",
       "<tr><td>Mario </td><td style=\"text-align: right;\">2500</td><td style=\"text-align: right;\">7800</td></tr>\n",
       "</tbody>\n",
       "</table>"
      ],
      "text/plain": [
       "'<table>\\n<tbody>\\n<tr><td>Anelia</td><td style=\"text-align: right;\">2650</td><td style=\"text-align: right;\">7800</td></tr>\\n<tr><td>Anelia</td><td style=\"text-align: right;\">2650</td><td style=\"text-align: right;\">7800</td></tr>\\n<tr><td>Mario </td><td style=\"text-align: right;\">2500</td><td style=\"text-align: right;\">7800</td></tr>\\n</tbody>\\n</table>'"
      ]
     },
     "execution_count": 158,
     "metadata": {},
     "output_type": "execute_result"
    }
   ],
   "source": [
    "sql_query = \"\"\"\n",
    "SELECT name, salary, SUM(salary) OVER ()\n",
    "FROM emp\n",
    "WHERE department = \"HR\"\n",
    "ORDER BY salary DESC;\n",
    "\"\"\"\n",
    "result = cursor.execute(sql_query)\n",
    "tabulate(result.fetchall(), tablefmt=\"html\")"
   ]
  },
  {
   "cell_type": "markdown",
   "id": "1463ba28-ec2f-4eda-9fb2-dc80c513c7df",
   "metadata": {},
   "source": [
    "### Over\n"
   ]
  },
  {
   "cell_type": "code",
   "execution_count": 159,
   "id": "859b0adf-058e-4d5f-9f13-e28b9d629c58",
   "metadata": {},
   "outputs": [
    {
     "data": {
      "text/html": [
       "<table>\n",
       "<tbody>\n",
       "<tr><td>Natalia </td><td style=\"text-align: right;\">3500</td><td style=\"text-align: right;\">53100</td></tr>\n",
       "<tr><td>Boris   </td><td style=\"text-align: right;\">3200</td><td style=\"text-align: right;\">53100</td></tr>\n",
       "<tr><td>Tony    </td><td style=\"text-align: right;\">3100</td><td style=\"text-align: right;\">53100</td></tr>\n",
       "<tr><td>Tobias  </td><td style=\"text-align: right;\">3000</td><td style=\"text-align: right;\">53100</td></tr>\n",
       "<tr><td>Karen   </td><td style=\"text-align: right;\">2800</td><td style=\"text-align: right;\">53100</td></tr>\n",
       "<tr><td>Petko   </td><td style=\"text-align: right;\">2700</td><td style=\"text-align: right;\">53100</td></tr>\n",
       "<tr><td>Anelia  </td><td style=\"text-align: right;\">2650</td><td style=\"text-align: right;\">53100</td></tr>\n",
       "<tr><td>Anelia  </td><td style=\"text-align: right;\">2650</td><td style=\"text-align: right;\">53100</td></tr>\n",
       "<tr><td>Mario   </td><td style=\"text-align: right;\">2500</td><td style=\"text-align: right;\">53100</td></tr>\n",
       "<tr><td>John    </td><td style=\"text-align: right;\">2400</td><td style=\"text-align: right;\">53100</td></tr>\n",
       "<tr><td>Anthony </td><td style=\"text-align: right;\">2300</td><td style=\"text-align: right;\">53100</td></tr>\n",
       "<tr><td>Detelina</td><td style=\"text-align: right;\">2200</td><td style=\"text-align: right;\">53100</td></tr>\n",
       "<tr><td>Dilyana </td><td style=\"text-align: right;\">2200</td><td style=\"text-align: right;\">53100</td></tr>\n",
       "<tr><td>Maria   </td><td style=\"text-align: right;\">2000</td><td style=\"text-align: right;\">53100</td></tr>\n",
       "<tr><td>Tanya   </td><td style=\"text-align: right;\">2000</td><td style=\"text-align: right;\">53100</td></tr>\n",
       "<tr><td>Daniel  </td><td style=\"text-align: right;\">1900</td><td style=\"text-align: right;\">53100</td></tr>\n",
       "<tr><td>Pratel  </td><td style=\"text-align: right;\">1850</td><td style=\"text-align: right;\">53100</td></tr>\n",
       "<tr><td>Kris    </td><td style=\"text-align: right;\">1800</td><td style=\"text-align: right;\">53100</td></tr>\n",
       "<tr><td>Simeon  </td><td style=\"text-align: right;\">1800</td><td style=\"text-align: right;\">53100</td></tr>\n",
       "<tr><td>Ivan    </td><td style=\"text-align: right;\">1800</td><td style=\"text-align: right;\">53100</td></tr>\n",
       "<tr><td>Toby    </td><td style=\"text-align: right;\">1750</td><td style=\"text-align: right;\">53100</td></tr>\n",
       "<tr><td>Samuel  </td><td style=\"text-align: right;\">1500</td><td style=\"text-align: right;\">53100</td></tr>\n",
       "<tr><td>Katya   </td><td style=\"text-align: right;\">1500</td><td style=\"text-align: right;\">53100</td></tr>\n",
       "</tbody>\n",
       "</table>"
      ],
      "text/plain": [
       "'<table>\\n<tbody>\\n<tr><td>Natalia </td><td style=\"text-align: right;\">3500</td><td style=\"text-align: right;\">53100</td></tr>\\n<tr><td>Boris   </td><td style=\"text-align: right;\">3200</td><td style=\"text-align: right;\">53100</td></tr>\\n<tr><td>Tony    </td><td style=\"text-align: right;\">3100</td><td style=\"text-align: right;\">53100</td></tr>\\n<tr><td>Tobias  </td><td style=\"text-align: right;\">3000</td><td style=\"text-align: right;\">53100</td></tr>\\n<tr><td>Karen   </td><td style=\"text-align: right;\">2800</td><td style=\"text-align: right;\">53100</td></tr>\\n<tr><td>Petko   </td><td style=\"text-align: right;\">2700</td><td style=\"text-align: right;\">53100</td></tr>\\n<tr><td>Anelia  </td><td style=\"text-align: right;\">2650</td><td style=\"text-align: right;\">53100</td></tr>\\n<tr><td>Anelia  </td><td style=\"text-align: right;\">2650</td><td style=\"text-align: right;\">53100</td></tr>\\n<tr><td>Mario   </td><td style=\"text-align: right;\">2500</td><td style=\"text-align: right;\">53100</td></tr>\\n<tr><td>John    </td><td style=\"text-align: right;\">2400</td><td style=\"text-align: right;\">53100</td></tr>\\n<tr><td>Anthony </td><td style=\"text-align: right;\">2300</td><td style=\"text-align: right;\">53100</td></tr>\\n<tr><td>Detelina</td><td style=\"text-align: right;\">2200</td><td style=\"text-align: right;\">53100</td></tr>\\n<tr><td>Dilyana </td><td style=\"text-align: right;\">2200</td><td style=\"text-align: right;\">53100</td></tr>\\n<tr><td>Maria   </td><td style=\"text-align: right;\">2000</td><td style=\"text-align: right;\">53100</td></tr>\\n<tr><td>Tanya   </td><td style=\"text-align: right;\">2000</td><td style=\"text-align: right;\">53100</td></tr>\\n<tr><td>Daniel  </td><td style=\"text-align: right;\">1900</td><td style=\"text-align: right;\">53100</td></tr>\\n<tr><td>Pratel  </td><td style=\"text-align: right;\">1850</td><td style=\"text-align: right;\">53100</td></tr>\\n<tr><td>Kris    </td><td style=\"text-align: right;\">1800</td><td style=\"text-align: right;\">53100</td></tr>\\n<tr><td>Simeon  </td><td style=\"text-align: right;\">1800</td><td style=\"text-align: right;\">53100</td></tr>\\n<tr><td>Ivan    </td><td style=\"text-align: right;\">1800</td><td style=\"text-align: right;\">53100</td></tr>\\n<tr><td>Toby    </td><td style=\"text-align: right;\">1750</td><td style=\"text-align: right;\">53100</td></tr>\\n<tr><td>Samuel  </td><td style=\"text-align: right;\">1500</td><td style=\"text-align: right;\">53100</td></tr>\\n<tr><td>Katya   </td><td style=\"text-align: right;\">1500</td><td style=\"text-align: right;\">53100</td></tr>\\n</tbody>\\n</table>'"
      ]
     },
     "execution_count": 159,
     "metadata": {},
     "output_type": "execute_result"
    }
   ],
   "source": [
    "sql_query = \"\"\"\n",
    "SELECT \n",
    "    name, \n",
    "    salary, \n",
    "    SUM(salary) OVER ()\n",
    "FROM emp\n",
    "ORDER BY salary DESC;\n",
    "\"\"\"\n",
    "result = cursor.execute(sql_query)\n",
    "tabulate(result.fetchall(), tablefmt=\"html\")"
   ]
  },
  {
   "cell_type": "markdown",
   "id": "654862e6-8ba5-4e52-bba4-2804cc2fc8f9",
   "metadata": {},
   "source": [
    "#### As Percentage"
   ]
  },
  {
   "cell_type": "code",
   "execution_count": 160,
   "id": "00acfec0-d4a0-422e-a8d4-1927cec1011a",
   "metadata": {},
   "outputs": [
    {
     "data": {
      "text/html": [
       "<table>\n",
       "<tbody>\n",
       "<tr><td>Natalia </td><td style=\"text-align: right;\">3500</td><td style=\"text-align: right;\">6.59</td></tr>\n",
       "<tr><td>Boris   </td><td style=\"text-align: right;\">3200</td><td style=\"text-align: right;\">6.03</td></tr>\n",
       "<tr><td>Tony    </td><td style=\"text-align: right;\">3100</td><td style=\"text-align: right;\">5.84</td></tr>\n",
       "<tr><td>Tobias  </td><td style=\"text-align: right;\">3000</td><td style=\"text-align: right;\">5.65</td></tr>\n",
       "<tr><td>Karen   </td><td style=\"text-align: right;\">2800</td><td style=\"text-align: right;\">5.27</td></tr>\n",
       "<tr><td>Petko   </td><td style=\"text-align: right;\">2700</td><td style=\"text-align: right;\">5.08</td></tr>\n",
       "<tr><td>Anelia  </td><td style=\"text-align: right;\">2650</td><td style=\"text-align: right;\">4.99</td></tr>\n",
       "<tr><td>Anelia  </td><td style=\"text-align: right;\">2650</td><td style=\"text-align: right;\">4.99</td></tr>\n",
       "<tr><td>Mario   </td><td style=\"text-align: right;\">2500</td><td style=\"text-align: right;\">4.71</td></tr>\n",
       "<tr><td>John    </td><td style=\"text-align: right;\">2400</td><td style=\"text-align: right;\">4.52</td></tr>\n",
       "<tr><td>Anthony </td><td style=\"text-align: right;\">2300</td><td style=\"text-align: right;\">4.33</td></tr>\n",
       "<tr><td>Detelina</td><td style=\"text-align: right;\">2200</td><td style=\"text-align: right;\">4.14</td></tr>\n",
       "<tr><td>Dilyana </td><td style=\"text-align: right;\">2200</td><td style=\"text-align: right;\">4.14</td></tr>\n",
       "<tr><td>Maria   </td><td style=\"text-align: right;\">2000</td><td style=\"text-align: right;\">3.77</td></tr>\n",
       "<tr><td>Tanya   </td><td style=\"text-align: right;\">2000</td><td style=\"text-align: right;\">3.77</td></tr>\n",
       "<tr><td>Daniel  </td><td style=\"text-align: right;\">1900</td><td style=\"text-align: right;\">3.58</td></tr>\n",
       "<tr><td>Pratel  </td><td style=\"text-align: right;\">1850</td><td style=\"text-align: right;\">3.48</td></tr>\n",
       "<tr><td>Kris    </td><td style=\"text-align: right;\">1800</td><td style=\"text-align: right;\">3.39</td></tr>\n",
       "<tr><td>Simeon  </td><td style=\"text-align: right;\">1800</td><td style=\"text-align: right;\">3.39</td></tr>\n",
       "<tr><td>Ivan    </td><td style=\"text-align: right;\">1800</td><td style=\"text-align: right;\">3.39</td></tr>\n",
       "<tr><td>Toby    </td><td style=\"text-align: right;\">1750</td><td style=\"text-align: right;\">3.3 </td></tr>\n",
       "<tr><td>Samuel  </td><td style=\"text-align: right;\">1500</td><td style=\"text-align: right;\">2.82</td></tr>\n",
       "<tr><td>Katya   </td><td style=\"text-align: right;\">1500</td><td style=\"text-align: right;\">2.82</td></tr>\n",
       "</tbody>\n",
       "</table>"
      ],
      "text/plain": [
       "'<table>\\n<tbody>\\n<tr><td>Natalia </td><td style=\"text-align: right;\">3500</td><td style=\"text-align: right;\">6.59</td></tr>\\n<tr><td>Boris   </td><td style=\"text-align: right;\">3200</td><td style=\"text-align: right;\">6.03</td></tr>\\n<tr><td>Tony    </td><td style=\"text-align: right;\">3100</td><td style=\"text-align: right;\">5.84</td></tr>\\n<tr><td>Tobias  </td><td style=\"text-align: right;\">3000</td><td style=\"text-align: right;\">5.65</td></tr>\\n<tr><td>Karen   </td><td style=\"text-align: right;\">2800</td><td style=\"text-align: right;\">5.27</td></tr>\\n<tr><td>Petko   </td><td style=\"text-align: right;\">2700</td><td style=\"text-align: right;\">5.08</td></tr>\\n<tr><td>Anelia  </td><td style=\"text-align: right;\">2650</td><td style=\"text-align: right;\">4.99</td></tr>\\n<tr><td>Anelia  </td><td style=\"text-align: right;\">2650</td><td style=\"text-align: right;\">4.99</td></tr>\\n<tr><td>Mario   </td><td style=\"text-align: right;\">2500</td><td style=\"text-align: right;\">4.71</td></tr>\\n<tr><td>John    </td><td style=\"text-align: right;\">2400</td><td style=\"text-align: right;\">4.52</td></tr>\\n<tr><td>Anthony </td><td style=\"text-align: right;\">2300</td><td style=\"text-align: right;\">4.33</td></tr>\\n<tr><td>Detelina</td><td style=\"text-align: right;\">2200</td><td style=\"text-align: right;\">4.14</td></tr>\\n<tr><td>Dilyana </td><td style=\"text-align: right;\">2200</td><td style=\"text-align: right;\">4.14</td></tr>\\n<tr><td>Maria   </td><td style=\"text-align: right;\">2000</td><td style=\"text-align: right;\">3.77</td></tr>\\n<tr><td>Tanya   </td><td style=\"text-align: right;\">2000</td><td style=\"text-align: right;\">3.77</td></tr>\\n<tr><td>Daniel  </td><td style=\"text-align: right;\">1900</td><td style=\"text-align: right;\">3.58</td></tr>\\n<tr><td>Pratel  </td><td style=\"text-align: right;\">1850</td><td style=\"text-align: right;\">3.48</td></tr>\\n<tr><td>Kris    </td><td style=\"text-align: right;\">1800</td><td style=\"text-align: right;\">3.39</td></tr>\\n<tr><td>Simeon  </td><td style=\"text-align: right;\">1800</td><td style=\"text-align: right;\">3.39</td></tr>\\n<tr><td>Ivan    </td><td style=\"text-align: right;\">1800</td><td style=\"text-align: right;\">3.39</td></tr>\\n<tr><td>Toby    </td><td style=\"text-align: right;\">1750</td><td style=\"text-align: right;\">3.3 </td></tr>\\n<tr><td>Samuel  </td><td style=\"text-align: right;\">1500</td><td style=\"text-align: right;\">2.82</td></tr>\\n<tr><td>Katya   </td><td style=\"text-align: right;\">1500</td><td style=\"text-align: right;\">2.82</td></tr>\\n</tbody>\\n</table>'"
      ]
     },
     "execution_count": 160,
     "metadata": {},
     "output_type": "execute_result"
    }
   ],
   "source": [
    "sql_query = \"\"\"\n",
    "SELECT \n",
    "    name, \n",
    "    salary, \n",
    "    round(salary * 1.0 / SUM(salary) OVER () * 100, 2) AS pct\n",
    "FROM emp\n",
    "ORDER BY salary DESC;\n",
    "\"\"\"\n",
    "result = cursor.execute(sql_query)\n",
    "tabulate(result.fetchall(), tablefmt=\"html\")"
   ]
  },
  {
   "cell_type": "markdown",
   "id": "ccf1285a-9a93-468c-a792-7721bf108bc2",
   "metadata": {},
   "source": [
    "this is the same as:\n",
    "\n",
    "``` sql\n",
    "SELECT name, salary, \n",
    "       round(salary * 1.0 / (SELECT SUM(salary) FROM emp)  * 100, 2) AS pct\n",
    "FROM emp\n",
    "ORDER BY salary DESC;\n",
    "```"
   ]
  },
  {
   "cell_type": "markdown",
   "id": "7044a901-db73-4e73-9762-ea5dbf94444c",
   "metadata": {},
   "source": [
    "### Cumulative Totals Using `ORDER BY`"
   ]
  },
  {
   "cell_type": "markdown",
   "id": "e3d69293-b4a3-4977-af18-c0d26057ca9b",
   "metadata": {},
   "source": [
    "### Window `AVG`"
   ]
  },
  {
   "cell_type": "code",
   "execution_count": 161,
   "id": "52040ad9-bc0a-4fef-a6f6-978c78b61d47",
   "metadata": {},
   "outputs": [
    {
     "data": {
      "text/html": [
       "<table>\n",
       "<tbody>\n",
       "<tr><td>Natalia </td><td style=\"text-align: right;\">3500</td><td style=\"text-align: right;\"> 3500</td></tr>\n",
       "<tr><td>Boris   </td><td style=\"text-align: right;\">3200</td><td style=\"text-align: right;\"> 6700</td></tr>\n",
       "<tr><td>Tony    </td><td style=\"text-align: right;\">3100</td><td style=\"text-align: right;\"> 9800</td></tr>\n",
       "<tr><td>Tobias  </td><td style=\"text-align: right;\">3000</td><td style=\"text-align: right;\">12800</td></tr>\n",
       "<tr><td>Karen   </td><td style=\"text-align: right;\">2800</td><td style=\"text-align: right;\">15600</td></tr>\n",
       "<tr><td>Petko   </td><td style=\"text-align: right;\">2700</td><td style=\"text-align: right;\">18300</td></tr>\n",
       "<tr><td>Anelia  </td><td style=\"text-align: right;\">2650</td><td style=\"text-align: right;\">20950</td></tr>\n",
       "<tr><td>Anelia  </td><td style=\"text-align: right;\">2650</td><td style=\"text-align: right;\">23600</td></tr>\n",
       "<tr><td>Mario   </td><td style=\"text-align: right;\">2500</td><td style=\"text-align: right;\">26100</td></tr>\n",
       "<tr><td>John    </td><td style=\"text-align: right;\">2400</td><td style=\"text-align: right;\">28500</td></tr>\n",
       "<tr><td>Anthony </td><td style=\"text-align: right;\">2300</td><td style=\"text-align: right;\">30800</td></tr>\n",
       "<tr><td>Detelina</td><td style=\"text-align: right;\">2200</td><td style=\"text-align: right;\">33000</td></tr>\n",
       "<tr><td>Dilyana </td><td style=\"text-align: right;\">2200</td><td style=\"text-align: right;\">35200</td></tr>\n",
       "<tr><td>Maria   </td><td style=\"text-align: right;\">2000</td><td style=\"text-align: right;\">37200</td></tr>\n",
       "<tr><td>Tanya   </td><td style=\"text-align: right;\">2000</td><td style=\"text-align: right;\">39200</td></tr>\n",
       "<tr><td>Daniel  </td><td style=\"text-align: right;\">1900</td><td style=\"text-align: right;\">41100</td></tr>\n",
       "<tr><td>Pratel  </td><td style=\"text-align: right;\">1850</td><td style=\"text-align: right;\">42950</td></tr>\n",
       "<tr><td>Kris    </td><td style=\"text-align: right;\">1800</td><td style=\"text-align: right;\">44750</td></tr>\n",
       "<tr><td>Simeon  </td><td style=\"text-align: right;\">1800</td><td style=\"text-align: right;\">46550</td></tr>\n",
       "<tr><td>Ivan    </td><td style=\"text-align: right;\">1800</td><td style=\"text-align: right;\">48350</td></tr>\n",
       "<tr><td>Toby    </td><td style=\"text-align: right;\">1750</td><td style=\"text-align: right;\">50100</td></tr>\n",
       "<tr><td>Samuel  </td><td style=\"text-align: right;\">1500</td><td style=\"text-align: right;\">51600</td></tr>\n",
       "<tr><td>Katya   </td><td style=\"text-align: right;\">1500</td><td style=\"text-align: right;\">53100</td></tr>\n",
       "</tbody>\n",
       "</table>"
      ],
      "text/plain": [
       "'<table>\\n<tbody>\\n<tr><td>Natalia </td><td style=\"text-align: right;\">3500</td><td style=\"text-align: right;\"> 3500</td></tr>\\n<tr><td>Boris   </td><td style=\"text-align: right;\">3200</td><td style=\"text-align: right;\"> 6700</td></tr>\\n<tr><td>Tony    </td><td style=\"text-align: right;\">3100</td><td style=\"text-align: right;\"> 9800</td></tr>\\n<tr><td>Tobias  </td><td style=\"text-align: right;\">3000</td><td style=\"text-align: right;\">12800</td></tr>\\n<tr><td>Karen   </td><td style=\"text-align: right;\">2800</td><td style=\"text-align: right;\">15600</td></tr>\\n<tr><td>Petko   </td><td style=\"text-align: right;\">2700</td><td style=\"text-align: right;\">18300</td></tr>\\n<tr><td>Anelia  </td><td style=\"text-align: right;\">2650</td><td style=\"text-align: right;\">20950</td></tr>\\n<tr><td>Anelia  </td><td style=\"text-align: right;\">2650</td><td style=\"text-align: right;\">23600</td></tr>\\n<tr><td>Mario   </td><td style=\"text-align: right;\">2500</td><td style=\"text-align: right;\">26100</td></tr>\\n<tr><td>John    </td><td style=\"text-align: right;\">2400</td><td style=\"text-align: right;\">28500</td></tr>\\n<tr><td>Anthony </td><td style=\"text-align: right;\">2300</td><td style=\"text-align: right;\">30800</td></tr>\\n<tr><td>Detelina</td><td style=\"text-align: right;\">2200</td><td style=\"text-align: right;\">33000</td></tr>\\n<tr><td>Dilyana </td><td style=\"text-align: right;\">2200</td><td style=\"text-align: right;\">35200</td></tr>\\n<tr><td>Maria   </td><td style=\"text-align: right;\">2000</td><td style=\"text-align: right;\">37200</td></tr>\\n<tr><td>Tanya   </td><td style=\"text-align: right;\">2000</td><td style=\"text-align: right;\">39200</td></tr>\\n<tr><td>Daniel  </td><td style=\"text-align: right;\">1900</td><td style=\"text-align: right;\">41100</td></tr>\\n<tr><td>Pratel  </td><td style=\"text-align: right;\">1850</td><td style=\"text-align: right;\">42950</td></tr>\\n<tr><td>Kris    </td><td style=\"text-align: right;\">1800</td><td style=\"text-align: right;\">44750</td></tr>\\n<tr><td>Simeon  </td><td style=\"text-align: right;\">1800</td><td style=\"text-align: right;\">46550</td></tr>\\n<tr><td>Ivan    </td><td style=\"text-align: right;\">1800</td><td style=\"text-align: right;\">48350</td></tr>\\n<tr><td>Toby    </td><td style=\"text-align: right;\">1750</td><td style=\"text-align: right;\">50100</td></tr>\\n<tr><td>Samuel  </td><td style=\"text-align: right;\">1500</td><td style=\"text-align: right;\">51600</td></tr>\\n<tr><td>Katya   </td><td style=\"text-align: right;\">1500</td><td style=\"text-align: right;\">53100</td></tr>\\n</tbody>\\n</table>'"
      ]
     },
     "execution_count": 161,
     "metadata": {},
     "output_type": "execute_result"
    }
   ],
   "source": [
    "sql_query = \"\"\"\n",
    "SELECT \n",
    "    name, \n",
    "    salary,\n",
    "    SUM(salary) OVER (ORDER BY salary DESC ROWS BETWEEN UNBOUNDED PRECEDING AND CURRENT ROW)\n",
    "FROM emp\n",
    "ORDER BY salary DESC;\n",
    "\"\"\"\n",
    "result = cursor.execute(sql_query)\n",
    "tabulate(result.fetchall(), tablefmt=\"html\")"
   ]
  },
  {
   "cell_type": "code",
   "execution_count": 162,
   "id": "482cd9af-a69e-4691-ba81-3ac7a463aee6",
   "metadata": {},
   "outputs": [
    {
     "data": {
      "text/html": [
       "<table>\n",
       "<tbody>\n",
       "<tr><td>Natalia </td><td style=\"text-align: right;\">3500</td><td style=\"text-align: right;\">2308.7</td></tr>\n",
       "<tr><td>Boris   </td><td style=\"text-align: right;\">3200</td><td style=\"text-align: right;\">2308.7</td></tr>\n",
       "<tr><td>Tony    </td><td style=\"text-align: right;\">3100</td><td style=\"text-align: right;\">2308.7</td></tr>\n",
       "<tr><td>Tobias  </td><td style=\"text-align: right;\">3000</td><td style=\"text-align: right;\">2308.7</td></tr>\n",
       "<tr><td>Karen   </td><td style=\"text-align: right;\">2800</td><td style=\"text-align: right;\">2308.7</td></tr>\n",
       "<tr><td>Petko   </td><td style=\"text-align: right;\">2700</td><td style=\"text-align: right;\">2308.7</td></tr>\n",
       "<tr><td>Anelia  </td><td style=\"text-align: right;\">2650</td><td style=\"text-align: right;\">2308.7</td></tr>\n",
       "<tr><td>Anelia  </td><td style=\"text-align: right;\">2650</td><td style=\"text-align: right;\">2308.7</td></tr>\n",
       "<tr><td>Mario   </td><td style=\"text-align: right;\">2500</td><td style=\"text-align: right;\">2308.7</td></tr>\n",
       "<tr><td>John    </td><td style=\"text-align: right;\">2400</td><td style=\"text-align: right;\">2308.7</td></tr>\n",
       "<tr><td>Anthony </td><td style=\"text-align: right;\">2300</td><td style=\"text-align: right;\">2308.7</td></tr>\n",
       "<tr><td>Detelina</td><td style=\"text-align: right;\">2200</td><td style=\"text-align: right;\">2308.7</td></tr>\n",
       "<tr><td>Dilyana </td><td style=\"text-align: right;\">2200</td><td style=\"text-align: right;\">2308.7</td></tr>\n",
       "<tr><td>Maria   </td><td style=\"text-align: right;\">2000</td><td style=\"text-align: right;\">2308.7</td></tr>\n",
       "<tr><td>Tanya   </td><td style=\"text-align: right;\">2000</td><td style=\"text-align: right;\">2308.7</td></tr>\n",
       "<tr><td>Daniel  </td><td style=\"text-align: right;\">1900</td><td style=\"text-align: right;\">2308.7</td></tr>\n",
       "<tr><td>Pratel  </td><td style=\"text-align: right;\">1850</td><td style=\"text-align: right;\">2308.7</td></tr>\n",
       "<tr><td>Kris    </td><td style=\"text-align: right;\">1800</td><td style=\"text-align: right;\">2308.7</td></tr>\n",
       "<tr><td>Simeon  </td><td style=\"text-align: right;\">1800</td><td style=\"text-align: right;\">2308.7</td></tr>\n",
       "<tr><td>Ivan    </td><td style=\"text-align: right;\">1800</td><td style=\"text-align: right;\">2308.7</td></tr>\n",
       "<tr><td>Toby    </td><td style=\"text-align: right;\">1750</td><td style=\"text-align: right;\">2308.7</td></tr>\n",
       "<tr><td>Samuel  </td><td style=\"text-align: right;\">1500</td><td style=\"text-align: right;\">2308.7</td></tr>\n",
       "<tr><td>Katya   </td><td style=\"text-align: right;\">1500</td><td style=\"text-align: right;\">2308.7</td></tr>\n",
       "</tbody>\n",
       "</table>"
      ],
      "text/plain": [
       "'<table>\\n<tbody>\\n<tr><td>Natalia </td><td style=\"text-align: right;\">3500</td><td style=\"text-align: right;\">2308.7</td></tr>\\n<tr><td>Boris   </td><td style=\"text-align: right;\">3200</td><td style=\"text-align: right;\">2308.7</td></tr>\\n<tr><td>Tony    </td><td style=\"text-align: right;\">3100</td><td style=\"text-align: right;\">2308.7</td></tr>\\n<tr><td>Tobias  </td><td style=\"text-align: right;\">3000</td><td style=\"text-align: right;\">2308.7</td></tr>\\n<tr><td>Karen   </td><td style=\"text-align: right;\">2800</td><td style=\"text-align: right;\">2308.7</td></tr>\\n<tr><td>Petko   </td><td style=\"text-align: right;\">2700</td><td style=\"text-align: right;\">2308.7</td></tr>\\n<tr><td>Anelia  </td><td style=\"text-align: right;\">2650</td><td style=\"text-align: right;\">2308.7</td></tr>\\n<tr><td>Anelia  </td><td style=\"text-align: right;\">2650</td><td style=\"text-align: right;\">2308.7</td></tr>\\n<tr><td>Mario   </td><td style=\"text-align: right;\">2500</td><td style=\"text-align: right;\">2308.7</td></tr>\\n<tr><td>John    </td><td style=\"text-align: right;\">2400</td><td style=\"text-align: right;\">2308.7</td></tr>\\n<tr><td>Anthony </td><td style=\"text-align: right;\">2300</td><td style=\"text-align: right;\">2308.7</td></tr>\\n<tr><td>Detelina</td><td style=\"text-align: right;\">2200</td><td style=\"text-align: right;\">2308.7</td></tr>\\n<tr><td>Dilyana </td><td style=\"text-align: right;\">2200</td><td style=\"text-align: right;\">2308.7</td></tr>\\n<tr><td>Maria   </td><td style=\"text-align: right;\">2000</td><td style=\"text-align: right;\">2308.7</td></tr>\\n<tr><td>Tanya   </td><td style=\"text-align: right;\">2000</td><td style=\"text-align: right;\">2308.7</td></tr>\\n<tr><td>Daniel  </td><td style=\"text-align: right;\">1900</td><td style=\"text-align: right;\">2308.7</td></tr>\\n<tr><td>Pratel  </td><td style=\"text-align: right;\">1850</td><td style=\"text-align: right;\">2308.7</td></tr>\\n<tr><td>Kris    </td><td style=\"text-align: right;\">1800</td><td style=\"text-align: right;\">2308.7</td></tr>\\n<tr><td>Simeon  </td><td style=\"text-align: right;\">1800</td><td style=\"text-align: right;\">2308.7</td></tr>\\n<tr><td>Ivan    </td><td style=\"text-align: right;\">1800</td><td style=\"text-align: right;\">2308.7</td></tr>\\n<tr><td>Toby    </td><td style=\"text-align: right;\">1750</td><td style=\"text-align: right;\">2308.7</td></tr>\\n<tr><td>Samuel  </td><td style=\"text-align: right;\">1500</td><td style=\"text-align: right;\">2308.7</td></tr>\\n<tr><td>Katya   </td><td style=\"text-align: right;\">1500</td><td style=\"text-align: right;\">2308.7</td></tr>\\n</tbody>\\n</table>'"
      ]
     },
     "execution_count": 162,
     "metadata": {},
     "output_type": "execute_result"
    }
   ],
   "source": [
    "sql_query = \"\"\"\n",
    "SELECT \n",
    "    name, \n",
    "    salary,\n",
    "    round(AVG(salary) OVER (), 2) AS  avg    \n",
    "FROM emp\n",
    "ORDER BY salary DESC;\n",
    "\"\"\"\n",
    "result = cursor.execute(sql_query)\n",
    "tabulate(result.fetchall(), tablefmt=\"html\")"
   ]
  },
  {
   "cell_type": "markdown",
   "id": "d52a8d07-7071-4299-b610-f558067ec4cf",
   "metadata": {},
   "source": [
    "### Difference Compared to Average"
   ]
  },
  {
   "cell_type": "code",
   "execution_count": 163,
   "id": "a7d02ac4-76b4-484d-8183-cf84f4f7eb9f",
   "metadata": {},
   "outputs": [
    {
     "data": {
      "text/html": [
       "<table>\n",
       "<tbody>\n",
       "<tr><td>Natalia </td><td style=\"text-align: right;\">3500</td><td style=\"text-align: right;\">2308.7</td><td style=\"text-align: right;\">1191.3</td></tr>\n",
       "<tr><td>Boris   </td><td style=\"text-align: right;\">3200</td><td style=\"text-align: right;\">2308.7</td><td style=\"text-align: right;\"> 891.3</td></tr>\n",
       "<tr><td>Tony    </td><td style=\"text-align: right;\">3100</td><td style=\"text-align: right;\">2308.7</td><td style=\"text-align: right;\"> 791.3</td></tr>\n",
       "<tr><td>Tobias  </td><td style=\"text-align: right;\">3000</td><td style=\"text-align: right;\">2308.7</td><td style=\"text-align: right;\"> 691.3</td></tr>\n",
       "<tr><td>Karen   </td><td style=\"text-align: right;\">2800</td><td style=\"text-align: right;\">2308.7</td><td style=\"text-align: right;\"> 491.3</td></tr>\n",
       "<tr><td>Petko   </td><td style=\"text-align: right;\">2700</td><td style=\"text-align: right;\">2308.7</td><td style=\"text-align: right;\"> 391.3</td></tr>\n",
       "<tr><td>Anelia  </td><td style=\"text-align: right;\">2650</td><td style=\"text-align: right;\">2308.7</td><td style=\"text-align: right;\"> 341.3</td></tr>\n",
       "<tr><td>Anelia  </td><td style=\"text-align: right;\">2650</td><td style=\"text-align: right;\">2308.7</td><td style=\"text-align: right;\"> 341.3</td></tr>\n",
       "<tr><td>Mario   </td><td style=\"text-align: right;\">2500</td><td style=\"text-align: right;\">2308.7</td><td style=\"text-align: right;\"> 191.3</td></tr>\n",
       "<tr><td>John    </td><td style=\"text-align: right;\">2400</td><td style=\"text-align: right;\">2308.7</td><td style=\"text-align: right;\">  91.3</td></tr>\n",
       "<tr><td>Anthony </td><td style=\"text-align: right;\">2300</td><td style=\"text-align: right;\">2308.7</td><td style=\"text-align: right;\">  -8.7</td></tr>\n",
       "<tr><td>Detelina</td><td style=\"text-align: right;\">2200</td><td style=\"text-align: right;\">2308.7</td><td style=\"text-align: right;\">-108.7</td></tr>\n",
       "<tr><td>Dilyana </td><td style=\"text-align: right;\">2200</td><td style=\"text-align: right;\">2308.7</td><td style=\"text-align: right;\">-108.7</td></tr>\n",
       "<tr><td>Maria   </td><td style=\"text-align: right;\">2000</td><td style=\"text-align: right;\">2308.7</td><td style=\"text-align: right;\">-308.7</td></tr>\n",
       "<tr><td>Tanya   </td><td style=\"text-align: right;\">2000</td><td style=\"text-align: right;\">2308.7</td><td style=\"text-align: right;\">-308.7</td></tr>\n",
       "<tr><td>Daniel  </td><td style=\"text-align: right;\">1900</td><td style=\"text-align: right;\">2308.7</td><td style=\"text-align: right;\">-408.7</td></tr>\n",
       "<tr><td>Pratel  </td><td style=\"text-align: right;\">1850</td><td style=\"text-align: right;\">2308.7</td><td style=\"text-align: right;\">-458.7</td></tr>\n",
       "<tr><td>Kris    </td><td style=\"text-align: right;\">1800</td><td style=\"text-align: right;\">2308.7</td><td style=\"text-align: right;\">-508.7</td></tr>\n",
       "<tr><td>Simeon  </td><td style=\"text-align: right;\">1800</td><td style=\"text-align: right;\">2308.7</td><td style=\"text-align: right;\">-508.7</td></tr>\n",
       "<tr><td>Ivan    </td><td style=\"text-align: right;\">1800</td><td style=\"text-align: right;\">2308.7</td><td style=\"text-align: right;\">-508.7</td></tr>\n",
       "<tr><td>Toby    </td><td style=\"text-align: right;\">1750</td><td style=\"text-align: right;\">2308.7</td><td style=\"text-align: right;\">-558.7</td></tr>\n",
       "<tr><td>Samuel  </td><td style=\"text-align: right;\">1500</td><td style=\"text-align: right;\">2308.7</td><td style=\"text-align: right;\">-808.7</td></tr>\n",
       "<tr><td>Katya   </td><td style=\"text-align: right;\">1500</td><td style=\"text-align: right;\">2308.7</td><td style=\"text-align: right;\">-808.7</td></tr>\n",
       "</tbody>\n",
       "</table>"
      ],
      "text/plain": [
       "'<table>\\n<tbody>\\n<tr><td>Natalia </td><td style=\"text-align: right;\">3500</td><td style=\"text-align: right;\">2308.7</td><td style=\"text-align: right;\">1191.3</td></tr>\\n<tr><td>Boris   </td><td style=\"text-align: right;\">3200</td><td style=\"text-align: right;\">2308.7</td><td style=\"text-align: right;\"> 891.3</td></tr>\\n<tr><td>Tony    </td><td style=\"text-align: right;\">3100</td><td style=\"text-align: right;\">2308.7</td><td style=\"text-align: right;\"> 791.3</td></tr>\\n<tr><td>Tobias  </td><td style=\"text-align: right;\">3000</td><td style=\"text-align: right;\">2308.7</td><td style=\"text-align: right;\"> 691.3</td></tr>\\n<tr><td>Karen   </td><td style=\"text-align: right;\">2800</td><td style=\"text-align: right;\">2308.7</td><td style=\"text-align: right;\"> 491.3</td></tr>\\n<tr><td>Petko   </td><td style=\"text-align: right;\">2700</td><td style=\"text-align: right;\">2308.7</td><td style=\"text-align: right;\"> 391.3</td></tr>\\n<tr><td>Anelia  </td><td style=\"text-align: right;\">2650</td><td style=\"text-align: right;\">2308.7</td><td style=\"text-align: right;\"> 341.3</td></tr>\\n<tr><td>Anelia  </td><td style=\"text-align: right;\">2650</td><td style=\"text-align: right;\">2308.7</td><td style=\"text-align: right;\"> 341.3</td></tr>\\n<tr><td>Mario   </td><td style=\"text-align: right;\">2500</td><td style=\"text-align: right;\">2308.7</td><td style=\"text-align: right;\"> 191.3</td></tr>\\n<tr><td>John    </td><td style=\"text-align: right;\">2400</td><td style=\"text-align: right;\">2308.7</td><td style=\"text-align: right;\">  91.3</td></tr>\\n<tr><td>Anthony </td><td style=\"text-align: right;\">2300</td><td style=\"text-align: right;\">2308.7</td><td style=\"text-align: right;\">  -8.7</td></tr>\\n<tr><td>Detelina</td><td style=\"text-align: right;\">2200</td><td style=\"text-align: right;\">2308.7</td><td style=\"text-align: right;\">-108.7</td></tr>\\n<tr><td>Dilyana </td><td style=\"text-align: right;\">2200</td><td style=\"text-align: right;\">2308.7</td><td style=\"text-align: right;\">-108.7</td></tr>\\n<tr><td>Maria   </td><td style=\"text-align: right;\">2000</td><td style=\"text-align: right;\">2308.7</td><td style=\"text-align: right;\">-308.7</td></tr>\\n<tr><td>Tanya   </td><td style=\"text-align: right;\">2000</td><td style=\"text-align: right;\">2308.7</td><td style=\"text-align: right;\">-308.7</td></tr>\\n<tr><td>Daniel  </td><td style=\"text-align: right;\">1900</td><td style=\"text-align: right;\">2308.7</td><td style=\"text-align: right;\">-408.7</td></tr>\\n<tr><td>Pratel  </td><td style=\"text-align: right;\">1850</td><td style=\"text-align: right;\">2308.7</td><td style=\"text-align: right;\">-458.7</td></tr>\\n<tr><td>Kris    </td><td style=\"text-align: right;\">1800</td><td style=\"text-align: right;\">2308.7</td><td style=\"text-align: right;\">-508.7</td></tr>\\n<tr><td>Simeon  </td><td style=\"text-align: right;\">1800</td><td style=\"text-align: right;\">2308.7</td><td style=\"text-align: right;\">-508.7</td></tr>\\n<tr><td>Ivan    </td><td style=\"text-align: right;\">1800</td><td style=\"text-align: right;\">2308.7</td><td style=\"text-align: right;\">-508.7</td></tr>\\n<tr><td>Toby    </td><td style=\"text-align: right;\">1750</td><td style=\"text-align: right;\">2308.7</td><td style=\"text-align: right;\">-558.7</td></tr>\\n<tr><td>Samuel  </td><td style=\"text-align: right;\">1500</td><td style=\"text-align: right;\">2308.7</td><td style=\"text-align: right;\">-808.7</td></tr>\\n<tr><td>Katya   </td><td style=\"text-align: right;\">1500</td><td style=\"text-align: right;\">2308.7</td><td style=\"text-align: right;\">-808.7</td></tr>\\n</tbody>\\n</table>'"
      ]
     },
     "execution_count": 163,
     "metadata": {},
     "output_type": "execute_result"
    }
   ],
   "source": [
    "sql_query = \"\"\"\n",
    "SELECT \n",
    "    name, \n",
    "    salary,\n",
    "    round(AVG(salary) OVER (), 2) AS avg, \n",
    "    round(salary - AVG(salary) OVER (), 2) AS diff_afv\n",
    "FROM emp\n",
    "ORDER BY salary DESC;\n",
    "\"\"\"\n",
    "result = cursor.execute(sql_query)\n",
    "tabulate(result.fetchall(), tablefmt=\"html\")"
   ]
  },
  {
   "cell_type": "markdown",
   "id": "c35111fa-56e1-493a-877f-e522f5b75529",
   "metadata": {},
   "source": [
    "### Difference Compared to the Next Value"
   ]
  },
  {
   "cell_type": "code",
   "execution_count": 164,
   "id": "07194bad-3870-4d63-9dc9-1e1d3449fa1e",
   "metadata": {},
   "outputs": [
    {
     "data": {
      "text/html": [
       "<table>\n",
       "<tbody>\n",
       "<tr><td>Natalia </td><td style=\"text-align: right;\">3500</td><td style=\"text-align: right;\">300</td></tr>\n",
       "<tr><td>Boris   </td><td style=\"text-align: right;\">3200</td><td style=\"text-align: right;\">100</td></tr>\n",
       "<tr><td>Tony    </td><td style=\"text-align: right;\">3100</td><td style=\"text-align: right;\">100</td></tr>\n",
       "<tr><td>Tobias  </td><td style=\"text-align: right;\">3000</td><td style=\"text-align: right;\">200</td></tr>\n",
       "<tr><td>Karen   </td><td style=\"text-align: right;\">2800</td><td style=\"text-align: right;\">100</td></tr>\n",
       "<tr><td>Petko   </td><td style=\"text-align: right;\">2700</td><td style=\"text-align: right;\"> 50</td></tr>\n",
       "<tr><td>Anelia  </td><td style=\"text-align: right;\">2650</td><td style=\"text-align: right;\">  0</td></tr>\n",
       "<tr><td>Anelia  </td><td style=\"text-align: right;\">2650</td><td style=\"text-align: right;\">150</td></tr>\n",
       "<tr><td>Mario   </td><td style=\"text-align: right;\">2500</td><td style=\"text-align: right;\">100</td></tr>\n",
       "<tr><td>John    </td><td style=\"text-align: right;\">2400</td><td style=\"text-align: right;\">100</td></tr>\n",
       "<tr><td>Anthony </td><td style=\"text-align: right;\">2300</td><td style=\"text-align: right;\">100</td></tr>\n",
       "<tr><td>Detelina</td><td style=\"text-align: right;\">2200</td><td style=\"text-align: right;\">  0</td></tr>\n",
       "<tr><td>Dilyana </td><td style=\"text-align: right;\">2200</td><td style=\"text-align: right;\">200</td></tr>\n",
       "<tr><td>Maria   </td><td style=\"text-align: right;\">2000</td><td style=\"text-align: right;\">  0</td></tr>\n",
       "<tr><td>Tanya   </td><td style=\"text-align: right;\">2000</td><td style=\"text-align: right;\">100</td></tr>\n",
       "<tr><td>Daniel  </td><td style=\"text-align: right;\">1900</td><td style=\"text-align: right;\"> 50</td></tr>\n",
       "<tr><td>Pratel  </td><td style=\"text-align: right;\">1850</td><td style=\"text-align: right;\"> 50</td></tr>\n",
       "<tr><td>Kris    </td><td style=\"text-align: right;\">1800</td><td style=\"text-align: right;\">  0</td></tr>\n",
       "<tr><td>Simeon  </td><td style=\"text-align: right;\">1800</td><td style=\"text-align: right;\">  0</td></tr>\n",
       "<tr><td>Ivan    </td><td style=\"text-align: right;\">1800</td><td style=\"text-align: right;\"> 50</td></tr>\n",
       "<tr><td>Toby    </td><td style=\"text-align: right;\">1750</td><td style=\"text-align: right;\">250</td></tr>\n",
       "<tr><td>Samuel  </td><td style=\"text-align: right;\">1500</td><td style=\"text-align: right;\">  0</td></tr>\n",
       "<tr><td>Katya   </td><td style=\"text-align: right;\">1500</td><td style=\"text-align: right;\">   </td></tr>\n",
       "</tbody>\n",
       "</table>"
      ],
      "text/plain": [
       "'<table>\\n<tbody>\\n<tr><td>Natalia </td><td style=\"text-align: right;\">3500</td><td style=\"text-align: right;\">300</td></tr>\\n<tr><td>Boris   </td><td style=\"text-align: right;\">3200</td><td style=\"text-align: right;\">100</td></tr>\\n<tr><td>Tony    </td><td style=\"text-align: right;\">3100</td><td style=\"text-align: right;\">100</td></tr>\\n<tr><td>Tobias  </td><td style=\"text-align: right;\">3000</td><td style=\"text-align: right;\">200</td></tr>\\n<tr><td>Karen   </td><td style=\"text-align: right;\">2800</td><td style=\"text-align: right;\">100</td></tr>\\n<tr><td>Petko   </td><td style=\"text-align: right;\">2700</td><td style=\"text-align: right;\"> 50</td></tr>\\n<tr><td>Anelia  </td><td style=\"text-align: right;\">2650</td><td style=\"text-align: right;\">  0</td></tr>\\n<tr><td>Anelia  </td><td style=\"text-align: right;\">2650</td><td style=\"text-align: right;\">150</td></tr>\\n<tr><td>Mario   </td><td style=\"text-align: right;\">2500</td><td style=\"text-align: right;\">100</td></tr>\\n<tr><td>John    </td><td style=\"text-align: right;\">2400</td><td style=\"text-align: right;\">100</td></tr>\\n<tr><td>Anthony </td><td style=\"text-align: right;\">2300</td><td style=\"text-align: right;\">100</td></tr>\\n<tr><td>Detelina</td><td style=\"text-align: right;\">2200</td><td style=\"text-align: right;\">  0</td></tr>\\n<tr><td>Dilyana </td><td style=\"text-align: right;\">2200</td><td style=\"text-align: right;\">200</td></tr>\\n<tr><td>Maria   </td><td style=\"text-align: right;\">2000</td><td style=\"text-align: right;\">  0</td></tr>\\n<tr><td>Tanya   </td><td style=\"text-align: right;\">2000</td><td style=\"text-align: right;\">100</td></tr>\\n<tr><td>Daniel  </td><td style=\"text-align: right;\">1900</td><td style=\"text-align: right;\"> 50</td></tr>\\n<tr><td>Pratel  </td><td style=\"text-align: right;\">1850</td><td style=\"text-align: right;\"> 50</td></tr>\\n<tr><td>Kris    </td><td style=\"text-align: right;\">1800</td><td style=\"text-align: right;\">  0</td></tr>\\n<tr><td>Simeon  </td><td style=\"text-align: right;\">1800</td><td style=\"text-align: right;\">  0</td></tr>\\n<tr><td>Ivan    </td><td style=\"text-align: right;\">1800</td><td style=\"text-align: right;\"> 50</td></tr>\\n<tr><td>Toby    </td><td style=\"text-align: right;\">1750</td><td style=\"text-align: right;\">250</td></tr>\\n<tr><td>Samuel  </td><td style=\"text-align: right;\">1500</td><td style=\"text-align: right;\">  0</td></tr>\\n<tr><td>Katya   </td><td style=\"text-align: right;\">1500</td><td style=\"text-align: right;\">   </td></tr>\\n</tbody>\\n</table>'"
      ]
     },
     "execution_count": 164,
     "metadata": {},
     "output_type": "execute_result"
    }
   ],
   "source": [
    "sql_query = \"\"\"\n",
    "SELECT \n",
    "    name, \n",
    "    salary,\n",
    "    salary - LEAD(salary, 1) OVER (ORDER BY salary DESC) AS diff_next\n",
    "FROM emp\n",
    "ORDER BY salary DESC;\n",
    "\"\"\"\n",
    "result = cursor.execute(sql_query)\n",
    "tabulate(result.fetchall(), tablefmt=\"html\")"
   ]
  },
  {
   "cell_type": "markdown",
   "id": "0e0b589b-830a-40f3-b5fa-0c2a8d8c12e1",
   "metadata": {},
   "source": [
    "### Percentage Difference Compared to the Lowest-Paid Employee"
   ]
  },
  {
   "cell_type": "code",
   "execution_count": 165,
   "id": "f96996d5-9f90-4a46-9821-13e73be4715c",
   "metadata": {},
   "outputs": [
    {
     "data": {
      "text/html": [
       "<table>\n",
       "<tbody>\n",
       "<tr><td>Natalia </td><td style=\"text-align: right;\">3500</td><td style=\"text-align: right;\">2000</td><td style=\"text-align: right;\">133</td></tr>\n",
       "<tr><td>Boris   </td><td style=\"text-align: right;\">3200</td><td style=\"text-align: right;\">1700</td><td style=\"text-align: right;\">113</td></tr>\n",
       "<tr><td>Tony    </td><td style=\"text-align: right;\">3100</td><td style=\"text-align: right;\">1600</td><td style=\"text-align: right;\">107</td></tr>\n",
       "<tr><td>Tobias  </td><td style=\"text-align: right;\">3000</td><td style=\"text-align: right;\">1500</td><td style=\"text-align: right;\">100</td></tr>\n",
       "<tr><td>Karen   </td><td style=\"text-align: right;\">2800</td><td style=\"text-align: right;\">1300</td><td style=\"text-align: right;\"> 87</td></tr>\n",
       "<tr><td>Petko   </td><td style=\"text-align: right;\">2700</td><td style=\"text-align: right;\">1200</td><td style=\"text-align: right;\"> 80</td></tr>\n",
       "<tr><td>Anelia  </td><td style=\"text-align: right;\">2650</td><td style=\"text-align: right;\">1150</td><td style=\"text-align: right;\"> 77</td></tr>\n",
       "<tr><td>Anelia  </td><td style=\"text-align: right;\">2650</td><td style=\"text-align: right;\">1150</td><td style=\"text-align: right;\"> 77</td></tr>\n",
       "<tr><td>Mario   </td><td style=\"text-align: right;\">2500</td><td style=\"text-align: right;\">1000</td><td style=\"text-align: right;\"> 67</td></tr>\n",
       "<tr><td>John    </td><td style=\"text-align: right;\">2400</td><td style=\"text-align: right;\"> 900</td><td style=\"text-align: right;\"> 60</td></tr>\n",
       "<tr><td>Anthony </td><td style=\"text-align: right;\">2300</td><td style=\"text-align: right;\"> 800</td><td style=\"text-align: right;\"> 53</td></tr>\n",
       "<tr><td>Detelina</td><td style=\"text-align: right;\">2200</td><td style=\"text-align: right;\"> 700</td><td style=\"text-align: right;\"> 47</td></tr>\n",
       "<tr><td>Dilyana </td><td style=\"text-align: right;\">2200</td><td style=\"text-align: right;\"> 700</td><td style=\"text-align: right;\"> 47</td></tr>\n",
       "<tr><td>Maria   </td><td style=\"text-align: right;\">2000</td><td style=\"text-align: right;\"> 500</td><td style=\"text-align: right;\"> 33</td></tr>\n",
       "<tr><td>Tanya   </td><td style=\"text-align: right;\">2000</td><td style=\"text-align: right;\"> 500</td><td style=\"text-align: right;\"> 33</td></tr>\n",
       "<tr><td>Daniel  </td><td style=\"text-align: right;\">1900</td><td style=\"text-align: right;\"> 400</td><td style=\"text-align: right;\"> 27</td></tr>\n",
       "<tr><td>Pratel  </td><td style=\"text-align: right;\">1850</td><td style=\"text-align: right;\"> 350</td><td style=\"text-align: right;\"> 23</td></tr>\n",
       "<tr><td>Kris    </td><td style=\"text-align: right;\">1800</td><td style=\"text-align: right;\"> 300</td><td style=\"text-align: right;\"> 20</td></tr>\n",
       "<tr><td>Simeon  </td><td style=\"text-align: right;\">1800</td><td style=\"text-align: right;\"> 300</td><td style=\"text-align: right;\"> 20</td></tr>\n",
       "<tr><td>Ivan    </td><td style=\"text-align: right;\">1800</td><td style=\"text-align: right;\"> 300</td><td style=\"text-align: right;\"> 20</td></tr>\n",
       "<tr><td>Toby    </td><td style=\"text-align: right;\">1750</td><td style=\"text-align: right;\"> 250</td><td style=\"text-align: right;\"> 17</td></tr>\n",
       "<tr><td>Samuel  </td><td style=\"text-align: right;\">1500</td><td style=\"text-align: right;\">   0</td><td style=\"text-align: right;\">  0</td></tr>\n",
       "<tr><td>Katya   </td><td style=\"text-align: right;\">1500</td><td style=\"text-align: right;\">   0</td><td style=\"text-align: right;\">  0</td></tr>\n",
       "</tbody>\n",
       "</table>"
      ],
      "text/plain": [
       "'<table>\\n<tbody>\\n<tr><td>Natalia </td><td style=\"text-align: right;\">3500</td><td style=\"text-align: right;\">2000</td><td style=\"text-align: right;\">133</td></tr>\\n<tr><td>Boris   </td><td style=\"text-align: right;\">3200</td><td style=\"text-align: right;\">1700</td><td style=\"text-align: right;\">113</td></tr>\\n<tr><td>Tony    </td><td style=\"text-align: right;\">3100</td><td style=\"text-align: right;\">1600</td><td style=\"text-align: right;\">107</td></tr>\\n<tr><td>Tobias  </td><td style=\"text-align: right;\">3000</td><td style=\"text-align: right;\">1500</td><td style=\"text-align: right;\">100</td></tr>\\n<tr><td>Karen   </td><td style=\"text-align: right;\">2800</td><td style=\"text-align: right;\">1300</td><td style=\"text-align: right;\"> 87</td></tr>\\n<tr><td>Petko   </td><td style=\"text-align: right;\">2700</td><td style=\"text-align: right;\">1200</td><td style=\"text-align: right;\"> 80</td></tr>\\n<tr><td>Anelia  </td><td style=\"text-align: right;\">2650</td><td style=\"text-align: right;\">1150</td><td style=\"text-align: right;\"> 77</td></tr>\\n<tr><td>Anelia  </td><td style=\"text-align: right;\">2650</td><td style=\"text-align: right;\">1150</td><td style=\"text-align: right;\"> 77</td></tr>\\n<tr><td>Mario   </td><td style=\"text-align: right;\">2500</td><td style=\"text-align: right;\">1000</td><td style=\"text-align: right;\"> 67</td></tr>\\n<tr><td>John    </td><td style=\"text-align: right;\">2400</td><td style=\"text-align: right;\"> 900</td><td style=\"text-align: right;\"> 60</td></tr>\\n<tr><td>Anthony </td><td style=\"text-align: right;\">2300</td><td style=\"text-align: right;\"> 800</td><td style=\"text-align: right;\"> 53</td></tr>\\n<tr><td>Detelina</td><td style=\"text-align: right;\">2200</td><td style=\"text-align: right;\"> 700</td><td style=\"text-align: right;\"> 47</td></tr>\\n<tr><td>Dilyana </td><td style=\"text-align: right;\">2200</td><td style=\"text-align: right;\"> 700</td><td style=\"text-align: right;\"> 47</td></tr>\\n<tr><td>Maria   </td><td style=\"text-align: right;\">2000</td><td style=\"text-align: right;\"> 500</td><td style=\"text-align: right;\"> 33</td></tr>\\n<tr><td>Tanya   </td><td style=\"text-align: right;\">2000</td><td style=\"text-align: right;\"> 500</td><td style=\"text-align: right;\"> 33</td></tr>\\n<tr><td>Daniel  </td><td style=\"text-align: right;\">1900</td><td style=\"text-align: right;\"> 400</td><td style=\"text-align: right;\"> 27</td></tr>\\n<tr><td>Pratel  </td><td style=\"text-align: right;\">1850</td><td style=\"text-align: right;\"> 350</td><td style=\"text-align: right;\"> 23</td></tr>\\n<tr><td>Kris    </td><td style=\"text-align: right;\">1800</td><td style=\"text-align: right;\"> 300</td><td style=\"text-align: right;\"> 20</td></tr>\\n<tr><td>Simeon  </td><td style=\"text-align: right;\">1800</td><td style=\"text-align: right;\"> 300</td><td style=\"text-align: right;\"> 20</td></tr>\\n<tr><td>Ivan    </td><td style=\"text-align: right;\">1800</td><td style=\"text-align: right;\"> 300</td><td style=\"text-align: right;\"> 20</td></tr>\\n<tr><td>Toby    </td><td style=\"text-align: right;\">1750</td><td style=\"text-align: right;\"> 250</td><td style=\"text-align: right;\"> 17</td></tr>\\n<tr><td>Samuel  </td><td style=\"text-align: right;\">1500</td><td style=\"text-align: right;\">   0</td><td style=\"text-align: right;\">  0</td></tr>\\n<tr><td>Katya   </td><td style=\"text-align: right;\">1500</td><td style=\"text-align: right;\">   0</td><td style=\"text-align: right;\">  0</td></tr>\\n</tbody>\\n</table>'"
      ]
     },
     "execution_count": 165,
     "metadata": {},
     "output_type": "execute_result"
    }
   ],
   "source": [
    "sql_query = \"\"\"\n",
    "SELECT \n",
    "    name, \n",
    "    salary,\n",
    "    salary - LAST_VALUE(salary) OVER w AS more,\n",
    "    round((salary - LAST_VALUE(salary) OVER w) * 1.0 / LAST_VALUE(salary) OVER w * 100) as pct_more\n",
    "FROM emp\n",
    "WINDOW w AS (ORDER BY salary DESC ROWS BETWEEN UNBOUNDED PRECEDING AND UNBOUNDED FOLLOWING)\n",
    "ORDER BY salary DESC;\n",
    "\"\"\"\n",
    "result = cursor.execute(sql_query)\n",
    "tabulate(result.fetchall(), tablefmt=\"html\")"
   ]
  },
  {
   "cell_type": "markdown",
   "id": "ba9a1b50-b3af-4fe2-83f2-a87d61b95ab9",
   "metadata": {},
   "source": [
    "### `RANK` and `DENSE_RANK`"
   ]
  },
  {
   "cell_type": "code",
   "execution_count": 166,
   "id": "00e0e973-4b09-4526-99bf-e858502a3f87",
   "metadata": {},
   "outputs": [
    {
     "data": {
      "text/html": [
       "<table>\n",
       "<tbody>\n",
       "<tr><td>Natalia </td><td style=\"text-align: right;\">3500</td><td style=\"text-align: right;\"> 1</td><td style=\"text-align: right;\"> 1</td></tr>\n",
       "<tr><td>Boris   </td><td style=\"text-align: right;\">3200</td><td style=\"text-align: right;\"> 2</td><td style=\"text-align: right;\"> 2</td></tr>\n",
       "<tr><td>Tony    </td><td style=\"text-align: right;\">3100</td><td style=\"text-align: right;\"> 3</td><td style=\"text-align: right;\"> 3</td></tr>\n",
       "<tr><td>Tobias  </td><td style=\"text-align: right;\">3000</td><td style=\"text-align: right;\"> 4</td><td style=\"text-align: right;\"> 4</td></tr>\n",
       "<tr><td>Karen   </td><td style=\"text-align: right;\">2800</td><td style=\"text-align: right;\"> 5</td><td style=\"text-align: right;\"> 5</td></tr>\n",
       "<tr><td>Petko   </td><td style=\"text-align: right;\">2700</td><td style=\"text-align: right;\"> 6</td><td style=\"text-align: right;\"> 6</td></tr>\n",
       "<tr><td>Anelia  </td><td style=\"text-align: right;\">2650</td><td style=\"text-align: right;\"> 7</td><td style=\"text-align: right;\"> 7</td></tr>\n",
       "<tr><td>Anelia  </td><td style=\"text-align: right;\">2650</td><td style=\"text-align: right;\"> 7</td><td style=\"text-align: right;\"> 7</td></tr>\n",
       "<tr><td>Mario   </td><td style=\"text-align: right;\">2500</td><td style=\"text-align: right;\"> 9</td><td style=\"text-align: right;\"> 8</td></tr>\n",
       "<tr><td>John    </td><td style=\"text-align: right;\">2400</td><td style=\"text-align: right;\">10</td><td style=\"text-align: right;\"> 9</td></tr>\n",
       "<tr><td>Anthony </td><td style=\"text-align: right;\">2300</td><td style=\"text-align: right;\">11</td><td style=\"text-align: right;\">10</td></tr>\n",
       "<tr><td>Detelina</td><td style=\"text-align: right;\">2200</td><td style=\"text-align: right;\">12</td><td style=\"text-align: right;\">11</td></tr>\n",
       "<tr><td>Dilyana </td><td style=\"text-align: right;\">2200</td><td style=\"text-align: right;\">12</td><td style=\"text-align: right;\">11</td></tr>\n",
       "<tr><td>Maria   </td><td style=\"text-align: right;\">2000</td><td style=\"text-align: right;\">14</td><td style=\"text-align: right;\">12</td></tr>\n",
       "<tr><td>Tanya   </td><td style=\"text-align: right;\">2000</td><td style=\"text-align: right;\">14</td><td style=\"text-align: right;\">12</td></tr>\n",
       "<tr><td>Daniel  </td><td style=\"text-align: right;\">1900</td><td style=\"text-align: right;\">16</td><td style=\"text-align: right;\">13</td></tr>\n",
       "<tr><td>Pratel  </td><td style=\"text-align: right;\">1850</td><td style=\"text-align: right;\">17</td><td style=\"text-align: right;\">14</td></tr>\n",
       "<tr><td>Kris    </td><td style=\"text-align: right;\">1800</td><td style=\"text-align: right;\">18</td><td style=\"text-align: right;\">15</td></tr>\n",
       "<tr><td>Simeon  </td><td style=\"text-align: right;\">1800</td><td style=\"text-align: right;\">18</td><td style=\"text-align: right;\">15</td></tr>\n",
       "<tr><td>Ivan    </td><td style=\"text-align: right;\">1800</td><td style=\"text-align: right;\">18</td><td style=\"text-align: right;\">15</td></tr>\n",
       "<tr><td>Toby    </td><td style=\"text-align: right;\">1750</td><td style=\"text-align: right;\">21</td><td style=\"text-align: right;\">16</td></tr>\n",
       "<tr><td>Samuel  </td><td style=\"text-align: right;\">1500</td><td style=\"text-align: right;\">22</td><td style=\"text-align: right;\">17</td></tr>\n",
       "<tr><td>Katya   </td><td style=\"text-align: right;\">1500</td><td style=\"text-align: right;\">22</td><td style=\"text-align: right;\">17</td></tr>\n",
       "</tbody>\n",
       "</table>"
      ],
      "text/plain": [
       "'<table>\\n<tbody>\\n<tr><td>Natalia </td><td style=\"text-align: right;\">3500</td><td style=\"text-align: right;\"> 1</td><td style=\"text-align: right;\"> 1</td></tr>\\n<tr><td>Boris   </td><td style=\"text-align: right;\">3200</td><td style=\"text-align: right;\"> 2</td><td style=\"text-align: right;\"> 2</td></tr>\\n<tr><td>Tony    </td><td style=\"text-align: right;\">3100</td><td style=\"text-align: right;\"> 3</td><td style=\"text-align: right;\"> 3</td></tr>\\n<tr><td>Tobias  </td><td style=\"text-align: right;\">3000</td><td style=\"text-align: right;\"> 4</td><td style=\"text-align: right;\"> 4</td></tr>\\n<tr><td>Karen   </td><td style=\"text-align: right;\">2800</td><td style=\"text-align: right;\"> 5</td><td style=\"text-align: right;\"> 5</td></tr>\\n<tr><td>Petko   </td><td style=\"text-align: right;\">2700</td><td style=\"text-align: right;\"> 6</td><td style=\"text-align: right;\"> 6</td></tr>\\n<tr><td>Anelia  </td><td style=\"text-align: right;\">2650</td><td style=\"text-align: right;\"> 7</td><td style=\"text-align: right;\"> 7</td></tr>\\n<tr><td>Anelia  </td><td style=\"text-align: right;\">2650</td><td style=\"text-align: right;\"> 7</td><td style=\"text-align: right;\"> 7</td></tr>\\n<tr><td>Mario   </td><td style=\"text-align: right;\">2500</td><td style=\"text-align: right;\"> 9</td><td style=\"text-align: right;\"> 8</td></tr>\\n<tr><td>John    </td><td style=\"text-align: right;\">2400</td><td style=\"text-align: right;\">10</td><td style=\"text-align: right;\"> 9</td></tr>\\n<tr><td>Anthony </td><td style=\"text-align: right;\">2300</td><td style=\"text-align: right;\">11</td><td style=\"text-align: right;\">10</td></tr>\\n<tr><td>Detelina</td><td style=\"text-align: right;\">2200</td><td style=\"text-align: right;\">12</td><td style=\"text-align: right;\">11</td></tr>\\n<tr><td>Dilyana </td><td style=\"text-align: right;\">2200</td><td style=\"text-align: right;\">12</td><td style=\"text-align: right;\">11</td></tr>\\n<tr><td>Maria   </td><td style=\"text-align: right;\">2000</td><td style=\"text-align: right;\">14</td><td style=\"text-align: right;\">12</td></tr>\\n<tr><td>Tanya   </td><td style=\"text-align: right;\">2000</td><td style=\"text-align: right;\">14</td><td style=\"text-align: right;\">12</td></tr>\\n<tr><td>Daniel  </td><td style=\"text-align: right;\">1900</td><td style=\"text-align: right;\">16</td><td style=\"text-align: right;\">13</td></tr>\\n<tr><td>Pratel  </td><td style=\"text-align: right;\">1850</td><td style=\"text-align: right;\">17</td><td style=\"text-align: right;\">14</td></tr>\\n<tr><td>Kris    </td><td style=\"text-align: right;\">1800</td><td style=\"text-align: right;\">18</td><td style=\"text-align: right;\">15</td></tr>\\n<tr><td>Simeon  </td><td style=\"text-align: right;\">1800</td><td style=\"text-align: right;\">18</td><td style=\"text-align: right;\">15</td></tr>\\n<tr><td>Ivan    </td><td style=\"text-align: right;\">1800</td><td style=\"text-align: right;\">18</td><td style=\"text-align: right;\">15</td></tr>\\n<tr><td>Toby    </td><td style=\"text-align: right;\">1750</td><td style=\"text-align: right;\">21</td><td style=\"text-align: right;\">16</td></tr>\\n<tr><td>Samuel  </td><td style=\"text-align: right;\">1500</td><td style=\"text-align: right;\">22</td><td style=\"text-align: right;\">17</td></tr>\\n<tr><td>Katya   </td><td style=\"text-align: right;\">1500</td><td style=\"text-align: right;\">22</td><td style=\"text-align: right;\">17</td></tr>\\n</tbody>\\n</table>'"
      ]
     },
     "execution_count": 166,
     "metadata": {},
     "output_type": "execute_result"
    }
   ],
   "source": [
    "sql_query = \"\"\"\n",
    "SELECT \n",
    "    name, \n",
    "    salary,\n",
    "    RANK() OVER s,\n",
    "    DENSE_RANK() OVER s\n",
    "FROM emp\n",
    "WINDOW s AS (ORDER BY salary DESC)\n",
    "ORDER BY salary DESC;\n",
    "\"\"\"\n",
    "result = cursor.execute(sql_query)\n",
    "tabulate(result.fetchall(), tablefmt=\"html\")"
   ]
  },
  {
   "cell_type": "markdown",
   "id": "d116cf8f-0c0a-4e1b-82b3-0ffe264e07fa",
   "metadata": {},
   "source": [
    "### Average by Department"
   ]
  },
  {
   "cell_type": "code",
   "execution_count": 167,
   "id": "bf7191f4-f66f-4363-9210-e96a71b113d1",
   "metadata": {},
   "outputs": [
    {
     "data": {
      "text/html": [
       "<table>\n",
       "<tbody>\n",
       "<tr><td>Tobias  </td><td style=\"text-align: right;\">3000</td><td>Finance   </td><td style=\"text-align: right;\">2900</td><td style=\"text-align: right;\"> 100</td></tr>\n",
       "<tr><td>Karen   </td><td style=\"text-align: right;\">2800</td><td>Finance   </td><td style=\"text-align: right;\">2900</td><td style=\"text-align: right;\">-100</td></tr>\n",
       "<tr><td>Anelia  </td><td style=\"text-align: right;\">2650</td><td>HR        </td><td style=\"text-align: right;\">2600</td><td style=\"text-align: right;\">  50</td></tr>\n",
       "<tr><td>Anelia  </td><td style=\"text-align: right;\">2650</td><td>HR        </td><td style=\"text-align: right;\">2600</td><td style=\"text-align: right;\">  50</td></tr>\n",
       "<tr><td>Mario   </td><td style=\"text-align: right;\">2500</td><td>HR        </td><td style=\"text-align: right;\">2600</td><td style=\"text-align: right;\">-100</td></tr>\n",
       "<tr><td>Petko   </td><td style=\"text-align: right;\">2700</td><td>IT        </td><td style=\"text-align: right;\">2275</td><td style=\"text-align: right;\"> 425</td></tr>\n",
       "<tr><td>John    </td><td style=\"text-align: right;\">2400</td><td>IT        </td><td style=\"text-align: right;\">2275</td><td style=\"text-align: right;\"> 125</td></tr>\n",
       "<tr><td>Dilyana </td><td style=\"text-align: right;\">2200</td><td>IT        </td><td style=\"text-align: right;\">2275</td><td style=\"text-align: right;\"> -75</td></tr>\n",
       "<tr><td>Ivan    </td><td style=\"text-align: right;\">1800</td><td>IT        </td><td style=\"text-align: right;\">2275</td><td style=\"text-align: right;\">-475</td></tr>\n",
       "<tr><td>Tony    </td><td style=\"text-align: right;\">3100</td><td>Legal     </td><td style=\"text-align: right;\">3100</td><td style=\"text-align: right;\">   0</td></tr>\n",
       "<tr><td>Anthony </td><td style=\"text-align: right;\">2300</td><td>Marketing </td><td style=\"text-align: right;\">2000</td><td style=\"text-align: right;\"> 300</td></tr>\n",
       "<tr><td>Detelina</td><td style=\"text-align: right;\">2200</td><td>Marketing </td><td style=\"text-align: right;\">2000</td><td style=\"text-align: right;\"> 200</td></tr>\n",
       "<tr><td>Samuel  </td><td style=\"text-align: right;\">1500</td><td>Marketing </td><td style=\"text-align: right;\">2000</td><td style=\"text-align: right;\">-500</td></tr>\n",
       "<tr><td>Maria   </td><td style=\"text-align: right;\">2000</td><td>Operations</td><td style=\"text-align: right;\">1825</td><td style=\"text-align: right;\"> 175</td></tr>\n",
       "<tr><td>Tanya   </td><td style=\"text-align: right;\">2000</td><td>Operations</td><td style=\"text-align: right;\">1825</td><td style=\"text-align: right;\"> 175</td></tr>\n",
       "<tr><td>Daniel  </td><td style=\"text-align: right;\">1900</td><td>Operations</td><td style=\"text-align: right;\">1825</td><td style=\"text-align: right;\">  75</td></tr>\n",
       "<tr><td>Pratel  </td><td style=\"text-align: right;\">1850</td><td>Operations</td><td style=\"text-align: right;\">1825</td><td style=\"text-align: right;\">  25</td></tr>\n",
       "<tr><td>Kris    </td><td style=\"text-align: right;\">1800</td><td>Operations</td><td style=\"text-align: right;\">1825</td><td style=\"text-align: right;\"> -25</td></tr>\n",
       "<tr><td>Simeon  </td><td style=\"text-align: right;\">1800</td><td>Operations</td><td style=\"text-align: right;\">1825</td><td style=\"text-align: right;\"> -25</td></tr>\n",
       "<tr><td>Toby    </td><td style=\"text-align: right;\">1750</td><td>Operations</td><td style=\"text-align: right;\">1825</td><td style=\"text-align: right;\"> -75</td></tr>\n",
       "<tr><td>Katya   </td><td style=\"text-align: right;\">1500</td><td>Operations</td><td style=\"text-align: right;\">1825</td><td style=\"text-align: right;\">-325</td></tr>\n",
       "<tr><td>Natalia </td><td style=\"text-align: right;\">3500</td><td>Sales     </td><td style=\"text-align: right;\">3350</td><td style=\"text-align: right;\"> 150</td></tr>\n",
       "<tr><td>Boris   </td><td style=\"text-align: right;\">3200</td><td>Sales     </td><td style=\"text-align: right;\">3350</td><td style=\"text-align: right;\">-150</td></tr>\n",
       "</tbody>\n",
       "</table>"
      ],
      "text/plain": [
       "'<table>\\n<tbody>\\n<tr><td>Tobias  </td><td style=\"text-align: right;\">3000</td><td>Finance   </td><td style=\"text-align: right;\">2900</td><td style=\"text-align: right;\"> 100</td></tr>\\n<tr><td>Karen   </td><td style=\"text-align: right;\">2800</td><td>Finance   </td><td style=\"text-align: right;\">2900</td><td style=\"text-align: right;\">-100</td></tr>\\n<tr><td>Anelia  </td><td style=\"text-align: right;\">2650</td><td>HR        </td><td style=\"text-align: right;\">2600</td><td style=\"text-align: right;\">  50</td></tr>\\n<tr><td>Anelia  </td><td style=\"text-align: right;\">2650</td><td>HR        </td><td style=\"text-align: right;\">2600</td><td style=\"text-align: right;\">  50</td></tr>\\n<tr><td>Mario   </td><td style=\"text-align: right;\">2500</td><td>HR        </td><td style=\"text-align: right;\">2600</td><td style=\"text-align: right;\">-100</td></tr>\\n<tr><td>Petko   </td><td style=\"text-align: right;\">2700</td><td>IT        </td><td style=\"text-align: right;\">2275</td><td style=\"text-align: right;\"> 425</td></tr>\\n<tr><td>John    </td><td style=\"text-align: right;\">2400</td><td>IT        </td><td style=\"text-align: right;\">2275</td><td style=\"text-align: right;\"> 125</td></tr>\\n<tr><td>Dilyana </td><td style=\"text-align: right;\">2200</td><td>IT        </td><td style=\"text-align: right;\">2275</td><td style=\"text-align: right;\"> -75</td></tr>\\n<tr><td>Ivan    </td><td style=\"text-align: right;\">1800</td><td>IT        </td><td style=\"text-align: right;\">2275</td><td style=\"text-align: right;\">-475</td></tr>\\n<tr><td>Tony    </td><td style=\"text-align: right;\">3100</td><td>Legal     </td><td style=\"text-align: right;\">3100</td><td style=\"text-align: right;\">   0</td></tr>\\n<tr><td>Anthony </td><td style=\"text-align: right;\">2300</td><td>Marketing </td><td style=\"text-align: right;\">2000</td><td style=\"text-align: right;\"> 300</td></tr>\\n<tr><td>Detelina</td><td style=\"text-align: right;\">2200</td><td>Marketing </td><td style=\"text-align: right;\">2000</td><td style=\"text-align: right;\"> 200</td></tr>\\n<tr><td>Samuel  </td><td style=\"text-align: right;\">1500</td><td>Marketing </td><td style=\"text-align: right;\">2000</td><td style=\"text-align: right;\">-500</td></tr>\\n<tr><td>Maria   </td><td style=\"text-align: right;\">2000</td><td>Operations</td><td style=\"text-align: right;\">1825</td><td style=\"text-align: right;\"> 175</td></tr>\\n<tr><td>Tanya   </td><td style=\"text-align: right;\">2000</td><td>Operations</td><td style=\"text-align: right;\">1825</td><td style=\"text-align: right;\"> 175</td></tr>\\n<tr><td>Daniel  </td><td style=\"text-align: right;\">1900</td><td>Operations</td><td style=\"text-align: right;\">1825</td><td style=\"text-align: right;\">  75</td></tr>\\n<tr><td>Pratel  </td><td style=\"text-align: right;\">1850</td><td>Operations</td><td style=\"text-align: right;\">1825</td><td style=\"text-align: right;\">  25</td></tr>\\n<tr><td>Kris    </td><td style=\"text-align: right;\">1800</td><td>Operations</td><td style=\"text-align: right;\">1825</td><td style=\"text-align: right;\"> -25</td></tr>\\n<tr><td>Simeon  </td><td style=\"text-align: right;\">1800</td><td>Operations</td><td style=\"text-align: right;\">1825</td><td style=\"text-align: right;\"> -25</td></tr>\\n<tr><td>Toby    </td><td style=\"text-align: right;\">1750</td><td>Operations</td><td style=\"text-align: right;\">1825</td><td style=\"text-align: right;\"> -75</td></tr>\\n<tr><td>Katya   </td><td style=\"text-align: right;\">1500</td><td>Operations</td><td style=\"text-align: right;\">1825</td><td style=\"text-align: right;\">-325</td></tr>\\n<tr><td>Natalia </td><td style=\"text-align: right;\">3500</td><td>Sales     </td><td style=\"text-align: right;\">3350</td><td style=\"text-align: right;\"> 150</td></tr>\\n<tr><td>Boris   </td><td style=\"text-align: right;\">3200</td><td>Sales     </td><td style=\"text-align: right;\">3350</td><td style=\"text-align: right;\">-150</td></tr>\\n</tbody>\\n</table>'"
      ]
     },
     "execution_count": 167,
     "metadata": {},
     "output_type": "execute_result"
    }
   ],
   "source": [
    "sql_query = \"\"\"\n",
    "SELECT \n",
    "    name, \n",
    "    salary,\n",
    "    department,\n",
    "    round(AVG(salary) OVER (PARTITION BY department), 2) AS avg,\n",
    "    round(salary - AVG(salary) OVER (PARTITION BY department), 2) AS diff_avg\n",
    "FROM emp\n",
    "ORDER BY department, salary DESC;\n",
    "\"\"\"\n",
    "result = cursor.execute(sql_query)\n",
    "tabulate(result.fetchall(), tablefmt=\"html\")"
   ]
  },
  {
   "cell_type": "markdown",
   "id": "5a5f4643-9c93-4362-b2aa-509b107e75e0",
   "metadata": {},
   "source": [
    "### Compared to Next Salary in Department"
   ]
  },
  {
   "cell_type": "code",
   "execution_count": 168,
   "id": "59888954-ed47-4294-9274-a585bbf099b6",
   "metadata": {},
   "outputs": [
    {
     "data": {
      "text/html": [
       "<table>\n",
       "<tbody>\n",
       "<tr><td>Tobias  </td><td>Finance   </td><td style=\"text-align: right;\">3000</td><td style=\"text-align: right;\">200</td></tr>\n",
       "<tr><td>Karen   </td><td>Finance   </td><td style=\"text-align: right;\">2800</td><td style=\"text-align: right;\">   </td></tr>\n",
       "<tr><td>Anelia  </td><td>HR        </td><td style=\"text-align: right;\">2650</td><td style=\"text-align: right;\">  0</td></tr>\n",
       "<tr><td>Anelia  </td><td>HR        </td><td style=\"text-align: right;\">2650</td><td style=\"text-align: right;\">150</td></tr>\n",
       "<tr><td>Mario   </td><td>HR        </td><td style=\"text-align: right;\">2500</td><td style=\"text-align: right;\">   </td></tr>\n",
       "<tr><td>Petko   </td><td>IT        </td><td style=\"text-align: right;\">2700</td><td style=\"text-align: right;\">300</td></tr>\n",
       "<tr><td>John    </td><td>IT        </td><td style=\"text-align: right;\">2400</td><td style=\"text-align: right;\">200</td></tr>\n",
       "<tr><td>Dilyana </td><td>IT        </td><td style=\"text-align: right;\">2200</td><td style=\"text-align: right;\">400</td></tr>\n",
       "<tr><td>Ivan    </td><td>IT        </td><td style=\"text-align: right;\">1800</td><td style=\"text-align: right;\">   </td></tr>\n",
       "<tr><td>Tony    </td><td>Legal     </td><td style=\"text-align: right;\">3100</td><td style=\"text-align: right;\">   </td></tr>\n",
       "<tr><td>Anthony </td><td>Marketing </td><td style=\"text-align: right;\">2300</td><td style=\"text-align: right;\">100</td></tr>\n",
       "<tr><td>Detelina</td><td>Marketing </td><td style=\"text-align: right;\">2200</td><td style=\"text-align: right;\">700</td></tr>\n",
       "<tr><td>Samuel  </td><td>Marketing </td><td style=\"text-align: right;\">1500</td><td style=\"text-align: right;\">   </td></tr>\n",
       "<tr><td>Maria   </td><td>Operations</td><td style=\"text-align: right;\">2000</td><td style=\"text-align: right;\">  0</td></tr>\n",
       "<tr><td>Tanya   </td><td>Operations</td><td style=\"text-align: right;\">2000</td><td style=\"text-align: right;\">100</td></tr>\n",
       "<tr><td>Daniel  </td><td>Operations</td><td style=\"text-align: right;\">1900</td><td style=\"text-align: right;\"> 50</td></tr>\n",
       "<tr><td>Pratel  </td><td>Operations</td><td style=\"text-align: right;\">1850</td><td style=\"text-align: right;\"> 50</td></tr>\n",
       "<tr><td>Kris    </td><td>Operations</td><td style=\"text-align: right;\">1800</td><td style=\"text-align: right;\">  0</td></tr>\n",
       "<tr><td>Simeon  </td><td>Operations</td><td style=\"text-align: right;\">1800</td><td style=\"text-align: right;\"> 50</td></tr>\n",
       "<tr><td>Toby    </td><td>Operations</td><td style=\"text-align: right;\">1750</td><td style=\"text-align: right;\">250</td></tr>\n",
       "<tr><td>Katya   </td><td>Operations</td><td style=\"text-align: right;\">1500</td><td style=\"text-align: right;\">   </td></tr>\n",
       "<tr><td>Natalia </td><td>Sales     </td><td style=\"text-align: right;\">3500</td><td style=\"text-align: right;\">300</td></tr>\n",
       "<tr><td>Boris   </td><td>Sales     </td><td style=\"text-align: right;\">3200</td><td style=\"text-align: right;\">   </td></tr>\n",
       "</tbody>\n",
       "</table>"
      ],
      "text/plain": [
       "'<table>\\n<tbody>\\n<tr><td>Tobias  </td><td>Finance   </td><td style=\"text-align: right;\">3000</td><td style=\"text-align: right;\">200</td></tr>\\n<tr><td>Karen   </td><td>Finance   </td><td style=\"text-align: right;\">2800</td><td style=\"text-align: right;\">   </td></tr>\\n<tr><td>Anelia  </td><td>HR        </td><td style=\"text-align: right;\">2650</td><td style=\"text-align: right;\">  0</td></tr>\\n<tr><td>Anelia  </td><td>HR        </td><td style=\"text-align: right;\">2650</td><td style=\"text-align: right;\">150</td></tr>\\n<tr><td>Mario   </td><td>HR        </td><td style=\"text-align: right;\">2500</td><td style=\"text-align: right;\">   </td></tr>\\n<tr><td>Petko   </td><td>IT        </td><td style=\"text-align: right;\">2700</td><td style=\"text-align: right;\">300</td></tr>\\n<tr><td>John    </td><td>IT        </td><td style=\"text-align: right;\">2400</td><td style=\"text-align: right;\">200</td></tr>\\n<tr><td>Dilyana </td><td>IT        </td><td style=\"text-align: right;\">2200</td><td style=\"text-align: right;\">400</td></tr>\\n<tr><td>Ivan    </td><td>IT        </td><td style=\"text-align: right;\">1800</td><td style=\"text-align: right;\">   </td></tr>\\n<tr><td>Tony    </td><td>Legal     </td><td style=\"text-align: right;\">3100</td><td style=\"text-align: right;\">   </td></tr>\\n<tr><td>Anthony </td><td>Marketing </td><td style=\"text-align: right;\">2300</td><td style=\"text-align: right;\">100</td></tr>\\n<tr><td>Detelina</td><td>Marketing </td><td style=\"text-align: right;\">2200</td><td style=\"text-align: right;\">700</td></tr>\\n<tr><td>Samuel  </td><td>Marketing </td><td style=\"text-align: right;\">1500</td><td style=\"text-align: right;\">   </td></tr>\\n<tr><td>Maria   </td><td>Operations</td><td style=\"text-align: right;\">2000</td><td style=\"text-align: right;\">  0</td></tr>\\n<tr><td>Tanya   </td><td>Operations</td><td style=\"text-align: right;\">2000</td><td style=\"text-align: right;\">100</td></tr>\\n<tr><td>Daniel  </td><td>Operations</td><td style=\"text-align: right;\">1900</td><td style=\"text-align: right;\"> 50</td></tr>\\n<tr><td>Pratel  </td><td>Operations</td><td style=\"text-align: right;\">1850</td><td style=\"text-align: right;\"> 50</td></tr>\\n<tr><td>Kris    </td><td>Operations</td><td style=\"text-align: right;\">1800</td><td style=\"text-align: right;\">  0</td></tr>\\n<tr><td>Simeon  </td><td>Operations</td><td style=\"text-align: right;\">1800</td><td style=\"text-align: right;\"> 50</td></tr>\\n<tr><td>Toby    </td><td>Operations</td><td style=\"text-align: right;\">1750</td><td style=\"text-align: right;\">250</td></tr>\\n<tr><td>Katya   </td><td>Operations</td><td style=\"text-align: right;\">1500</td><td style=\"text-align: right;\">   </td></tr>\\n<tr><td>Natalia </td><td>Sales     </td><td style=\"text-align: right;\">3500</td><td style=\"text-align: right;\">300</td></tr>\\n<tr><td>Boris   </td><td>Sales     </td><td style=\"text-align: right;\">3200</td><td style=\"text-align: right;\">   </td></tr>\\n</tbody>\\n</table>'"
      ]
     },
     "execution_count": 168,
     "metadata": {},
     "output_type": "execute_result"
    }
   ],
   "source": [
    "sql_query = \"\"\"\n",
    "SELECT \n",
    "    name, \n",
    "    department,\n",
    "    salary,\n",
    "    salary - LEAD(salary, 1) OVER (PARTITION BY department ORDER BY salary DESC) AS diff_next\n",
    "FROM emp\n",
    "ORDER BY department, salary DESC;\n",
    "\"\"\"\n",
    "result = cursor.execute(sql_query)\n",
    "tabulate(result.fetchall(), tablefmt=\"html\")"
   ]
  },
  {
   "cell_type": "markdown",
   "id": "711ed5fe-a115-4521-8707-a338c1c7df33",
   "metadata": {},
   "source": [
    "### Departmental and Global Ranks"
   ]
  },
  {
   "cell_type": "code",
   "execution_count": 169,
   "id": "6b9519ff-22e9-4b35-ab63-e838898fc3f6",
   "metadata": {},
   "outputs": [
    {
     "data": {
      "text/html": [
       "<table>\n",
       "<tbody>\n",
       "<tr><td>Tobias  </td><td>Finance   </td><td style=\"text-align: right;\">3000</td><td style=\"text-align: right;\">1</td><td style=\"text-align: right;\"> 4</td></tr>\n",
       "<tr><td>Karen   </td><td>Finance   </td><td style=\"text-align: right;\">2800</td><td style=\"text-align: right;\">2</td><td style=\"text-align: right;\"> 5</td></tr>\n",
       "<tr><td>Anelia  </td><td>HR        </td><td style=\"text-align: right;\">2650</td><td style=\"text-align: right;\">1</td><td style=\"text-align: right;\"> 7</td></tr>\n",
       "<tr><td>Anelia  </td><td>HR        </td><td style=\"text-align: right;\">2650</td><td style=\"text-align: right;\">1</td><td style=\"text-align: right;\"> 7</td></tr>\n",
       "<tr><td>Mario   </td><td>HR        </td><td style=\"text-align: right;\">2500</td><td style=\"text-align: right;\">3</td><td style=\"text-align: right;\"> 9</td></tr>\n",
       "<tr><td>Petko   </td><td>IT        </td><td style=\"text-align: right;\">2700</td><td style=\"text-align: right;\">1</td><td style=\"text-align: right;\"> 6</td></tr>\n",
       "<tr><td>John    </td><td>IT        </td><td style=\"text-align: right;\">2400</td><td style=\"text-align: right;\">2</td><td style=\"text-align: right;\">10</td></tr>\n",
       "<tr><td>Dilyana </td><td>IT        </td><td style=\"text-align: right;\">2200</td><td style=\"text-align: right;\">3</td><td style=\"text-align: right;\">12</td></tr>\n",
       "<tr><td>Ivan    </td><td>IT        </td><td style=\"text-align: right;\">1800</td><td style=\"text-align: right;\">4</td><td style=\"text-align: right;\">18</td></tr>\n",
       "<tr><td>Tony    </td><td>Legal     </td><td style=\"text-align: right;\">3100</td><td style=\"text-align: right;\">1</td><td style=\"text-align: right;\"> 3</td></tr>\n",
       "<tr><td>Anthony </td><td>Marketing </td><td style=\"text-align: right;\">2300</td><td style=\"text-align: right;\">1</td><td style=\"text-align: right;\">11</td></tr>\n",
       "<tr><td>Detelina</td><td>Marketing </td><td style=\"text-align: right;\">2200</td><td style=\"text-align: right;\">2</td><td style=\"text-align: right;\">12</td></tr>\n",
       "<tr><td>Samuel  </td><td>Marketing </td><td style=\"text-align: right;\">1500</td><td style=\"text-align: right;\">3</td><td style=\"text-align: right;\">22</td></tr>\n",
       "<tr><td>Maria   </td><td>Operations</td><td style=\"text-align: right;\">2000</td><td style=\"text-align: right;\">1</td><td style=\"text-align: right;\">14</td></tr>\n",
       "<tr><td>Tanya   </td><td>Operations</td><td style=\"text-align: right;\">2000</td><td style=\"text-align: right;\">1</td><td style=\"text-align: right;\">14</td></tr>\n",
       "<tr><td>Daniel  </td><td>Operations</td><td style=\"text-align: right;\">1900</td><td style=\"text-align: right;\">3</td><td style=\"text-align: right;\">16</td></tr>\n",
       "<tr><td>Pratel  </td><td>Operations</td><td style=\"text-align: right;\">1850</td><td style=\"text-align: right;\">4</td><td style=\"text-align: right;\">17</td></tr>\n",
       "<tr><td>Kris    </td><td>Operations</td><td style=\"text-align: right;\">1800</td><td style=\"text-align: right;\">5</td><td style=\"text-align: right;\">18</td></tr>\n",
       "<tr><td>Simeon  </td><td>Operations</td><td style=\"text-align: right;\">1800</td><td style=\"text-align: right;\">5</td><td style=\"text-align: right;\">18</td></tr>\n",
       "<tr><td>Toby    </td><td>Operations</td><td style=\"text-align: right;\">1750</td><td style=\"text-align: right;\">7</td><td style=\"text-align: right;\">21</td></tr>\n",
       "<tr><td>Katya   </td><td>Operations</td><td style=\"text-align: right;\">1500</td><td style=\"text-align: right;\">8</td><td style=\"text-align: right;\">22</td></tr>\n",
       "<tr><td>Natalia </td><td>Sales     </td><td style=\"text-align: right;\">3500</td><td style=\"text-align: right;\">1</td><td style=\"text-align: right;\"> 1</td></tr>\n",
       "<tr><td>Boris   </td><td>Sales     </td><td style=\"text-align: right;\">3200</td><td style=\"text-align: right;\">2</td><td style=\"text-align: right;\"> 2</td></tr>\n",
       "</tbody>\n",
       "</table>"
      ],
      "text/plain": [
       "'<table>\\n<tbody>\\n<tr><td>Tobias  </td><td>Finance   </td><td style=\"text-align: right;\">3000</td><td style=\"text-align: right;\">1</td><td style=\"text-align: right;\"> 4</td></tr>\\n<tr><td>Karen   </td><td>Finance   </td><td style=\"text-align: right;\">2800</td><td style=\"text-align: right;\">2</td><td style=\"text-align: right;\"> 5</td></tr>\\n<tr><td>Anelia  </td><td>HR        </td><td style=\"text-align: right;\">2650</td><td style=\"text-align: right;\">1</td><td style=\"text-align: right;\"> 7</td></tr>\\n<tr><td>Anelia  </td><td>HR        </td><td style=\"text-align: right;\">2650</td><td style=\"text-align: right;\">1</td><td style=\"text-align: right;\"> 7</td></tr>\\n<tr><td>Mario   </td><td>HR        </td><td style=\"text-align: right;\">2500</td><td style=\"text-align: right;\">3</td><td style=\"text-align: right;\"> 9</td></tr>\\n<tr><td>Petko   </td><td>IT        </td><td style=\"text-align: right;\">2700</td><td style=\"text-align: right;\">1</td><td style=\"text-align: right;\"> 6</td></tr>\\n<tr><td>John    </td><td>IT        </td><td style=\"text-align: right;\">2400</td><td style=\"text-align: right;\">2</td><td style=\"text-align: right;\">10</td></tr>\\n<tr><td>Dilyana </td><td>IT        </td><td style=\"text-align: right;\">2200</td><td style=\"text-align: right;\">3</td><td style=\"text-align: right;\">12</td></tr>\\n<tr><td>Ivan    </td><td>IT        </td><td style=\"text-align: right;\">1800</td><td style=\"text-align: right;\">4</td><td style=\"text-align: right;\">18</td></tr>\\n<tr><td>Tony    </td><td>Legal     </td><td style=\"text-align: right;\">3100</td><td style=\"text-align: right;\">1</td><td style=\"text-align: right;\"> 3</td></tr>\\n<tr><td>Anthony </td><td>Marketing </td><td style=\"text-align: right;\">2300</td><td style=\"text-align: right;\">1</td><td style=\"text-align: right;\">11</td></tr>\\n<tr><td>Detelina</td><td>Marketing </td><td style=\"text-align: right;\">2200</td><td style=\"text-align: right;\">2</td><td style=\"text-align: right;\">12</td></tr>\\n<tr><td>Samuel  </td><td>Marketing </td><td style=\"text-align: right;\">1500</td><td style=\"text-align: right;\">3</td><td style=\"text-align: right;\">22</td></tr>\\n<tr><td>Maria   </td><td>Operations</td><td style=\"text-align: right;\">2000</td><td style=\"text-align: right;\">1</td><td style=\"text-align: right;\">14</td></tr>\\n<tr><td>Tanya   </td><td>Operations</td><td style=\"text-align: right;\">2000</td><td style=\"text-align: right;\">1</td><td style=\"text-align: right;\">14</td></tr>\\n<tr><td>Daniel  </td><td>Operations</td><td style=\"text-align: right;\">1900</td><td style=\"text-align: right;\">3</td><td style=\"text-align: right;\">16</td></tr>\\n<tr><td>Pratel  </td><td>Operations</td><td style=\"text-align: right;\">1850</td><td style=\"text-align: right;\">4</td><td style=\"text-align: right;\">17</td></tr>\\n<tr><td>Kris    </td><td>Operations</td><td style=\"text-align: right;\">1800</td><td style=\"text-align: right;\">5</td><td style=\"text-align: right;\">18</td></tr>\\n<tr><td>Simeon  </td><td>Operations</td><td style=\"text-align: right;\">1800</td><td style=\"text-align: right;\">5</td><td style=\"text-align: right;\">18</td></tr>\\n<tr><td>Toby    </td><td>Operations</td><td style=\"text-align: right;\">1750</td><td style=\"text-align: right;\">7</td><td style=\"text-align: right;\">21</td></tr>\\n<tr><td>Katya   </td><td>Operations</td><td style=\"text-align: right;\">1500</td><td style=\"text-align: right;\">8</td><td style=\"text-align: right;\">22</td></tr>\\n<tr><td>Natalia </td><td>Sales     </td><td style=\"text-align: right;\">3500</td><td style=\"text-align: right;\">1</td><td style=\"text-align: right;\"> 1</td></tr>\\n<tr><td>Boris   </td><td>Sales     </td><td style=\"text-align: right;\">3200</td><td style=\"text-align: right;\">2</td><td style=\"text-align: right;\"> 2</td></tr>\\n</tbody>\\n</table>'"
      ]
     },
     "execution_count": 169,
     "metadata": {},
     "output_type": "execute_result"
    }
   ],
   "source": [
    "sql_query = \"\"\"\n",
    "SELECT \n",
    "    name, \n",
    "    department,\n",
    "    salary,\n",
    "    RANK() OVER (PARTITION BY department ORDER BY salary DESC) AS dept_rank,\n",
    "    RANK() OVER (ORDER BY salary DESC) AS global_rank\n",
    "FROM emp\n",
    "ORDER BY department, salary DESC;\n",
    "\"\"\"\n",
    "result = cursor.execute(sql_query)\n",
    "tabulate(result.fetchall(), tablefmt=\"html\")"
   ]
  },
  {
   "cell_type": "code",
   "execution_count": 170,
   "id": "babb992a-bea9-4833-b95d-a0e08ee6cf8d",
   "metadata": {},
   "outputs": [
    {
     "data": {
      "text/plain": [
       "[(53100,)]"
      ]
     },
     "execution_count": 170,
     "metadata": {},
     "output_type": "execute_result"
    }
   ],
   "source": [
    "sql_query = \"\"\"\n",
    "SELECT SUM(salary) FROM emp\n",
    "\"\"\"\n",
    "result = cursor.execute(sql_query)\n",
    "result.fetchall()"
   ]
  },
  {
   "cell_type": "code",
   "execution_count": 171,
   "id": "82ec8b74-126f-4d86-8ef2-44974cccca1f",
   "metadata": {},
   "outputs": [],
   "source": [
    "conn.close()"
   ]
  },
  {
   "cell_type": "markdown",
   "id": "362d821b-0e7b-4213-87ae-4138bc54411c",
   "metadata": {},
   "source": [
    "Resources:\n",
    "+ https://momjian.us/main/writings/pgsql/window.pdf\n",
    "+ https://www.youtube.com/watch?v=D8Q4n6YXdpk\n",
    "+ https://www.red-gate.com/simple-talk/databases/sql-server/learn/window-functions-in-sql-server/\n",
    "+ https://www.red-gate.com/simple-talk/databases/sql-server/learn/window-functions-in-sql-server-part-2-the-frame/\n",
    "+ https://www.postgresql.org/docs/current/tutorial-window.html"
   ]
  },
  {
   "cell_type": "markdown",
   "id": "93c60986-67e8-4031-8a77-0c4f498321f1",
   "metadata": {},
   "source": []
  }
 ],
 "metadata": {
  "kernelspec": {
   "display_name": "Python 3 (ipykernel)",
   "language": "python",
   "name": "python3"
  },
  "language_info": {
   "codemirror_mode": {
    "name": "ipython",
    "version": 3
   },
   "file_extension": ".py",
   "mimetype": "text/x-python",
   "name": "python",
   "nbconvert_exporter": "python",
   "pygments_lexer": "ipython3",
   "version": "3.11.6"
  }
 },
 "nbformat": 4,
 "nbformat_minor": 5
}
