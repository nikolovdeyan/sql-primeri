{
 "cells": [
  {
   "cell_type": "code",
   "execution_count": 21,
   "id": "835bea53-e4be-48f7-8ad1-167b131b41c0",
   "metadata": {},
   "outputs": [],
   "source": [
    "import sqlite3\n",
    "from tabulate import tabulate"
   ]
  },
  {
   "cell_type": "code",
   "execution_count": 24,
   "id": "9173a7b5-d854-436d-826d-8b2e6d464751",
   "metadata": {},
   "outputs": [],
   "source": [
    "conn = sqlite3.connect('window.db')"
   ]
  },
  {
   "cell_type": "code",
   "execution_count": 3,
   "id": "349ff9dc-2902-409b-b46e-bf556bf925d7",
   "metadata": {},
   "outputs": [],
   "source": [
    "script = \"\"\"\n",
    "DROP TABLE IF EXISTS emp;\n",
    "\n",
    "CREATE TABLE IF NOT EXISTS emp (\n",
    "    id INTEGER PRIMARY KEY AUTOINCREMENT,\n",
    "    name TEXT NOT NULL,\n",
    "    department TEXT,\n",
    "    salary NUMERIC(10, 2)\n",
    ");\n",
    "\n",
    "INSERT INTO emp (name, department, salary) VALUES\n",
    "    (\"Anthony\", \"Marketing\", 2300.00),\n",
    "    (\"Detelina\", \"Marketing\", 2200.00),\n",
    "    (\"Samuel\", \"Marketing\", 1500.00),\n",
    "    (\"Toby\", \"Operations\", 1750.00),\n",
    "    (\"Kris\", \"Operations\", 1800.00),\n",
    "    (\"Daniel\", \"Operations\", 1900.00),\n",
    "    (\"Maria\", \"Operations\", 2000.00),\n",
    "    (\"Pratel\", \"Operations\", 1850.00),\n",
    "    (\"Katya\", \"Operations\", 1500.00),\n",
    "    (\"Simeon\", \"Operations\", 1800.00),\n",
    "    (\"Tanya\", \"Operations\", 2000.00),\n",
    "    (\"Boris\", \"Sales\", 3200.00),\n",
    "    (\"Natalia\", \"Sales\", 3500.00),\n",
    "    (\"Dilyana\", \"IT\", 2200.00),\n",
    "    (\"John\", \"IT\", 2400.00),\n",
    "    (\"Ivan\", \"IT\", 1800.00),\n",
    "    (\"Petko\", \"IT\", 2700.00),\n",
    "    (\"Tobias\", \"Finance\", 3000.00),\n",
    "    (\"Karen\", \"Finance\", 2800.00),\n",
    "    (\"Anelia\", \"HR\", 2650.00),\n",
    "    (\"Mario\", \"HR\", 2500.00),\n",
    "    (\"Anelia\", \"HR\", 2650.00),\n",
    "    (\"Tony\", \"Legal\", 3100.00);\n",
    "\"\"\""
   ]
  },
  {
   "cell_type": "code",
   "execution_count": 25,
   "id": "0792f4bf-6b9e-4740-948c-59f29c06c71e",
   "metadata": {},
   "outputs": [
    {
     "data": {
      "text/plain": [
       "<sqlite3.Cursor at 0x7fbe3a32e8c0>"
      ]
     },
     "execution_count": 25,
     "metadata": {},
     "output_type": "execute_result"
    }
   ],
   "source": [
    "cursor = conn.cursor()\n",
    "cursor.executescript(script)"
   ]
  },
  {
   "cell_type": "code",
   "execution_count": 26,
   "id": "ee2e2270-9dfd-4185-99a5-cf521947bd88",
   "metadata": {},
   "outputs": [
    {
     "data": {
      "text/html": [
       "<table>\n",
       "<tbody>\n",
       "<tr><td style=\"text-align: right;\"> 1</td><td>Anthony </td><td>Marketing </td><td style=\"text-align: right;\">2300</td></tr>\n",
       "<tr><td style=\"text-align: right;\"> 2</td><td>Detelina</td><td>Marketing </td><td style=\"text-align: right;\">2200</td></tr>\n",
       "<tr><td style=\"text-align: right;\"> 3</td><td>Samuel  </td><td>Marketing </td><td style=\"text-align: right;\">1500</td></tr>\n",
       "<tr><td style=\"text-align: right;\"> 4</td><td>Toby    </td><td>Operations</td><td style=\"text-align: right;\">1750</td></tr>\n",
       "<tr><td style=\"text-align: right;\"> 5</td><td>Kris    </td><td>Operations</td><td style=\"text-align: right;\">1800</td></tr>\n",
       "<tr><td style=\"text-align: right;\"> 6</td><td>Daniel  </td><td>Operations</td><td style=\"text-align: right;\">1900</td></tr>\n",
       "<tr><td style=\"text-align: right;\"> 7</td><td>Maria   </td><td>Operations</td><td style=\"text-align: right;\">2000</td></tr>\n",
       "<tr><td style=\"text-align: right;\"> 8</td><td>Pratel  </td><td>Operations</td><td style=\"text-align: right;\">1850</td></tr>\n",
       "<tr><td style=\"text-align: right;\"> 9</td><td>Katya   </td><td>Operations</td><td style=\"text-align: right;\">1500</td></tr>\n",
       "<tr><td style=\"text-align: right;\">10</td><td>Simeon  </td><td>Operations</td><td style=\"text-align: right;\">1800</td></tr>\n",
       "<tr><td style=\"text-align: right;\">11</td><td>Tanya   </td><td>Operations</td><td style=\"text-align: right;\">2000</td></tr>\n",
       "<tr><td style=\"text-align: right;\">12</td><td>Boris   </td><td>Sales     </td><td style=\"text-align: right;\">3200</td></tr>\n",
       "<tr><td style=\"text-align: right;\">13</td><td>Natalia </td><td>Sales     </td><td style=\"text-align: right;\">3500</td></tr>\n",
       "<tr><td style=\"text-align: right;\">14</td><td>Dilyana </td><td>IT        </td><td style=\"text-align: right;\">2200</td></tr>\n",
       "<tr><td style=\"text-align: right;\">15</td><td>John    </td><td>IT        </td><td style=\"text-align: right;\">2400</td></tr>\n",
       "<tr><td style=\"text-align: right;\">16</td><td>Ivan    </td><td>IT        </td><td style=\"text-align: right;\">1800</td></tr>\n",
       "<tr><td style=\"text-align: right;\">17</td><td>Petko   </td><td>IT        </td><td style=\"text-align: right;\">2700</td></tr>\n",
       "<tr><td style=\"text-align: right;\">18</td><td>Tobias  </td><td>Finance   </td><td style=\"text-align: right;\">3000</td></tr>\n",
       "<tr><td style=\"text-align: right;\">19</td><td>Karen   </td><td>Finance   </td><td style=\"text-align: right;\">2800</td></tr>\n",
       "<tr><td style=\"text-align: right;\">20</td><td>Anelia  </td><td>HR        </td><td style=\"text-align: right;\">2650</td></tr>\n",
       "<tr><td style=\"text-align: right;\">21</td><td>Mario   </td><td>HR        </td><td style=\"text-align: right;\">2500</td></tr>\n",
       "<tr><td style=\"text-align: right;\">22</td><td>Anelia  </td><td>HR        </td><td style=\"text-align: right;\">2650</td></tr>\n",
       "<tr><td style=\"text-align: right;\">23</td><td>Tony    </td><td>Legal     </td><td style=\"text-align: right;\">3100</td></tr>\n",
       "</tbody>\n",
       "</table>"
      ],
      "text/plain": [
       "'<table>\\n<tbody>\\n<tr><td style=\"text-align: right;\"> 1</td><td>Anthony </td><td>Marketing </td><td style=\"text-align: right;\">2300</td></tr>\\n<tr><td style=\"text-align: right;\"> 2</td><td>Detelina</td><td>Marketing </td><td style=\"text-align: right;\">2200</td></tr>\\n<tr><td style=\"text-align: right;\"> 3</td><td>Samuel  </td><td>Marketing </td><td style=\"text-align: right;\">1500</td></tr>\\n<tr><td style=\"text-align: right;\"> 4</td><td>Toby    </td><td>Operations</td><td style=\"text-align: right;\">1750</td></tr>\\n<tr><td style=\"text-align: right;\"> 5</td><td>Kris    </td><td>Operations</td><td style=\"text-align: right;\">1800</td></tr>\\n<tr><td style=\"text-align: right;\"> 6</td><td>Daniel  </td><td>Operations</td><td style=\"text-align: right;\">1900</td></tr>\\n<tr><td style=\"text-align: right;\"> 7</td><td>Maria   </td><td>Operations</td><td style=\"text-align: right;\">2000</td></tr>\\n<tr><td style=\"text-align: right;\"> 8</td><td>Pratel  </td><td>Operations</td><td style=\"text-align: right;\">1850</td></tr>\\n<tr><td style=\"text-align: right;\"> 9</td><td>Katya   </td><td>Operations</td><td style=\"text-align: right;\">1500</td></tr>\\n<tr><td style=\"text-align: right;\">10</td><td>Simeon  </td><td>Operations</td><td style=\"text-align: right;\">1800</td></tr>\\n<tr><td style=\"text-align: right;\">11</td><td>Tanya   </td><td>Operations</td><td style=\"text-align: right;\">2000</td></tr>\\n<tr><td style=\"text-align: right;\">12</td><td>Boris   </td><td>Sales     </td><td style=\"text-align: right;\">3200</td></tr>\\n<tr><td style=\"text-align: right;\">13</td><td>Natalia </td><td>Sales     </td><td style=\"text-align: right;\">3500</td></tr>\\n<tr><td style=\"text-align: right;\">14</td><td>Dilyana </td><td>IT        </td><td style=\"text-align: right;\">2200</td></tr>\\n<tr><td style=\"text-align: right;\">15</td><td>John    </td><td>IT        </td><td style=\"text-align: right;\">2400</td></tr>\\n<tr><td style=\"text-align: right;\">16</td><td>Ivan    </td><td>IT        </td><td style=\"text-align: right;\">1800</td></tr>\\n<tr><td style=\"text-align: right;\">17</td><td>Petko   </td><td>IT        </td><td style=\"text-align: right;\">2700</td></tr>\\n<tr><td style=\"text-align: right;\">18</td><td>Tobias  </td><td>Finance   </td><td style=\"text-align: right;\">3000</td></tr>\\n<tr><td style=\"text-align: right;\">19</td><td>Karen   </td><td>Finance   </td><td style=\"text-align: right;\">2800</td></tr>\\n<tr><td style=\"text-align: right;\">20</td><td>Anelia  </td><td>HR        </td><td style=\"text-align: right;\">2650</td></tr>\\n<tr><td style=\"text-align: right;\">21</td><td>Mario   </td><td>HR        </td><td style=\"text-align: right;\">2500</td></tr>\\n<tr><td style=\"text-align: right;\">22</td><td>Anelia  </td><td>HR        </td><td style=\"text-align: right;\">2650</td></tr>\\n<tr><td style=\"text-align: right;\">23</td><td>Tony    </td><td>Legal     </td><td style=\"text-align: right;\">3100</td></tr>\\n</tbody>\\n</table>'"
      ]
     },
     "execution_count": 26,
     "metadata": {},
     "output_type": "execute_result"
    }
   ],
   "source": [
    "result = cursor.execute(\"select * from emp\")\n",
    "tabulate(result.fetchall(), tablefmt=\"html\")"
   ]
  },
  {
   "cell_type": "markdown",
   "id": "2401c974-3c5c-4e20-9dc6-9dad397d4a10",
   "metadata": {},
   "source": [
    "# Window Functions\n",
    "\n",
    "### Definition\n",
    "\n",
    "> In SQL a window function or analytic function is a function which uses values from one or multiple rows to return a value for each row.\n",
    "\n",
    "- **Each row remains a separate identity**. While aggregate functions cause rows to become grouped into a single output row, window functions do not.\n",
    "- `GROUP BY` can be used with aggregate functions. Window functions can be used with aggregate, ranking, and analytics functions"
   ]
  },
  {
   "cell_type": "code",
   "execution_count": 6,
   "id": "4ce35669-263a-40c5-8c0c-bf5c3f7101b0",
   "metadata": {},
   "outputs": [
    {
     "data": {
      "text/html": [
       "<table>\n",
       "<tbody>\n",
       "<tr><td>Anelia</td><td style=\"text-align: right;\">2650</td><td style=\"text-align: right;\">7800</td></tr>\n",
       "</tbody>\n",
       "</table>"
      ],
      "text/plain": [
       "'<table>\\n<tbody>\\n<tr><td>Anelia</td><td style=\"text-align: right;\">2650</td><td style=\"text-align: right;\">7800</td></tr>\\n</tbody>\\n</table>'"
      ]
     },
     "execution_count": 6,
     "metadata": {},
     "output_type": "execute_result"
    }
   ],
   "source": [
    "sql_query = \"\"\"\n",
    "SELECT name, salary, SUM(salary)\n",
    "FROM emp\n",
    "WHERE department = \"HR\"\n",
    "GROUP BY department\n",
    "ORDER BY salary DESC;\n",
    "\"\"\"\n",
    "result = cursor.execute(sql_query)\n",
    "tabulate(result.fetchall(), tablefmt=\"html\")"
   ]
  },
  {
   "cell_type": "code",
   "execution_count": 7,
   "id": "8976f540-ce84-4c1f-a12e-646adbfb87fb",
   "metadata": {},
   "outputs": [
    {
     "data": {
      "text/html": [
       "<table>\n",
       "<tbody>\n",
       "<tr><td>Anelia</td><td style=\"text-align: right;\">2650</td><td style=\"text-align: right;\">7800</td></tr>\n",
       "<tr><td>Anelia</td><td style=\"text-align: right;\">2650</td><td style=\"text-align: right;\">7800</td></tr>\n",
       "<tr><td>Mario </td><td style=\"text-align: right;\">2500</td><td style=\"text-align: right;\">7800</td></tr>\n",
       "</tbody>\n",
       "</table>"
      ],
      "text/plain": [
       "'<table>\\n<tbody>\\n<tr><td>Anelia</td><td style=\"text-align: right;\">2650</td><td style=\"text-align: right;\">7800</td></tr>\\n<tr><td>Anelia</td><td style=\"text-align: right;\">2650</td><td style=\"text-align: right;\">7800</td></tr>\\n<tr><td>Mario </td><td style=\"text-align: right;\">2500</td><td style=\"text-align: right;\">7800</td></tr>\\n</tbody>\\n</table>'"
      ]
     },
     "execution_count": 7,
     "metadata": {},
     "output_type": "execute_result"
    }
   ],
   "source": [
    "sql_query = \"\"\"\n",
    "SELECT name, salary, SUM(salary) OVER ()\n",
    "FROM emp\n",
    "WHERE department = \"HR\"\n",
    "ORDER BY salary DESC;\n",
    "\"\"\"\n",
    "result = cursor.execute(sql_query)\n",
    "tabulate(result.fetchall(), tablefmt=\"html\")"
   ]
  },
  {
   "cell_type": "markdown",
   "id": "24cd4e9d-08d6-40f6-9846-89977730d8fd",
   "metadata": {},
   "source": [
    "# Window Syntax\n",
    "\n",
    "``` sql\n",
    "{ OVER | WINDOW alias AS } (\n",
    "    [PARTITION BY ...]\n",
    "    [ORDER BY ...]\n",
    "    [\n",
    "        { RANGE | ROWS | GROUPS }\n",
    "        { frame_start | BETWEEN frame_start and frame_end } [ frame_exclusion ]\n",
    "    ]\n",
    ")\n",
    "```\n",
    "\n",
    "`frame_start` and `frame_end` can be:\n",
    "- `UNBOUNDED PRECEDING`\n",
    "- `offset PRECEDING`\n",
    "- `CURRENT ROW`\n",
    "- `offset FOLLOWING`\n",
    "- `UNBOUNDED FOLLOWING`\n",
    "\n",
    "`frame_exclusion` can be:\n",
    "- `EXCLUDE CURRENT ROW`\n",
    "- `EXCLUDE GROUP`\n",
    "- `EXCLUDE TIES`\n",
    "- `EXCLUDE NO OTHERS`"
   ]
  },
  {
   "cell_type": "markdown",
   "id": "4895afa6-62ea-4074-b1e9-a5c6f751bd48",
   "metadata": {},
   "source": [
    "# Window-Specific Functions\n",
    "\n",
    "+ [`ROW_NUMBER`](#ROW_NUMBER)\n",
    "+ [`LAG`](#LAG)\n",
    "+ [`LEAD`](#LEAD)\n",
    "+ [`FIRST_VALUE`](#FIRST_VALUE)\n",
    "+ [`LAST_VALUE`](#LAST_VALUE)\n",
    "+ [`NTH_VALUE`](#NTH_VALUE)\n",
    "+ [`RANK`](#RANK)\n",
    "+ [`DENSE_RANK`](#DENSE_RANK)\n",
    "+ [`PERCENT_RANK`](#PERCENT_RANK)\n",
    "+ [`CUME_DIST`](#CUME_DIST)\n",
    "+ [`NTILE`](#NTILE)"
   ]
  },
  {
   "cell_type": "markdown",
   "id": "f8932233-457d-42a2-9d52-63b69458761b",
   "metadata": {},
   "source": [
    "### `ROW_NUMBER`\n",
    "\n",
    "+ Assigns a sequential integer number to each row in the query's result set.\n",
    "+ Takes no arguments and operates on partitions, not window frames.\n",
    "\n",
    "\n",
    "#### Useful for\n",
    "+ Assigning sequential numbers to a result set. Sometimes it is as simple as that.\n",
    "+ Pagination: By assigning each row a sequential number, rows can be filtered by that value.\n",
    "+ Finding the n-th highest value per group.\n",
    "+ Finding the top-n values per group.\n",
    "+ Finding duplicate rows: By partitioning over the attribute and then querying for rows with a row number > 1\n",
    "\n",
    "#### Example: `ROW_NUMBER` over the entire set\n",
    "``` sql\n",
    "SELECT x, ROW_NUMBER() OVER w\n",
    "FROM generate_1_to_5_x2\n",
    "WINDOW w AS ();\n",
    "```\n",
    "\n",
    "```\n",
    " x | row_number\n",
    "---+------------\n",
    " 1 |          1\n",
    " 1 |          2\n",
    " 2 |          3\n",
    " 2 |          4\n",
    " 3 |          5\n",
    " 3 |          6\n",
    " 4 |          7\n",
    " 4 |          8\n",
    " 5 |          9\n",
    " 5 |         10\n",
    "```\n",
    "\n",
    "#### Example: `ROW_NUMBER` over partitioned set\n",
    "``` sql\n",
    "SELECT x, ROW_NUMBER() OVER w\n",
    "FROM generate_1_to_5_x2\n",
    "WINDOW w AS (PARTITION BY x);\n",
    "```\n",
    "\n",
    "```\n",
    " x | row_number\n",
    "---+------------\n",
    " 1 |          1\n",
    " 1 |          2\n",
    " 2 |          1\n",
    " 2 |          2\n",
    " 3 |          1\n",
    " 3 |          2\n",
    " 4 |          1\n",
    " 4 |          2\n",
    " 5 |          1\n",
    " 5 |          2\n",
    "```"
   ]
  },
  {
   "cell_type": "markdown",
   "id": "9cb746c3-1350-41b7-8959-7f241d0527a9",
   "metadata": {},
   "source": [
    "### `LAG`\n",
    "\n",
    "+ Provides access to a row at a specified physical offset which comes before the current row.\n",
    "\n",
    "#### Useful for\n",
    "+ Calculating the difference between the current row and a previous one.\n",
    "\n",
    "#### Example: `LAG`\n",
    "``` sql\n",
    "SELECT x, LAG(x, 1) OVER w\n",
    "FROM generate_1_to_5_x2\n",
    "WINDOW w AS (ORDER BY x);\n",
    "```\n",
    "\n",
    "```\n",
    " x | row_number\n",
    "---+------------\n",
    " 1 |     (null)\n",
    " 1 |          1\n",
    " 2 |          1\n",
    " 2 |          2\n",
    " 3 |          2\n",
    " 3 |          3\n",
    " 4 |          3\n",
    " 4 |          4\n",
    " 5 |          4\n",
    " 5 |          5\n",
    "```\n"
   ]
  },
  {
   "cell_type": "markdown",
   "id": "742241be-15f4-4409-b3dc-3c47127c5ddd",
   "metadata": {},
   "source": [
    "# Examples"
   ]
  },
  {
   "cell_type": "markdown",
   "id": "1463ba28-ec2f-4eda-9fb2-dc80c513c7df",
   "metadata": {},
   "source": [
    "## Over\n"
   ]
  },
  {
   "cell_type": "code",
   "execution_count": 30,
   "id": "859b0adf-058e-4d5f-9f13-e28b9d629c58",
   "metadata": {},
   "outputs": [
    {
     "data": {
      "text/html": [
       "<table>\n",
       "<tbody>\n",
       "<tr><td>Natalia </td><td style=\"text-align: right;\">3500</td><td style=\"text-align: right;\">53100</td></tr>\n",
       "<tr><td>Boris   </td><td style=\"text-align: right;\">3200</td><td style=\"text-align: right;\">53100</td></tr>\n",
       "<tr><td>Tony    </td><td style=\"text-align: right;\">3100</td><td style=\"text-align: right;\">53100</td></tr>\n",
       "<tr><td>Tobias  </td><td style=\"text-align: right;\">3000</td><td style=\"text-align: right;\">53100</td></tr>\n",
       "<tr><td>Karen   </td><td style=\"text-align: right;\">2800</td><td style=\"text-align: right;\">53100</td></tr>\n",
       "<tr><td>Petko   </td><td style=\"text-align: right;\">2700</td><td style=\"text-align: right;\">53100</td></tr>\n",
       "<tr><td>Anelia  </td><td style=\"text-align: right;\">2650</td><td style=\"text-align: right;\">53100</td></tr>\n",
       "<tr><td>Anelia  </td><td style=\"text-align: right;\">2650</td><td style=\"text-align: right;\">53100</td></tr>\n",
       "<tr><td>Mario   </td><td style=\"text-align: right;\">2500</td><td style=\"text-align: right;\">53100</td></tr>\n",
       "<tr><td>John    </td><td style=\"text-align: right;\">2400</td><td style=\"text-align: right;\">53100</td></tr>\n",
       "<tr><td>Anthony </td><td style=\"text-align: right;\">2300</td><td style=\"text-align: right;\">53100</td></tr>\n",
       "<tr><td>Detelina</td><td style=\"text-align: right;\">2200</td><td style=\"text-align: right;\">53100</td></tr>\n",
       "<tr><td>Dilyana </td><td style=\"text-align: right;\">2200</td><td style=\"text-align: right;\">53100</td></tr>\n",
       "<tr><td>Maria   </td><td style=\"text-align: right;\">2000</td><td style=\"text-align: right;\">53100</td></tr>\n",
       "<tr><td>Tanya   </td><td style=\"text-align: right;\">2000</td><td style=\"text-align: right;\">53100</td></tr>\n",
       "<tr><td>Daniel  </td><td style=\"text-align: right;\">1900</td><td style=\"text-align: right;\">53100</td></tr>\n",
       "<tr><td>Pratel  </td><td style=\"text-align: right;\">1850</td><td style=\"text-align: right;\">53100</td></tr>\n",
       "<tr><td>Kris    </td><td style=\"text-align: right;\">1800</td><td style=\"text-align: right;\">53100</td></tr>\n",
       "<tr><td>Simeon  </td><td style=\"text-align: right;\">1800</td><td style=\"text-align: right;\">53100</td></tr>\n",
       "<tr><td>Ivan    </td><td style=\"text-align: right;\">1800</td><td style=\"text-align: right;\">53100</td></tr>\n",
       "<tr><td>Toby    </td><td style=\"text-align: right;\">1750</td><td style=\"text-align: right;\">53100</td></tr>\n",
       "<tr><td>Samuel  </td><td style=\"text-align: right;\">1500</td><td style=\"text-align: right;\">53100</td></tr>\n",
       "<tr><td>Katya   </td><td style=\"text-align: right;\">1500</td><td style=\"text-align: right;\">53100</td></tr>\n",
       "</tbody>\n",
       "</table>"
      ],
      "text/plain": [
       "'<table>\\n<tbody>\\n<tr><td>Natalia </td><td style=\"text-align: right;\">3500</td><td style=\"text-align: right;\">53100</td></tr>\\n<tr><td>Boris   </td><td style=\"text-align: right;\">3200</td><td style=\"text-align: right;\">53100</td></tr>\\n<tr><td>Tony    </td><td style=\"text-align: right;\">3100</td><td style=\"text-align: right;\">53100</td></tr>\\n<tr><td>Tobias  </td><td style=\"text-align: right;\">3000</td><td style=\"text-align: right;\">53100</td></tr>\\n<tr><td>Karen   </td><td style=\"text-align: right;\">2800</td><td style=\"text-align: right;\">53100</td></tr>\\n<tr><td>Petko   </td><td style=\"text-align: right;\">2700</td><td style=\"text-align: right;\">53100</td></tr>\\n<tr><td>Anelia  </td><td style=\"text-align: right;\">2650</td><td style=\"text-align: right;\">53100</td></tr>\\n<tr><td>Anelia  </td><td style=\"text-align: right;\">2650</td><td style=\"text-align: right;\">53100</td></tr>\\n<tr><td>Mario   </td><td style=\"text-align: right;\">2500</td><td style=\"text-align: right;\">53100</td></tr>\\n<tr><td>John    </td><td style=\"text-align: right;\">2400</td><td style=\"text-align: right;\">53100</td></tr>\\n<tr><td>Anthony </td><td style=\"text-align: right;\">2300</td><td style=\"text-align: right;\">53100</td></tr>\\n<tr><td>Detelina</td><td style=\"text-align: right;\">2200</td><td style=\"text-align: right;\">53100</td></tr>\\n<tr><td>Dilyana </td><td style=\"text-align: right;\">2200</td><td style=\"text-align: right;\">53100</td></tr>\\n<tr><td>Maria   </td><td style=\"text-align: right;\">2000</td><td style=\"text-align: right;\">53100</td></tr>\\n<tr><td>Tanya   </td><td style=\"text-align: right;\">2000</td><td style=\"text-align: right;\">53100</td></tr>\\n<tr><td>Daniel  </td><td style=\"text-align: right;\">1900</td><td style=\"text-align: right;\">53100</td></tr>\\n<tr><td>Pratel  </td><td style=\"text-align: right;\">1850</td><td style=\"text-align: right;\">53100</td></tr>\\n<tr><td>Kris    </td><td style=\"text-align: right;\">1800</td><td style=\"text-align: right;\">53100</td></tr>\\n<tr><td>Simeon  </td><td style=\"text-align: right;\">1800</td><td style=\"text-align: right;\">53100</td></tr>\\n<tr><td>Ivan    </td><td style=\"text-align: right;\">1800</td><td style=\"text-align: right;\">53100</td></tr>\\n<tr><td>Toby    </td><td style=\"text-align: right;\">1750</td><td style=\"text-align: right;\">53100</td></tr>\\n<tr><td>Samuel  </td><td style=\"text-align: right;\">1500</td><td style=\"text-align: right;\">53100</td></tr>\\n<tr><td>Katya   </td><td style=\"text-align: right;\">1500</td><td style=\"text-align: right;\">53100</td></tr>\\n</tbody>\\n</table>'"
      ]
     },
     "execution_count": 30,
     "metadata": {},
     "output_type": "execute_result"
    }
   ],
   "source": [
    "sql_query = \"\"\"\n",
    "SELECT \n",
    "    name, \n",
    "    salary, \n",
    "    SUM(salary) OVER ()\n",
    "FROM emp\n",
    "ORDER BY salary DESC;\n",
    "\"\"\"\n",
    "result = cursor.execute(sql_query)\n",
    "tabulate(result.fetchall(), tablefmt=\"html\")"
   ]
  },
  {
   "cell_type": "markdown",
   "id": "654862e6-8ba5-4e52-bba4-2804cc2fc8f9",
   "metadata": {},
   "source": [
    "# As Percentage"
   ]
  },
  {
   "cell_type": "code",
   "execution_count": 9,
   "id": "00acfec0-d4a0-422e-a8d4-1927cec1011a",
   "metadata": {},
   "outputs": [
    {
     "data": {
      "text/html": [
       "<table>\n",
       "<tbody>\n",
       "<tr><td>Natalia </td><td style=\"text-align: right;\">3500</td><td style=\"text-align: right;\">6.59</td></tr>\n",
       "<tr><td>Boris   </td><td style=\"text-align: right;\">3200</td><td style=\"text-align: right;\">6.03</td></tr>\n",
       "<tr><td>Tony    </td><td style=\"text-align: right;\">3100</td><td style=\"text-align: right;\">5.84</td></tr>\n",
       "<tr><td>Tobias  </td><td style=\"text-align: right;\">3000</td><td style=\"text-align: right;\">5.65</td></tr>\n",
       "<tr><td>Karen   </td><td style=\"text-align: right;\">2800</td><td style=\"text-align: right;\">5.27</td></tr>\n",
       "<tr><td>Petko   </td><td style=\"text-align: right;\">2700</td><td style=\"text-align: right;\">5.08</td></tr>\n",
       "<tr><td>Anelia  </td><td style=\"text-align: right;\">2650</td><td style=\"text-align: right;\">4.99</td></tr>\n",
       "<tr><td>Anelia  </td><td style=\"text-align: right;\">2650</td><td style=\"text-align: right;\">4.99</td></tr>\n",
       "<tr><td>Mario   </td><td style=\"text-align: right;\">2500</td><td style=\"text-align: right;\">4.71</td></tr>\n",
       "<tr><td>John    </td><td style=\"text-align: right;\">2400</td><td style=\"text-align: right;\">4.52</td></tr>\n",
       "<tr><td>Anthony </td><td style=\"text-align: right;\">2300</td><td style=\"text-align: right;\">4.33</td></tr>\n",
       "<tr><td>Detelina</td><td style=\"text-align: right;\">2200</td><td style=\"text-align: right;\">4.14</td></tr>\n",
       "<tr><td>Dilyana </td><td style=\"text-align: right;\">2200</td><td style=\"text-align: right;\">4.14</td></tr>\n",
       "<tr><td>Maria   </td><td style=\"text-align: right;\">2000</td><td style=\"text-align: right;\">3.77</td></tr>\n",
       "<tr><td>Tanya   </td><td style=\"text-align: right;\">2000</td><td style=\"text-align: right;\">3.77</td></tr>\n",
       "<tr><td>Daniel  </td><td style=\"text-align: right;\">1900</td><td style=\"text-align: right;\">3.58</td></tr>\n",
       "<tr><td>Pratel  </td><td style=\"text-align: right;\">1850</td><td style=\"text-align: right;\">3.48</td></tr>\n",
       "<tr><td>Kris    </td><td style=\"text-align: right;\">1800</td><td style=\"text-align: right;\">3.39</td></tr>\n",
       "<tr><td>Simeon  </td><td style=\"text-align: right;\">1800</td><td style=\"text-align: right;\">3.39</td></tr>\n",
       "<tr><td>Ivan    </td><td style=\"text-align: right;\">1800</td><td style=\"text-align: right;\">3.39</td></tr>\n",
       "<tr><td>Toby    </td><td style=\"text-align: right;\">1750</td><td style=\"text-align: right;\">3.3 </td></tr>\n",
       "<tr><td>Samuel  </td><td style=\"text-align: right;\">1500</td><td style=\"text-align: right;\">2.82</td></tr>\n",
       "<tr><td>Katya   </td><td style=\"text-align: right;\">1500</td><td style=\"text-align: right;\">2.82</td></tr>\n",
       "</tbody>\n",
       "</table>"
      ],
      "text/plain": [
       "'<table>\\n<tbody>\\n<tr><td>Natalia </td><td style=\"text-align: right;\">3500</td><td style=\"text-align: right;\">6.59</td></tr>\\n<tr><td>Boris   </td><td style=\"text-align: right;\">3200</td><td style=\"text-align: right;\">6.03</td></tr>\\n<tr><td>Tony    </td><td style=\"text-align: right;\">3100</td><td style=\"text-align: right;\">5.84</td></tr>\\n<tr><td>Tobias  </td><td style=\"text-align: right;\">3000</td><td style=\"text-align: right;\">5.65</td></tr>\\n<tr><td>Karen   </td><td style=\"text-align: right;\">2800</td><td style=\"text-align: right;\">5.27</td></tr>\\n<tr><td>Petko   </td><td style=\"text-align: right;\">2700</td><td style=\"text-align: right;\">5.08</td></tr>\\n<tr><td>Anelia  </td><td style=\"text-align: right;\">2650</td><td style=\"text-align: right;\">4.99</td></tr>\\n<tr><td>Anelia  </td><td style=\"text-align: right;\">2650</td><td style=\"text-align: right;\">4.99</td></tr>\\n<tr><td>Mario   </td><td style=\"text-align: right;\">2500</td><td style=\"text-align: right;\">4.71</td></tr>\\n<tr><td>John    </td><td style=\"text-align: right;\">2400</td><td style=\"text-align: right;\">4.52</td></tr>\\n<tr><td>Anthony </td><td style=\"text-align: right;\">2300</td><td style=\"text-align: right;\">4.33</td></tr>\\n<tr><td>Detelina</td><td style=\"text-align: right;\">2200</td><td style=\"text-align: right;\">4.14</td></tr>\\n<tr><td>Dilyana </td><td style=\"text-align: right;\">2200</td><td style=\"text-align: right;\">4.14</td></tr>\\n<tr><td>Maria   </td><td style=\"text-align: right;\">2000</td><td style=\"text-align: right;\">3.77</td></tr>\\n<tr><td>Tanya   </td><td style=\"text-align: right;\">2000</td><td style=\"text-align: right;\">3.77</td></tr>\\n<tr><td>Daniel  </td><td style=\"text-align: right;\">1900</td><td style=\"text-align: right;\">3.58</td></tr>\\n<tr><td>Pratel  </td><td style=\"text-align: right;\">1850</td><td style=\"text-align: right;\">3.48</td></tr>\\n<tr><td>Kris    </td><td style=\"text-align: right;\">1800</td><td style=\"text-align: right;\">3.39</td></tr>\\n<tr><td>Simeon  </td><td style=\"text-align: right;\">1800</td><td style=\"text-align: right;\">3.39</td></tr>\\n<tr><td>Ivan    </td><td style=\"text-align: right;\">1800</td><td style=\"text-align: right;\">3.39</td></tr>\\n<tr><td>Toby    </td><td style=\"text-align: right;\">1750</td><td style=\"text-align: right;\">3.3 </td></tr>\\n<tr><td>Samuel  </td><td style=\"text-align: right;\">1500</td><td style=\"text-align: right;\">2.82</td></tr>\\n<tr><td>Katya   </td><td style=\"text-align: right;\">1500</td><td style=\"text-align: right;\">2.82</td></tr>\\n</tbody>\\n</table>'"
      ]
     },
     "execution_count": 9,
     "metadata": {},
     "output_type": "execute_result"
    }
   ],
   "source": [
    "sql_query = \"\"\"\n",
    "SELECT \n",
    "    name, \n",
    "    salary, \n",
    "    round(salary * 1.0 / SUM(salary) OVER () * 100, 2) AS pct\n",
    "FROM emp\n",
    "ORDER BY salary DESC;\n",
    "\"\"\"\n",
    "result = cursor.execute(sql_query)\n",
    "tabulate(result.fetchall(), tablefmt=\"html\")"
   ]
  },
  {
   "cell_type": "markdown",
   "id": "ccf1285a-9a93-468c-a792-7721bf108bc2",
   "metadata": {},
   "source": [
    "this is the same as:\n",
    "\n",
    "``` sql\n",
    "SELECT name, salary, \n",
    "       round(salary * 1.0 / (SELECT SUM(salary) FROM emp)  * 100, 2) AS pct\n",
    "FROM emp\n",
    "ORDER BY salary DESC;\n",
    "```"
   ]
  },
  {
   "cell_type": "markdown",
   "id": "7044a901-db73-4e73-9762-ea5dbf94444c",
   "metadata": {},
   "source": [
    "# Cumulative Totals Using `ORDER BY`"
   ]
  },
  {
   "cell_type": "code",
   "execution_count": 10,
   "id": "52040ad9-bc0a-4fef-a6f6-978c78b61d47",
   "metadata": {},
   "outputs": [
    {
     "data": {
      "text/html": [
       "<table>\n",
       "<tbody>\n",
       "<tr><td>Natalia </td><td style=\"text-align: right;\">3500</td><td style=\"text-align: right;\"> 3500</td></tr>\n",
       "<tr><td>Boris   </td><td style=\"text-align: right;\">3200</td><td style=\"text-align: right;\"> 6700</td></tr>\n",
       "<tr><td>Tony    </td><td style=\"text-align: right;\">3100</td><td style=\"text-align: right;\"> 9800</td></tr>\n",
       "<tr><td>Tobias  </td><td style=\"text-align: right;\">3000</td><td style=\"text-align: right;\">12800</td></tr>\n",
       "<tr><td>Karen   </td><td style=\"text-align: right;\">2800</td><td style=\"text-align: right;\">15600</td></tr>\n",
       "<tr><td>Petko   </td><td style=\"text-align: right;\">2700</td><td style=\"text-align: right;\">18300</td></tr>\n",
       "<tr><td>Anelia  </td><td style=\"text-align: right;\">2650</td><td style=\"text-align: right;\">20950</td></tr>\n",
       "<tr><td>Anelia  </td><td style=\"text-align: right;\">2650</td><td style=\"text-align: right;\">23600</td></tr>\n",
       "<tr><td>Mario   </td><td style=\"text-align: right;\">2500</td><td style=\"text-align: right;\">26100</td></tr>\n",
       "<tr><td>John    </td><td style=\"text-align: right;\">2400</td><td style=\"text-align: right;\">28500</td></tr>\n",
       "<tr><td>Anthony </td><td style=\"text-align: right;\">2300</td><td style=\"text-align: right;\">30800</td></tr>\n",
       "<tr><td>Detelina</td><td style=\"text-align: right;\">2200</td><td style=\"text-align: right;\">33000</td></tr>\n",
       "<tr><td>Dilyana </td><td style=\"text-align: right;\">2200</td><td style=\"text-align: right;\">35200</td></tr>\n",
       "<tr><td>Maria   </td><td style=\"text-align: right;\">2000</td><td style=\"text-align: right;\">37200</td></tr>\n",
       "<tr><td>Tanya   </td><td style=\"text-align: right;\">2000</td><td style=\"text-align: right;\">39200</td></tr>\n",
       "<tr><td>Daniel  </td><td style=\"text-align: right;\">1900</td><td style=\"text-align: right;\">41100</td></tr>\n",
       "<tr><td>Pratel  </td><td style=\"text-align: right;\">1850</td><td style=\"text-align: right;\">42950</td></tr>\n",
       "<tr><td>Kris    </td><td style=\"text-align: right;\">1800</td><td style=\"text-align: right;\">44750</td></tr>\n",
       "<tr><td>Simeon  </td><td style=\"text-align: right;\">1800</td><td style=\"text-align: right;\">46550</td></tr>\n",
       "<tr><td>Ivan    </td><td style=\"text-align: right;\">1800</td><td style=\"text-align: right;\">48350</td></tr>\n",
       "<tr><td>Toby    </td><td style=\"text-align: right;\">1750</td><td style=\"text-align: right;\">50100</td></tr>\n",
       "<tr><td>Samuel  </td><td style=\"text-align: right;\">1500</td><td style=\"text-align: right;\">51600</td></tr>\n",
       "<tr><td>Katya   </td><td style=\"text-align: right;\">1500</td><td style=\"text-align: right;\">53100</td></tr>\n",
       "</tbody>\n",
       "</table>"
      ],
      "text/plain": [
       "'<table>\\n<tbody>\\n<tr><td>Natalia </td><td style=\"text-align: right;\">3500</td><td style=\"text-align: right;\"> 3500</td></tr>\\n<tr><td>Boris   </td><td style=\"text-align: right;\">3200</td><td style=\"text-align: right;\"> 6700</td></tr>\\n<tr><td>Tony    </td><td style=\"text-align: right;\">3100</td><td style=\"text-align: right;\"> 9800</td></tr>\\n<tr><td>Tobias  </td><td style=\"text-align: right;\">3000</td><td style=\"text-align: right;\">12800</td></tr>\\n<tr><td>Karen   </td><td style=\"text-align: right;\">2800</td><td style=\"text-align: right;\">15600</td></tr>\\n<tr><td>Petko   </td><td style=\"text-align: right;\">2700</td><td style=\"text-align: right;\">18300</td></tr>\\n<tr><td>Anelia  </td><td style=\"text-align: right;\">2650</td><td style=\"text-align: right;\">20950</td></tr>\\n<tr><td>Anelia  </td><td style=\"text-align: right;\">2650</td><td style=\"text-align: right;\">23600</td></tr>\\n<tr><td>Mario   </td><td style=\"text-align: right;\">2500</td><td style=\"text-align: right;\">26100</td></tr>\\n<tr><td>John    </td><td style=\"text-align: right;\">2400</td><td style=\"text-align: right;\">28500</td></tr>\\n<tr><td>Anthony </td><td style=\"text-align: right;\">2300</td><td style=\"text-align: right;\">30800</td></tr>\\n<tr><td>Detelina</td><td style=\"text-align: right;\">2200</td><td style=\"text-align: right;\">33000</td></tr>\\n<tr><td>Dilyana </td><td style=\"text-align: right;\">2200</td><td style=\"text-align: right;\">35200</td></tr>\\n<tr><td>Maria   </td><td style=\"text-align: right;\">2000</td><td style=\"text-align: right;\">37200</td></tr>\\n<tr><td>Tanya   </td><td style=\"text-align: right;\">2000</td><td style=\"text-align: right;\">39200</td></tr>\\n<tr><td>Daniel  </td><td style=\"text-align: right;\">1900</td><td style=\"text-align: right;\">41100</td></tr>\\n<tr><td>Pratel  </td><td style=\"text-align: right;\">1850</td><td style=\"text-align: right;\">42950</td></tr>\\n<tr><td>Kris    </td><td style=\"text-align: right;\">1800</td><td style=\"text-align: right;\">44750</td></tr>\\n<tr><td>Simeon  </td><td style=\"text-align: right;\">1800</td><td style=\"text-align: right;\">46550</td></tr>\\n<tr><td>Ivan    </td><td style=\"text-align: right;\">1800</td><td style=\"text-align: right;\">48350</td></tr>\\n<tr><td>Toby    </td><td style=\"text-align: right;\">1750</td><td style=\"text-align: right;\">50100</td></tr>\\n<tr><td>Samuel  </td><td style=\"text-align: right;\">1500</td><td style=\"text-align: right;\">51600</td></tr>\\n<tr><td>Katya   </td><td style=\"text-align: right;\">1500</td><td style=\"text-align: right;\">53100</td></tr>\\n</tbody>\\n</table>'"
      ]
     },
     "execution_count": 10,
     "metadata": {},
     "output_type": "execute_result"
    }
   ],
   "source": [
    "sql_query = \"\"\"\n",
    "SELECT \n",
    "    name, \n",
    "    salary,\n",
    "    SUM(salary) OVER (ORDER BY salary DESC ROWS BETWEEN UNBOUNDED PRECEDING AND CURRENT ROW)\n",
    "FROM emp\n",
    "ORDER BY salary DESC;\n",
    "\"\"\"\n",
    "result = cursor.execute(sql_query)\n",
    "tabulate(result.fetchall(), tablefmt=\"html\")"
   ]
  },
  {
   "cell_type": "markdown",
   "id": "e3d69293-b4a3-4977-af18-c0d26057ca9b",
   "metadata": {},
   "source": [
    "# Window `AVG`"
   ]
  },
  {
   "cell_type": "code",
   "execution_count": 11,
   "id": "482cd9af-a69e-4691-ba81-3ac7a463aee6",
   "metadata": {},
   "outputs": [
    {
     "data": {
      "text/html": [
       "<table>\n",
       "<tbody>\n",
       "<tr><td>Natalia </td><td style=\"text-align: right;\">3500</td><td style=\"text-align: right;\">2308.7</td></tr>\n",
       "<tr><td>Boris   </td><td style=\"text-align: right;\">3200</td><td style=\"text-align: right;\">2308.7</td></tr>\n",
       "<tr><td>Tony    </td><td style=\"text-align: right;\">3100</td><td style=\"text-align: right;\">2308.7</td></tr>\n",
       "<tr><td>Tobias  </td><td style=\"text-align: right;\">3000</td><td style=\"text-align: right;\">2308.7</td></tr>\n",
       "<tr><td>Karen   </td><td style=\"text-align: right;\">2800</td><td style=\"text-align: right;\">2308.7</td></tr>\n",
       "<tr><td>Petko   </td><td style=\"text-align: right;\">2700</td><td style=\"text-align: right;\">2308.7</td></tr>\n",
       "<tr><td>Anelia  </td><td style=\"text-align: right;\">2650</td><td style=\"text-align: right;\">2308.7</td></tr>\n",
       "<tr><td>Anelia  </td><td style=\"text-align: right;\">2650</td><td style=\"text-align: right;\">2308.7</td></tr>\n",
       "<tr><td>Mario   </td><td style=\"text-align: right;\">2500</td><td style=\"text-align: right;\">2308.7</td></tr>\n",
       "<tr><td>John    </td><td style=\"text-align: right;\">2400</td><td style=\"text-align: right;\">2308.7</td></tr>\n",
       "<tr><td>Anthony </td><td style=\"text-align: right;\">2300</td><td style=\"text-align: right;\">2308.7</td></tr>\n",
       "<tr><td>Detelina</td><td style=\"text-align: right;\">2200</td><td style=\"text-align: right;\">2308.7</td></tr>\n",
       "<tr><td>Dilyana </td><td style=\"text-align: right;\">2200</td><td style=\"text-align: right;\">2308.7</td></tr>\n",
       "<tr><td>Maria   </td><td style=\"text-align: right;\">2000</td><td style=\"text-align: right;\">2308.7</td></tr>\n",
       "<tr><td>Tanya   </td><td style=\"text-align: right;\">2000</td><td style=\"text-align: right;\">2308.7</td></tr>\n",
       "<tr><td>Daniel  </td><td style=\"text-align: right;\">1900</td><td style=\"text-align: right;\">2308.7</td></tr>\n",
       "<tr><td>Pratel  </td><td style=\"text-align: right;\">1850</td><td style=\"text-align: right;\">2308.7</td></tr>\n",
       "<tr><td>Kris    </td><td style=\"text-align: right;\">1800</td><td style=\"text-align: right;\">2308.7</td></tr>\n",
       "<tr><td>Simeon  </td><td style=\"text-align: right;\">1800</td><td style=\"text-align: right;\">2308.7</td></tr>\n",
       "<tr><td>Ivan    </td><td style=\"text-align: right;\">1800</td><td style=\"text-align: right;\">2308.7</td></tr>\n",
       "<tr><td>Toby    </td><td style=\"text-align: right;\">1750</td><td style=\"text-align: right;\">2308.7</td></tr>\n",
       "<tr><td>Samuel  </td><td style=\"text-align: right;\">1500</td><td style=\"text-align: right;\">2308.7</td></tr>\n",
       "<tr><td>Katya   </td><td style=\"text-align: right;\">1500</td><td style=\"text-align: right;\">2308.7</td></tr>\n",
       "</tbody>\n",
       "</table>"
      ],
      "text/plain": [
       "'<table>\\n<tbody>\\n<tr><td>Natalia </td><td style=\"text-align: right;\">3500</td><td style=\"text-align: right;\">2308.7</td></tr>\\n<tr><td>Boris   </td><td style=\"text-align: right;\">3200</td><td style=\"text-align: right;\">2308.7</td></tr>\\n<tr><td>Tony    </td><td style=\"text-align: right;\">3100</td><td style=\"text-align: right;\">2308.7</td></tr>\\n<tr><td>Tobias  </td><td style=\"text-align: right;\">3000</td><td style=\"text-align: right;\">2308.7</td></tr>\\n<tr><td>Karen   </td><td style=\"text-align: right;\">2800</td><td style=\"text-align: right;\">2308.7</td></tr>\\n<tr><td>Petko   </td><td style=\"text-align: right;\">2700</td><td style=\"text-align: right;\">2308.7</td></tr>\\n<tr><td>Anelia  </td><td style=\"text-align: right;\">2650</td><td style=\"text-align: right;\">2308.7</td></tr>\\n<tr><td>Anelia  </td><td style=\"text-align: right;\">2650</td><td style=\"text-align: right;\">2308.7</td></tr>\\n<tr><td>Mario   </td><td style=\"text-align: right;\">2500</td><td style=\"text-align: right;\">2308.7</td></tr>\\n<tr><td>John    </td><td style=\"text-align: right;\">2400</td><td style=\"text-align: right;\">2308.7</td></tr>\\n<tr><td>Anthony </td><td style=\"text-align: right;\">2300</td><td style=\"text-align: right;\">2308.7</td></tr>\\n<tr><td>Detelina</td><td style=\"text-align: right;\">2200</td><td style=\"text-align: right;\">2308.7</td></tr>\\n<tr><td>Dilyana </td><td style=\"text-align: right;\">2200</td><td style=\"text-align: right;\">2308.7</td></tr>\\n<tr><td>Maria   </td><td style=\"text-align: right;\">2000</td><td style=\"text-align: right;\">2308.7</td></tr>\\n<tr><td>Tanya   </td><td style=\"text-align: right;\">2000</td><td style=\"text-align: right;\">2308.7</td></tr>\\n<tr><td>Daniel  </td><td style=\"text-align: right;\">1900</td><td style=\"text-align: right;\">2308.7</td></tr>\\n<tr><td>Pratel  </td><td style=\"text-align: right;\">1850</td><td style=\"text-align: right;\">2308.7</td></tr>\\n<tr><td>Kris    </td><td style=\"text-align: right;\">1800</td><td style=\"text-align: right;\">2308.7</td></tr>\\n<tr><td>Simeon  </td><td style=\"text-align: right;\">1800</td><td style=\"text-align: right;\">2308.7</td></tr>\\n<tr><td>Ivan    </td><td style=\"text-align: right;\">1800</td><td style=\"text-align: right;\">2308.7</td></tr>\\n<tr><td>Toby    </td><td style=\"text-align: right;\">1750</td><td style=\"text-align: right;\">2308.7</td></tr>\\n<tr><td>Samuel  </td><td style=\"text-align: right;\">1500</td><td style=\"text-align: right;\">2308.7</td></tr>\\n<tr><td>Katya   </td><td style=\"text-align: right;\">1500</td><td style=\"text-align: right;\">2308.7</td></tr>\\n</tbody>\\n</table>'"
      ]
     },
     "execution_count": 11,
     "metadata": {},
     "output_type": "execute_result"
    }
   ],
   "source": [
    "sql_query = \"\"\"\n",
    "SELECT \n",
    "    name, \n",
    "    salary,\n",
    "    round(AVG(salary) OVER (), 2) AS  avg    \n",
    "FROM emp\n",
    "ORDER BY salary DESC;\n",
    "\"\"\"\n",
    "result = cursor.execute(sql_query)\n",
    "tabulate(result.fetchall(), tablefmt=\"html\")"
   ]
  },
  {
   "cell_type": "markdown",
   "id": "d52a8d07-7071-4299-b610-f558067ec4cf",
   "metadata": {},
   "source": [
    "# Difference Compared to Average"
   ]
  },
  {
   "cell_type": "code",
   "execution_count": 12,
   "id": "a7d02ac4-76b4-484d-8183-cf84f4f7eb9f",
   "metadata": {},
   "outputs": [
    {
     "data": {
      "text/html": [
       "<table>\n",
       "<tbody>\n",
       "<tr><td>Natalia </td><td style=\"text-align: right;\">3500</td><td style=\"text-align: right;\">2308.7</td><td style=\"text-align: right;\">1191.3</td></tr>\n",
       "<tr><td>Boris   </td><td style=\"text-align: right;\">3200</td><td style=\"text-align: right;\">2308.7</td><td style=\"text-align: right;\"> 891.3</td></tr>\n",
       "<tr><td>Tony    </td><td style=\"text-align: right;\">3100</td><td style=\"text-align: right;\">2308.7</td><td style=\"text-align: right;\"> 791.3</td></tr>\n",
       "<tr><td>Tobias  </td><td style=\"text-align: right;\">3000</td><td style=\"text-align: right;\">2308.7</td><td style=\"text-align: right;\"> 691.3</td></tr>\n",
       "<tr><td>Karen   </td><td style=\"text-align: right;\">2800</td><td style=\"text-align: right;\">2308.7</td><td style=\"text-align: right;\"> 491.3</td></tr>\n",
       "<tr><td>Petko   </td><td style=\"text-align: right;\">2700</td><td style=\"text-align: right;\">2308.7</td><td style=\"text-align: right;\"> 391.3</td></tr>\n",
       "<tr><td>Anelia  </td><td style=\"text-align: right;\">2650</td><td style=\"text-align: right;\">2308.7</td><td style=\"text-align: right;\"> 341.3</td></tr>\n",
       "<tr><td>Anelia  </td><td style=\"text-align: right;\">2650</td><td style=\"text-align: right;\">2308.7</td><td style=\"text-align: right;\"> 341.3</td></tr>\n",
       "<tr><td>Mario   </td><td style=\"text-align: right;\">2500</td><td style=\"text-align: right;\">2308.7</td><td style=\"text-align: right;\"> 191.3</td></tr>\n",
       "<tr><td>John    </td><td style=\"text-align: right;\">2400</td><td style=\"text-align: right;\">2308.7</td><td style=\"text-align: right;\">  91.3</td></tr>\n",
       "<tr><td>Anthony </td><td style=\"text-align: right;\">2300</td><td style=\"text-align: right;\">2308.7</td><td style=\"text-align: right;\">  -8.7</td></tr>\n",
       "<tr><td>Detelina</td><td style=\"text-align: right;\">2200</td><td style=\"text-align: right;\">2308.7</td><td style=\"text-align: right;\">-108.7</td></tr>\n",
       "<tr><td>Dilyana </td><td style=\"text-align: right;\">2200</td><td style=\"text-align: right;\">2308.7</td><td style=\"text-align: right;\">-108.7</td></tr>\n",
       "<tr><td>Maria   </td><td style=\"text-align: right;\">2000</td><td style=\"text-align: right;\">2308.7</td><td style=\"text-align: right;\">-308.7</td></tr>\n",
       "<tr><td>Tanya   </td><td style=\"text-align: right;\">2000</td><td style=\"text-align: right;\">2308.7</td><td style=\"text-align: right;\">-308.7</td></tr>\n",
       "<tr><td>Daniel  </td><td style=\"text-align: right;\">1900</td><td style=\"text-align: right;\">2308.7</td><td style=\"text-align: right;\">-408.7</td></tr>\n",
       "<tr><td>Pratel  </td><td style=\"text-align: right;\">1850</td><td style=\"text-align: right;\">2308.7</td><td style=\"text-align: right;\">-458.7</td></tr>\n",
       "<tr><td>Kris    </td><td style=\"text-align: right;\">1800</td><td style=\"text-align: right;\">2308.7</td><td style=\"text-align: right;\">-508.7</td></tr>\n",
       "<tr><td>Simeon  </td><td style=\"text-align: right;\">1800</td><td style=\"text-align: right;\">2308.7</td><td style=\"text-align: right;\">-508.7</td></tr>\n",
       "<tr><td>Ivan    </td><td style=\"text-align: right;\">1800</td><td style=\"text-align: right;\">2308.7</td><td style=\"text-align: right;\">-508.7</td></tr>\n",
       "<tr><td>Toby    </td><td style=\"text-align: right;\">1750</td><td style=\"text-align: right;\">2308.7</td><td style=\"text-align: right;\">-558.7</td></tr>\n",
       "<tr><td>Samuel  </td><td style=\"text-align: right;\">1500</td><td style=\"text-align: right;\">2308.7</td><td style=\"text-align: right;\">-808.7</td></tr>\n",
       "<tr><td>Katya   </td><td style=\"text-align: right;\">1500</td><td style=\"text-align: right;\">2308.7</td><td style=\"text-align: right;\">-808.7</td></tr>\n",
       "</tbody>\n",
       "</table>"
      ],
      "text/plain": [
       "'<table>\\n<tbody>\\n<tr><td>Natalia </td><td style=\"text-align: right;\">3500</td><td style=\"text-align: right;\">2308.7</td><td style=\"text-align: right;\">1191.3</td></tr>\\n<tr><td>Boris   </td><td style=\"text-align: right;\">3200</td><td style=\"text-align: right;\">2308.7</td><td style=\"text-align: right;\"> 891.3</td></tr>\\n<tr><td>Tony    </td><td style=\"text-align: right;\">3100</td><td style=\"text-align: right;\">2308.7</td><td style=\"text-align: right;\"> 791.3</td></tr>\\n<tr><td>Tobias  </td><td style=\"text-align: right;\">3000</td><td style=\"text-align: right;\">2308.7</td><td style=\"text-align: right;\"> 691.3</td></tr>\\n<tr><td>Karen   </td><td style=\"text-align: right;\">2800</td><td style=\"text-align: right;\">2308.7</td><td style=\"text-align: right;\"> 491.3</td></tr>\\n<tr><td>Petko   </td><td style=\"text-align: right;\">2700</td><td style=\"text-align: right;\">2308.7</td><td style=\"text-align: right;\"> 391.3</td></tr>\\n<tr><td>Anelia  </td><td style=\"text-align: right;\">2650</td><td style=\"text-align: right;\">2308.7</td><td style=\"text-align: right;\"> 341.3</td></tr>\\n<tr><td>Anelia  </td><td style=\"text-align: right;\">2650</td><td style=\"text-align: right;\">2308.7</td><td style=\"text-align: right;\"> 341.3</td></tr>\\n<tr><td>Mario   </td><td style=\"text-align: right;\">2500</td><td style=\"text-align: right;\">2308.7</td><td style=\"text-align: right;\"> 191.3</td></tr>\\n<tr><td>John    </td><td style=\"text-align: right;\">2400</td><td style=\"text-align: right;\">2308.7</td><td style=\"text-align: right;\">  91.3</td></tr>\\n<tr><td>Anthony </td><td style=\"text-align: right;\">2300</td><td style=\"text-align: right;\">2308.7</td><td style=\"text-align: right;\">  -8.7</td></tr>\\n<tr><td>Detelina</td><td style=\"text-align: right;\">2200</td><td style=\"text-align: right;\">2308.7</td><td style=\"text-align: right;\">-108.7</td></tr>\\n<tr><td>Dilyana </td><td style=\"text-align: right;\">2200</td><td style=\"text-align: right;\">2308.7</td><td style=\"text-align: right;\">-108.7</td></tr>\\n<tr><td>Maria   </td><td style=\"text-align: right;\">2000</td><td style=\"text-align: right;\">2308.7</td><td style=\"text-align: right;\">-308.7</td></tr>\\n<tr><td>Tanya   </td><td style=\"text-align: right;\">2000</td><td style=\"text-align: right;\">2308.7</td><td style=\"text-align: right;\">-308.7</td></tr>\\n<tr><td>Daniel  </td><td style=\"text-align: right;\">1900</td><td style=\"text-align: right;\">2308.7</td><td style=\"text-align: right;\">-408.7</td></tr>\\n<tr><td>Pratel  </td><td style=\"text-align: right;\">1850</td><td style=\"text-align: right;\">2308.7</td><td style=\"text-align: right;\">-458.7</td></tr>\\n<tr><td>Kris    </td><td style=\"text-align: right;\">1800</td><td style=\"text-align: right;\">2308.7</td><td style=\"text-align: right;\">-508.7</td></tr>\\n<tr><td>Simeon  </td><td style=\"text-align: right;\">1800</td><td style=\"text-align: right;\">2308.7</td><td style=\"text-align: right;\">-508.7</td></tr>\\n<tr><td>Ivan    </td><td style=\"text-align: right;\">1800</td><td style=\"text-align: right;\">2308.7</td><td style=\"text-align: right;\">-508.7</td></tr>\\n<tr><td>Toby    </td><td style=\"text-align: right;\">1750</td><td style=\"text-align: right;\">2308.7</td><td style=\"text-align: right;\">-558.7</td></tr>\\n<tr><td>Samuel  </td><td style=\"text-align: right;\">1500</td><td style=\"text-align: right;\">2308.7</td><td style=\"text-align: right;\">-808.7</td></tr>\\n<tr><td>Katya   </td><td style=\"text-align: right;\">1500</td><td style=\"text-align: right;\">2308.7</td><td style=\"text-align: right;\">-808.7</td></tr>\\n</tbody>\\n</table>'"
      ]
     },
     "execution_count": 12,
     "metadata": {},
     "output_type": "execute_result"
    }
   ],
   "source": [
    "sql_query = \"\"\"\n",
    "SELECT \n",
    "    name, \n",
    "    salary,\n",
    "    round(AVG(salary) OVER (), 2) AS avg, \n",
    "    round(salary - AVG(salary) OVER (), 2) AS diff_afv\n",
    "FROM emp\n",
    "ORDER BY salary DESC;\n",
    "\"\"\"\n",
    "result = cursor.execute(sql_query)\n",
    "tabulate(result.fetchall(), tablefmt=\"html\")"
   ]
  },
  {
   "cell_type": "markdown",
   "id": "c35111fa-56e1-493a-877f-e522f5b75529",
   "metadata": {},
   "source": [
    "# Difference Compared to the Next Value"
   ]
  },
  {
   "cell_type": "code",
   "execution_count": 13,
   "id": "07194bad-3870-4d63-9dc9-1e1d3449fa1e",
   "metadata": {},
   "outputs": [
    {
     "data": {
      "text/html": [
       "<table>\n",
       "<tbody>\n",
       "<tr><td>Natalia </td><td style=\"text-align: right;\">3500</td><td style=\"text-align: right;\">300</td></tr>\n",
       "<tr><td>Boris   </td><td style=\"text-align: right;\">3200</td><td style=\"text-align: right;\">100</td></tr>\n",
       "<tr><td>Tony    </td><td style=\"text-align: right;\">3100</td><td style=\"text-align: right;\">100</td></tr>\n",
       "<tr><td>Tobias  </td><td style=\"text-align: right;\">3000</td><td style=\"text-align: right;\">200</td></tr>\n",
       "<tr><td>Karen   </td><td style=\"text-align: right;\">2800</td><td style=\"text-align: right;\">100</td></tr>\n",
       "<tr><td>Petko   </td><td style=\"text-align: right;\">2700</td><td style=\"text-align: right;\"> 50</td></tr>\n",
       "<tr><td>Anelia  </td><td style=\"text-align: right;\">2650</td><td style=\"text-align: right;\">  0</td></tr>\n",
       "<tr><td>Anelia  </td><td style=\"text-align: right;\">2650</td><td style=\"text-align: right;\">150</td></tr>\n",
       "<tr><td>Mario   </td><td style=\"text-align: right;\">2500</td><td style=\"text-align: right;\">100</td></tr>\n",
       "<tr><td>John    </td><td style=\"text-align: right;\">2400</td><td style=\"text-align: right;\">100</td></tr>\n",
       "<tr><td>Anthony </td><td style=\"text-align: right;\">2300</td><td style=\"text-align: right;\">100</td></tr>\n",
       "<tr><td>Detelina</td><td style=\"text-align: right;\">2200</td><td style=\"text-align: right;\">  0</td></tr>\n",
       "<tr><td>Dilyana </td><td style=\"text-align: right;\">2200</td><td style=\"text-align: right;\">200</td></tr>\n",
       "<tr><td>Maria   </td><td style=\"text-align: right;\">2000</td><td style=\"text-align: right;\">  0</td></tr>\n",
       "<tr><td>Tanya   </td><td style=\"text-align: right;\">2000</td><td style=\"text-align: right;\">100</td></tr>\n",
       "<tr><td>Daniel  </td><td style=\"text-align: right;\">1900</td><td style=\"text-align: right;\"> 50</td></tr>\n",
       "<tr><td>Pratel  </td><td style=\"text-align: right;\">1850</td><td style=\"text-align: right;\"> 50</td></tr>\n",
       "<tr><td>Kris    </td><td style=\"text-align: right;\">1800</td><td style=\"text-align: right;\">  0</td></tr>\n",
       "<tr><td>Simeon  </td><td style=\"text-align: right;\">1800</td><td style=\"text-align: right;\">  0</td></tr>\n",
       "<tr><td>Ivan    </td><td style=\"text-align: right;\">1800</td><td style=\"text-align: right;\"> 50</td></tr>\n",
       "<tr><td>Toby    </td><td style=\"text-align: right;\">1750</td><td style=\"text-align: right;\">250</td></tr>\n",
       "<tr><td>Samuel  </td><td style=\"text-align: right;\">1500</td><td style=\"text-align: right;\">  0</td></tr>\n",
       "<tr><td>Katya   </td><td style=\"text-align: right;\">1500</td><td style=\"text-align: right;\">   </td></tr>\n",
       "</tbody>\n",
       "</table>"
      ],
      "text/plain": [
       "'<table>\\n<tbody>\\n<tr><td>Natalia </td><td style=\"text-align: right;\">3500</td><td style=\"text-align: right;\">300</td></tr>\\n<tr><td>Boris   </td><td style=\"text-align: right;\">3200</td><td style=\"text-align: right;\">100</td></tr>\\n<tr><td>Tony    </td><td style=\"text-align: right;\">3100</td><td style=\"text-align: right;\">100</td></tr>\\n<tr><td>Tobias  </td><td style=\"text-align: right;\">3000</td><td style=\"text-align: right;\">200</td></tr>\\n<tr><td>Karen   </td><td style=\"text-align: right;\">2800</td><td style=\"text-align: right;\">100</td></tr>\\n<tr><td>Petko   </td><td style=\"text-align: right;\">2700</td><td style=\"text-align: right;\"> 50</td></tr>\\n<tr><td>Anelia  </td><td style=\"text-align: right;\">2650</td><td style=\"text-align: right;\">  0</td></tr>\\n<tr><td>Anelia  </td><td style=\"text-align: right;\">2650</td><td style=\"text-align: right;\">150</td></tr>\\n<tr><td>Mario   </td><td style=\"text-align: right;\">2500</td><td style=\"text-align: right;\">100</td></tr>\\n<tr><td>John    </td><td style=\"text-align: right;\">2400</td><td style=\"text-align: right;\">100</td></tr>\\n<tr><td>Anthony </td><td style=\"text-align: right;\">2300</td><td style=\"text-align: right;\">100</td></tr>\\n<tr><td>Detelina</td><td style=\"text-align: right;\">2200</td><td style=\"text-align: right;\">  0</td></tr>\\n<tr><td>Dilyana </td><td style=\"text-align: right;\">2200</td><td style=\"text-align: right;\">200</td></tr>\\n<tr><td>Maria   </td><td style=\"text-align: right;\">2000</td><td style=\"text-align: right;\">  0</td></tr>\\n<tr><td>Tanya   </td><td style=\"text-align: right;\">2000</td><td style=\"text-align: right;\">100</td></tr>\\n<tr><td>Daniel  </td><td style=\"text-align: right;\">1900</td><td style=\"text-align: right;\"> 50</td></tr>\\n<tr><td>Pratel  </td><td style=\"text-align: right;\">1850</td><td style=\"text-align: right;\"> 50</td></tr>\\n<tr><td>Kris    </td><td style=\"text-align: right;\">1800</td><td style=\"text-align: right;\">  0</td></tr>\\n<tr><td>Simeon  </td><td style=\"text-align: right;\">1800</td><td style=\"text-align: right;\">  0</td></tr>\\n<tr><td>Ivan    </td><td style=\"text-align: right;\">1800</td><td style=\"text-align: right;\"> 50</td></tr>\\n<tr><td>Toby    </td><td style=\"text-align: right;\">1750</td><td style=\"text-align: right;\">250</td></tr>\\n<tr><td>Samuel  </td><td style=\"text-align: right;\">1500</td><td style=\"text-align: right;\">  0</td></tr>\\n<tr><td>Katya   </td><td style=\"text-align: right;\">1500</td><td style=\"text-align: right;\">   </td></tr>\\n</tbody>\\n</table>'"
      ]
     },
     "execution_count": 13,
     "metadata": {},
     "output_type": "execute_result"
    }
   ],
   "source": [
    "sql_query = \"\"\"\n",
    "SELECT \n",
    "    name, \n",
    "    salary,\n",
    "    salary - LEAD(salary, 1) OVER (ORDER BY salary DESC) AS diff_next\n",
    "FROM emp\n",
    "ORDER BY salary DESC;\n",
    "\"\"\"\n",
    "result = cursor.execute(sql_query)\n",
    "tabulate(result.fetchall(), tablefmt=\"html\")"
   ]
  },
  {
   "cell_type": "markdown",
   "id": "0e0b589b-830a-40f3-b5fa-0c2a8d8c12e1",
   "metadata": {},
   "source": [
    "# Percentage Difference Compared to the Lowest-Paid Employee"
   ]
  },
  {
   "cell_type": "code",
   "execution_count": 14,
   "id": "f96996d5-9f90-4a46-9821-13e73be4715c",
   "metadata": {},
   "outputs": [
    {
     "data": {
      "text/html": [
       "<table>\n",
       "<tbody>\n",
       "<tr><td>Natalia </td><td style=\"text-align: right;\">3500</td><td style=\"text-align: right;\">2000</td><td style=\"text-align: right;\">133</td></tr>\n",
       "<tr><td>Boris   </td><td style=\"text-align: right;\">3200</td><td style=\"text-align: right;\">1700</td><td style=\"text-align: right;\">113</td></tr>\n",
       "<tr><td>Tony    </td><td style=\"text-align: right;\">3100</td><td style=\"text-align: right;\">1600</td><td style=\"text-align: right;\">107</td></tr>\n",
       "<tr><td>Tobias  </td><td style=\"text-align: right;\">3000</td><td style=\"text-align: right;\">1500</td><td style=\"text-align: right;\">100</td></tr>\n",
       "<tr><td>Karen   </td><td style=\"text-align: right;\">2800</td><td style=\"text-align: right;\">1300</td><td style=\"text-align: right;\"> 87</td></tr>\n",
       "<tr><td>Petko   </td><td style=\"text-align: right;\">2700</td><td style=\"text-align: right;\">1200</td><td style=\"text-align: right;\"> 80</td></tr>\n",
       "<tr><td>Anelia  </td><td style=\"text-align: right;\">2650</td><td style=\"text-align: right;\">1150</td><td style=\"text-align: right;\"> 77</td></tr>\n",
       "<tr><td>Anelia  </td><td style=\"text-align: right;\">2650</td><td style=\"text-align: right;\">1150</td><td style=\"text-align: right;\"> 77</td></tr>\n",
       "<tr><td>Mario   </td><td style=\"text-align: right;\">2500</td><td style=\"text-align: right;\">1000</td><td style=\"text-align: right;\"> 67</td></tr>\n",
       "<tr><td>John    </td><td style=\"text-align: right;\">2400</td><td style=\"text-align: right;\"> 900</td><td style=\"text-align: right;\"> 60</td></tr>\n",
       "<tr><td>Anthony </td><td style=\"text-align: right;\">2300</td><td style=\"text-align: right;\"> 800</td><td style=\"text-align: right;\"> 53</td></tr>\n",
       "<tr><td>Detelina</td><td style=\"text-align: right;\">2200</td><td style=\"text-align: right;\"> 700</td><td style=\"text-align: right;\"> 47</td></tr>\n",
       "<tr><td>Dilyana </td><td style=\"text-align: right;\">2200</td><td style=\"text-align: right;\"> 700</td><td style=\"text-align: right;\"> 47</td></tr>\n",
       "<tr><td>Maria   </td><td style=\"text-align: right;\">2000</td><td style=\"text-align: right;\"> 500</td><td style=\"text-align: right;\"> 33</td></tr>\n",
       "<tr><td>Tanya   </td><td style=\"text-align: right;\">2000</td><td style=\"text-align: right;\"> 500</td><td style=\"text-align: right;\"> 33</td></tr>\n",
       "<tr><td>Daniel  </td><td style=\"text-align: right;\">1900</td><td style=\"text-align: right;\"> 400</td><td style=\"text-align: right;\"> 27</td></tr>\n",
       "<tr><td>Pratel  </td><td style=\"text-align: right;\">1850</td><td style=\"text-align: right;\"> 350</td><td style=\"text-align: right;\"> 23</td></tr>\n",
       "<tr><td>Kris    </td><td style=\"text-align: right;\">1800</td><td style=\"text-align: right;\"> 300</td><td style=\"text-align: right;\"> 20</td></tr>\n",
       "<tr><td>Simeon  </td><td style=\"text-align: right;\">1800</td><td style=\"text-align: right;\"> 300</td><td style=\"text-align: right;\"> 20</td></tr>\n",
       "<tr><td>Ivan    </td><td style=\"text-align: right;\">1800</td><td style=\"text-align: right;\"> 300</td><td style=\"text-align: right;\"> 20</td></tr>\n",
       "<tr><td>Toby    </td><td style=\"text-align: right;\">1750</td><td style=\"text-align: right;\"> 250</td><td style=\"text-align: right;\"> 17</td></tr>\n",
       "<tr><td>Samuel  </td><td style=\"text-align: right;\">1500</td><td style=\"text-align: right;\">   0</td><td style=\"text-align: right;\">  0</td></tr>\n",
       "<tr><td>Katya   </td><td style=\"text-align: right;\">1500</td><td style=\"text-align: right;\">   0</td><td style=\"text-align: right;\">  0</td></tr>\n",
       "</tbody>\n",
       "</table>"
      ],
      "text/plain": [
       "'<table>\\n<tbody>\\n<tr><td>Natalia </td><td style=\"text-align: right;\">3500</td><td style=\"text-align: right;\">2000</td><td style=\"text-align: right;\">133</td></tr>\\n<tr><td>Boris   </td><td style=\"text-align: right;\">3200</td><td style=\"text-align: right;\">1700</td><td style=\"text-align: right;\">113</td></tr>\\n<tr><td>Tony    </td><td style=\"text-align: right;\">3100</td><td style=\"text-align: right;\">1600</td><td style=\"text-align: right;\">107</td></tr>\\n<tr><td>Tobias  </td><td style=\"text-align: right;\">3000</td><td style=\"text-align: right;\">1500</td><td style=\"text-align: right;\">100</td></tr>\\n<tr><td>Karen   </td><td style=\"text-align: right;\">2800</td><td style=\"text-align: right;\">1300</td><td style=\"text-align: right;\"> 87</td></tr>\\n<tr><td>Petko   </td><td style=\"text-align: right;\">2700</td><td style=\"text-align: right;\">1200</td><td style=\"text-align: right;\"> 80</td></tr>\\n<tr><td>Anelia  </td><td style=\"text-align: right;\">2650</td><td style=\"text-align: right;\">1150</td><td style=\"text-align: right;\"> 77</td></tr>\\n<tr><td>Anelia  </td><td style=\"text-align: right;\">2650</td><td style=\"text-align: right;\">1150</td><td style=\"text-align: right;\"> 77</td></tr>\\n<tr><td>Mario   </td><td style=\"text-align: right;\">2500</td><td style=\"text-align: right;\">1000</td><td style=\"text-align: right;\"> 67</td></tr>\\n<tr><td>John    </td><td style=\"text-align: right;\">2400</td><td style=\"text-align: right;\"> 900</td><td style=\"text-align: right;\"> 60</td></tr>\\n<tr><td>Anthony </td><td style=\"text-align: right;\">2300</td><td style=\"text-align: right;\"> 800</td><td style=\"text-align: right;\"> 53</td></tr>\\n<tr><td>Detelina</td><td style=\"text-align: right;\">2200</td><td style=\"text-align: right;\"> 700</td><td style=\"text-align: right;\"> 47</td></tr>\\n<tr><td>Dilyana </td><td style=\"text-align: right;\">2200</td><td style=\"text-align: right;\"> 700</td><td style=\"text-align: right;\"> 47</td></tr>\\n<tr><td>Maria   </td><td style=\"text-align: right;\">2000</td><td style=\"text-align: right;\"> 500</td><td style=\"text-align: right;\"> 33</td></tr>\\n<tr><td>Tanya   </td><td style=\"text-align: right;\">2000</td><td style=\"text-align: right;\"> 500</td><td style=\"text-align: right;\"> 33</td></tr>\\n<tr><td>Daniel  </td><td style=\"text-align: right;\">1900</td><td style=\"text-align: right;\"> 400</td><td style=\"text-align: right;\"> 27</td></tr>\\n<tr><td>Pratel  </td><td style=\"text-align: right;\">1850</td><td style=\"text-align: right;\"> 350</td><td style=\"text-align: right;\"> 23</td></tr>\\n<tr><td>Kris    </td><td style=\"text-align: right;\">1800</td><td style=\"text-align: right;\"> 300</td><td style=\"text-align: right;\"> 20</td></tr>\\n<tr><td>Simeon  </td><td style=\"text-align: right;\">1800</td><td style=\"text-align: right;\"> 300</td><td style=\"text-align: right;\"> 20</td></tr>\\n<tr><td>Ivan    </td><td style=\"text-align: right;\">1800</td><td style=\"text-align: right;\"> 300</td><td style=\"text-align: right;\"> 20</td></tr>\\n<tr><td>Toby    </td><td style=\"text-align: right;\">1750</td><td style=\"text-align: right;\"> 250</td><td style=\"text-align: right;\"> 17</td></tr>\\n<tr><td>Samuel  </td><td style=\"text-align: right;\">1500</td><td style=\"text-align: right;\">   0</td><td style=\"text-align: right;\">  0</td></tr>\\n<tr><td>Katya   </td><td style=\"text-align: right;\">1500</td><td style=\"text-align: right;\">   0</td><td style=\"text-align: right;\">  0</td></tr>\\n</tbody>\\n</table>'"
      ]
     },
     "execution_count": 14,
     "metadata": {},
     "output_type": "execute_result"
    }
   ],
   "source": [
    "sql_query = \"\"\"\n",
    "SELECT \n",
    "    name, \n",
    "    salary,\n",
    "    salary - LAST_VALUE(salary) OVER w AS more,\n",
    "    round((salary - LAST_VALUE(salary) OVER w) * 1.0 / LAST_VALUE(salary) OVER w * 100) as pct_more\n",
    "FROM emp\n",
    "WINDOW w AS (ORDER BY salary DESC ROWS BETWEEN UNBOUNDED PRECEDING AND UNBOUNDED FOLLOWING)\n",
    "ORDER BY salary DESC;\n",
    "\"\"\"\n",
    "result = cursor.execute(sql_query)\n",
    "tabulate(result.fetchall(), tablefmt=\"html\")"
   ]
  },
  {
   "cell_type": "markdown",
   "id": "ba9a1b50-b3af-4fe2-83f2-a87d61b95ab9",
   "metadata": {},
   "source": [
    "# `RANK` and `DENSE_RANK`"
   ]
  },
  {
   "cell_type": "code",
   "execution_count": 15,
   "id": "00e0e973-4b09-4526-99bf-e858502a3f87",
   "metadata": {},
   "outputs": [
    {
     "data": {
      "text/html": [
       "<table>\n",
       "<tbody>\n",
       "<tr><td>Natalia </td><td style=\"text-align: right;\">3500</td><td style=\"text-align: right;\"> 1</td><td style=\"text-align: right;\"> 1</td></tr>\n",
       "<tr><td>Boris   </td><td style=\"text-align: right;\">3200</td><td style=\"text-align: right;\"> 2</td><td style=\"text-align: right;\"> 2</td></tr>\n",
       "<tr><td>Tony    </td><td style=\"text-align: right;\">3100</td><td style=\"text-align: right;\"> 3</td><td style=\"text-align: right;\"> 3</td></tr>\n",
       "<tr><td>Tobias  </td><td style=\"text-align: right;\">3000</td><td style=\"text-align: right;\"> 4</td><td style=\"text-align: right;\"> 4</td></tr>\n",
       "<tr><td>Karen   </td><td style=\"text-align: right;\">2800</td><td style=\"text-align: right;\"> 5</td><td style=\"text-align: right;\"> 5</td></tr>\n",
       "<tr><td>Petko   </td><td style=\"text-align: right;\">2700</td><td style=\"text-align: right;\"> 6</td><td style=\"text-align: right;\"> 6</td></tr>\n",
       "<tr><td>Anelia  </td><td style=\"text-align: right;\">2650</td><td style=\"text-align: right;\"> 7</td><td style=\"text-align: right;\"> 7</td></tr>\n",
       "<tr><td>Anelia  </td><td style=\"text-align: right;\">2650</td><td style=\"text-align: right;\"> 7</td><td style=\"text-align: right;\"> 7</td></tr>\n",
       "<tr><td>Mario   </td><td style=\"text-align: right;\">2500</td><td style=\"text-align: right;\"> 9</td><td style=\"text-align: right;\"> 8</td></tr>\n",
       "<tr><td>John    </td><td style=\"text-align: right;\">2400</td><td style=\"text-align: right;\">10</td><td style=\"text-align: right;\"> 9</td></tr>\n",
       "<tr><td>Anthony </td><td style=\"text-align: right;\">2300</td><td style=\"text-align: right;\">11</td><td style=\"text-align: right;\">10</td></tr>\n",
       "<tr><td>Detelina</td><td style=\"text-align: right;\">2200</td><td style=\"text-align: right;\">12</td><td style=\"text-align: right;\">11</td></tr>\n",
       "<tr><td>Dilyana </td><td style=\"text-align: right;\">2200</td><td style=\"text-align: right;\">12</td><td style=\"text-align: right;\">11</td></tr>\n",
       "<tr><td>Maria   </td><td style=\"text-align: right;\">2000</td><td style=\"text-align: right;\">14</td><td style=\"text-align: right;\">12</td></tr>\n",
       "<tr><td>Tanya   </td><td style=\"text-align: right;\">2000</td><td style=\"text-align: right;\">14</td><td style=\"text-align: right;\">12</td></tr>\n",
       "<tr><td>Daniel  </td><td style=\"text-align: right;\">1900</td><td style=\"text-align: right;\">16</td><td style=\"text-align: right;\">13</td></tr>\n",
       "<tr><td>Pratel  </td><td style=\"text-align: right;\">1850</td><td style=\"text-align: right;\">17</td><td style=\"text-align: right;\">14</td></tr>\n",
       "<tr><td>Kris    </td><td style=\"text-align: right;\">1800</td><td style=\"text-align: right;\">18</td><td style=\"text-align: right;\">15</td></tr>\n",
       "<tr><td>Simeon  </td><td style=\"text-align: right;\">1800</td><td style=\"text-align: right;\">18</td><td style=\"text-align: right;\">15</td></tr>\n",
       "<tr><td>Ivan    </td><td style=\"text-align: right;\">1800</td><td style=\"text-align: right;\">18</td><td style=\"text-align: right;\">15</td></tr>\n",
       "<tr><td>Toby    </td><td style=\"text-align: right;\">1750</td><td style=\"text-align: right;\">21</td><td style=\"text-align: right;\">16</td></tr>\n",
       "<tr><td>Samuel  </td><td style=\"text-align: right;\">1500</td><td style=\"text-align: right;\">22</td><td style=\"text-align: right;\">17</td></tr>\n",
       "<tr><td>Katya   </td><td style=\"text-align: right;\">1500</td><td style=\"text-align: right;\">22</td><td style=\"text-align: right;\">17</td></tr>\n",
       "</tbody>\n",
       "</table>"
      ],
      "text/plain": [
       "'<table>\\n<tbody>\\n<tr><td>Natalia </td><td style=\"text-align: right;\">3500</td><td style=\"text-align: right;\"> 1</td><td style=\"text-align: right;\"> 1</td></tr>\\n<tr><td>Boris   </td><td style=\"text-align: right;\">3200</td><td style=\"text-align: right;\"> 2</td><td style=\"text-align: right;\"> 2</td></tr>\\n<tr><td>Tony    </td><td style=\"text-align: right;\">3100</td><td style=\"text-align: right;\"> 3</td><td style=\"text-align: right;\"> 3</td></tr>\\n<tr><td>Tobias  </td><td style=\"text-align: right;\">3000</td><td style=\"text-align: right;\"> 4</td><td style=\"text-align: right;\"> 4</td></tr>\\n<tr><td>Karen   </td><td style=\"text-align: right;\">2800</td><td style=\"text-align: right;\"> 5</td><td style=\"text-align: right;\"> 5</td></tr>\\n<tr><td>Petko   </td><td style=\"text-align: right;\">2700</td><td style=\"text-align: right;\"> 6</td><td style=\"text-align: right;\"> 6</td></tr>\\n<tr><td>Anelia  </td><td style=\"text-align: right;\">2650</td><td style=\"text-align: right;\"> 7</td><td style=\"text-align: right;\"> 7</td></tr>\\n<tr><td>Anelia  </td><td style=\"text-align: right;\">2650</td><td style=\"text-align: right;\"> 7</td><td style=\"text-align: right;\"> 7</td></tr>\\n<tr><td>Mario   </td><td style=\"text-align: right;\">2500</td><td style=\"text-align: right;\"> 9</td><td style=\"text-align: right;\"> 8</td></tr>\\n<tr><td>John    </td><td style=\"text-align: right;\">2400</td><td style=\"text-align: right;\">10</td><td style=\"text-align: right;\"> 9</td></tr>\\n<tr><td>Anthony </td><td style=\"text-align: right;\">2300</td><td style=\"text-align: right;\">11</td><td style=\"text-align: right;\">10</td></tr>\\n<tr><td>Detelina</td><td style=\"text-align: right;\">2200</td><td style=\"text-align: right;\">12</td><td style=\"text-align: right;\">11</td></tr>\\n<tr><td>Dilyana </td><td style=\"text-align: right;\">2200</td><td style=\"text-align: right;\">12</td><td style=\"text-align: right;\">11</td></tr>\\n<tr><td>Maria   </td><td style=\"text-align: right;\">2000</td><td style=\"text-align: right;\">14</td><td style=\"text-align: right;\">12</td></tr>\\n<tr><td>Tanya   </td><td style=\"text-align: right;\">2000</td><td style=\"text-align: right;\">14</td><td style=\"text-align: right;\">12</td></tr>\\n<tr><td>Daniel  </td><td style=\"text-align: right;\">1900</td><td style=\"text-align: right;\">16</td><td style=\"text-align: right;\">13</td></tr>\\n<tr><td>Pratel  </td><td style=\"text-align: right;\">1850</td><td style=\"text-align: right;\">17</td><td style=\"text-align: right;\">14</td></tr>\\n<tr><td>Kris    </td><td style=\"text-align: right;\">1800</td><td style=\"text-align: right;\">18</td><td style=\"text-align: right;\">15</td></tr>\\n<tr><td>Simeon  </td><td style=\"text-align: right;\">1800</td><td style=\"text-align: right;\">18</td><td style=\"text-align: right;\">15</td></tr>\\n<tr><td>Ivan    </td><td style=\"text-align: right;\">1800</td><td style=\"text-align: right;\">18</td><td style=\"text-align: right;\">15</td></tr>\\n<tr><td>Toby    </td><td style=\"text-align: right;\">1750</td><td style=\"text-align: right;\">21</td><td style=\"text-align: right;\">16</td></tr>\\n<tr><td>Samuel  </td><td style=\"text-align: right;\">1500</td><td style=\"text-align: right;\">22</td><td style=\"text-align: right;\">17</td></tr>\\n<tr><td>Katya   </td><td style=\"text-align: right;\">1500</td><td style=\"text-align: right;\">22</td><td style=\"text-align: right;\">17</td></tr>\\n</tbody>\\n</table>'"
      ]
     },
     "execution_count": 15,
     "metadata": {},
     "output_type": "execute_result"
    }
   ],
   "source": [
    "sql_query = \"\"\"\n",
    "SELECT \n",
    "    name, \n",
    "    salary,\n",
    "    RANK() OVER s,\n",
    "    DENSE_RANK() OVER s\n",
    "FROM emp\n",
    "WINDOW s AS (ORDER BY salary DESC)\n",
    "ORDER BY salary DESC;\n",
    "\"\"\"\n",
    "result = cursor.execute(sql_query)\n",
    "tabulate(result.fetchall(), tablefmt=\"html\")"
   ]
  },
  {
   "cell_type": "markdown",
   "id": "d116cf8f-0c0a-4e1b-82b3-0ffe264e07fa",
   "metadata": {},
   "source": [
    "# Average by Department"
   ]
  },
  {
   "cell_type": "code",
   "execution_count": 16,
   "id": "bf7191f4-f66f-4363-9210-e96a71b113d1",
   "metadata": {},
   "outputs": [
    {
     "data": {
      "text/html": [
       "<table>\n",
       "<tbody>\n",
       "<tr><td>Tobias  </td><td style=\"text-align: right;\">3000</td><td>Finance   </td><td style=\"text-align: right;\">2900</td><td style=\"text-align: right;\"> 100</td></tr>\n",
       "<tr><td>Karen   </td><td style=\"text-align: right;\">2800</td><td>Finance   </td><td style=\"text-align: right;\">2900</td><td style=\"text-align: right;\">-100</td></tr>\n",
       "<tr><td>Anelia  </td><td style=\"text-align: right;\">2650</td><td>HR        </td><td style=\"text-align: right;\">2600</td><td style=\"text-align: right;\">  50</td></tr>\n",
       "<tr><td>Anelia  </td><td style=\"text-align: right;\">2650</td><td>HR        </td><td style=\"text-align: right;\">2600</td><td style=\"text-align: right;\">  50</td></tr>\n",
       "<tr><td>Mario   </td><td style=\"text-align: right;\">2500</td><td>HR        </td><td style=\"text-align: right;\">2600</td><td style=\"text-align: right;\">-100</td></tr>\n",
       "<tr><td>Petko   </td><td style=\"text-align: right;\">2700</td><td>IT        </td><td style=\"text-align: right;\">2275</td><td style=\"text-align: right;\"> 425</td></tr>\n",
       "<tr><td>John    </td><td style=\"text-align: right;\">2400</td><td>IT        </td><td style=\"text-align: right;\">2275</td><td style=\"text-align: right;\"> 125</td></tr>\n",
       "<tr><td>Dilyana </td><td style=\"text-align: right;\">2200</td><td>IT        </td><td style=\"text-align: right;\">2275</td><td style=\"text-align: right;\"> -75</td></tr>\n",
       "<tr><td>Ivan    </td><td style=\"text-align: right;\">1800</td><td>IT        </td><td style=\"text-align: right;\">2275</td><td style=\"text-align: right;\">-475</td></tr>\n",
       "<tr><td>Tony    </td><td style=\"text-align: right;\">3100</td><td>Legal     </td><td style=\"text-align: right;\">3100</td><td style=\"text-align: right;\">   0</td></tr>\n",
       "<tr><td>Anthony </td><td style=\"text-align: right;\">2300</td><td>Marketing </td><td style=\"text-align: right;\">2000</td><td style=\"text-align: right;\"> 300</td></tr>\n",
       "<tr><td>Detelina</td><td style=\"text-align: right;\">2200</td><td>Marketing </td><td style=\"text-align: right;\">2000</td><td style=\"text-align: right;\"> 200</td></tr>\n",
       "<tr><td>Samuel  </td><td style=\"text-align: right;\">1500</td><td>Marketing </td><td style=\"text-align: right;\">2000</td><td style=\"text-align: right;\">-500</td></tr>\n",
       "<tr><td>Maria   </td><td style=\"text-align: right;\">2000</td><td>Operations</td><td style=\"text-align: right;\">1825</td><td style=\"text-align: right;\"> 175</td></tr>\n",
       "<tr><td>Tanya   </td><td style=\"text-align: right;\">2000</td><td>Operations</td><td style=\"text-align: right;\">1825</td><td style=\"text-align: right;\"> 175</td></tr>\n",
       "<tr><td>Daniel  </td><td style=\"text-align: right;\">1900</td><td>Operations</td><td style=\"text-align: right;\">1825</td><td style=\"text-align: right;\">  75</td></tr>\n",
       "<tr><td>Pratel  </td><td style=\"text-align: right;\">1850</td><td>Operations</td><td style=\"text-align: right;\">1825</td><td style=\"text-align: right;\">  25</td></tr>\n",
       "<tr><td>Kris    </td><td style=\"text-align: right;\">1800</td><td>Operations</td><td style=\"text-align: right;\">1825</td><td style=\"text-align: right;\"> -25</td></tr>\n",
       "<tr><td>Simeon  </td><td style=\"text-align: right;\">1800</td><td>Operations</td><td style=\"text-align: right;\">1825</td><td style=\"text-align: right;\"> -25</td></tr>\n",
       "<tr><td>Toby    </td><td style=\"text-align: right;\">1750</td><td>Operations</td><td style=\"text-align: right;\">1825</td><td style=\"text-align: right;\"> -75</td></tr>\n",
       "<tr><td>Katya   </td><td style=\"text-align: right;\">1500</td><td>Operations</td><td style=\"text-align: right;\">1825</td><td style=\"text-align: right;\">-325</td></tr>\n",
       "<tr><td>Natalia </td><td style=\"text-align: right;\">3500</td><td>Sales     </td><td style=\"text-align: right;\">3350</td><td style=\"text-align: right;\"> 150</td></tr>\n",
       "<tr><td>Boris   </td><td style=\"text-align: right;\">3200</td><td>Sales     </td><td style=\"text-align: right;\">3350</td><td style=\"text-align: right;\">-150</td></tr>\n",
       "</tbody>\n",
       "</table>"
      ],
      "text/plain": [
       "'<table>\\n<tbody>\\n<tr><td>Tobias  </td><td style=\"text-align: right;\">3000</td><td>Finance   </td><td style=\"text-align: right;\">2900</td><td style=\"text-align: right;\"> 100</td></tr>\\n<tr><td>Karen   </td><td style=\"text-align: right;\">2800</td><td>Finance   </td><td style=\"text-align: right;\">2900</td><td style=\"text-align: right;\">-100</td></tr>\\n<tr><td>Anelia  </td><td style=\"text-align: right;\">2650</td><td>HR        </td><td style=\"text-align: right;\">2600</td><td style=\"text-align: right;\">  50</td></tr>\\n<tr><td>Anelia  </td><td style=\"text-align: right;\">2650</td><td>HR        </td><td style=\"text-align: right;\">2600</td><td style=\"text-align: right;\">  50</td></tr>\\n<tr><td>Mario   </td><td style=\"text-align: right;\">2500</td><td>HR        </td><td style=\"text-align: right;\">2600</td><td style=\"text-align: right;\">-100</td></tr>\\n<tr><td>Petko   </td><td style=\"text-align: right;\">2700</td><td>IT        </td><td style=\"text-align: right;\">2275</td><td style=\"text-align: right;\"> 425</td></tr>\\n<tr><td>John    </td><td style=\"text-align: right;\">2400</td><td>IT        </td><td style=\"text-align: right;\">2275</td><td style=\"text-align: right;\"> 125</td></tr>\\n<tr><td>Dilyana </td><td style=\"text-align: right;\">2200</td><td>IT        </td><td style=\"text-align: right;\">2275</td><td style=\"text-align: right;\"> -75</td></tr>\\n<tr><td>Ivan    </td><td style=\"text-align: right;\">1800</td><td>IT        </td><td style=\"text-align: right;\">2275</td><td style=\"text-align: right;\">-475</td></tr>\\n<tr><td>Tony    </td><td style=\"text-align: right;\">3100</td><td>Legal     </td><td style=\"text-align: right;\">3100</td><td style=\"text-align: right;\">   0</td></tr>\\n<tr><td>Anthony </td><td style=\"text-align: right;\">2300</td><td>Marketing </td><td style=\"text-align: right;\">2000</td><td style=\"text-align: right;\"> 300</td></tr>\\n<tr><td>Detelina</td><td style=\"text-align: right;\">2200</td><td>Marketing </td><td style=\"text-align: right;\">2000</td><td style=\"text-align: right;\"> 200</td></tr>\\n<tr><td>Samuel  </td><td style=\"text-align: right;\">1500</td><td>Marketing </td><td style=\"text-align: right;\">2000</td><td style=\"text-align: right;\">-500</td></tr>\\n<tr><td>Maria   </td><td style=\"text-align: right;\">2000</td><td>Operations</td><td style=\"text-align: right;\">1825</td><td style=\"text-align: right;\"> 175</td></tr>\\n<tr><td>Tanya   </td><td style=\"text-align: right;\">2000</td><td>Operations</td><td style=\"text-align: right;\">1825</td><td style=\"text-align: right;\"> 175</td></tr>\\n<tr><td>Daniel  </td><td style=\"text-align: right;\">1900</td><td>Operations</td><td style=\"text-align: right;\">1825</td><td style=\"text-align: right;\">  75</td></tr>\\n<tr><td>Pratel  </td><td style=\"text-align: right;\">1850</td><td>Operations</td><td style=\"text-align: right;\">1825</td><td style=\"text-align: right;\">  25</td></tr>\\n<tr><td>Kris    </td><td style=\"text-align: right;\">1800</td><td>Operations</td><td style=\"text-align: right;\">1825</td><td style=\"text-align: right;\"> -25</td></tr>\\n<tr><td>Simeon  </td><td style=\"text-align: right;\">1800</td><td>Operations</td><td style=\"text-align: right;\">1825</td><td style=\"text-align: right;\"> -25</td></tr>\\n<tr><td>Toby    </td><td style=\"text-align: right;\">1750</td><td>Operations</td><td style=\"text-align: right;\">1825</td><td style=\"text-align: right;\"> -75</td></tr>\\n<tr><td>Katya   </td><td style=\"text-align: right;\">1500</td><td>Operations</td><td style=\"text-align: right;\">1825</td><td style=\"text-align: right;\">-325</td></tr>\\n<tr><td>Natalia </td><td style=\"text-align: right;\">3500</td><td>Sales     </td><td style=\"text-align: right;\">3350</td><td style=\"text-align: right;\"> 150</td></tr>\\n<tr><td>Boris   </td><td style=\"text-align: right;\">3200</td><td>Sales     </td><td style=\"text-align: right;\">3350</td><td style=\"text-align: right;\">-150</td></tr>\\n</tbody>\\n</table>'"
      ]
     },
     "execution_count": 16,
     "metadata": {},
     "output_type": "execute_result"
    }
   ],
   "source": [
    "sql_query = \"\"\"\n",
    "SELECT \n",
    "    name, \n",
    "    salary,\n",
    "    department,\n",
    "    round(AVG(salary) OVER (PARTITION BY department), 2) AS avg,\n",
    "    round(salary - AVG(salary) OVER (PARTITION BY department), 2) AS diff_avg\n",
    "FROM emp\n",
    "ORDER BY department, salary DESC;\n",
    "\"\"\"\n",
    "result = cursor.execute(sql_query)\n",
    "tabulate(result.fetchall(), tablefmt=\"html\")"
   ]
  },
  {
   "cell_type": "markdown",
   "id": "5a5f4643-9c93-4362-b2aa-509b107e75e0",
   "metadata": {},
   "source": [
    "# Compared to Next Salary in Department"
   ]
  },
  {
   "cell_type": "code",
   "execution_count": 17,
   "id": "59888954-ed47-4294-9274-a585bbf099b6",
   "metadata": {},
   "outputs": [
    {
     "data": {
      "text/html": [
       "<table>\n",
       "<tbody>\n",
       "<tr><td>Tobias  </td><td>Finance   </td><td style=\"text-align: right;\">3000</td><td style=\"text-align: right;\">200</td></tr>\n",
       "<tr><td>Karen   </td><td>Finance   </td><td style=\"text-align: right;\">2800</td><td style=\"text-align: right;\">   </td></tr>\n",
       "<tr><td>Anelia  </td><td>HR        </td><td style=\"text-align: right;\">2650</td><td style=\"text-align: right;\">  0</td></tr>\n",
       "<tr><td>Anelia  </td><td>HR        </td><td style=\"text-align: right;\">2650</td><td style=\"text-align: right;\">150</td></tr>\n",
       "<tr><td>Mario   </td><td>HR        </td><td style=\"text-align: right;\">2500</td><td style=\"text-align: right;\">   </td></tr>\n",
       "<tr><td>Petko   </td><td>IT        </td><td style=\"text-align: right;\">2700</td><td style=\"text-align: right;\">300</td></tr>\n",
       "<tr><td>John    </td><td>IT        </td><td style=\"text-align: right;\">2400</td><td style=\"text-align: right;\">200</td></tr>\n",
       "<tr><td>Dilyana </td><td>IT        </td><td style=\"text-align: right;\">2200</td><td style=\"text-align: right;\">400</td></tr>\n",
       "<tr><td>Ivan    </td><td>IT        </td><td style=\"text-align: right;\">1800</td><td style=\"text-align: right;\">   </td></tr>\n",
       "<tr><td>Tony    </td><td>Legal     </td><td style=\"text-align: right;\">3100</td><td style=\"text-align: right;\">   </td></tr>\n",
       "<tr><td>Anthony </td><td>Marketing </td><td style=\"text-align: right;\">2300</td><td style=\"text-align: right;\">100</td></tr>\n",
       "<tr><td>Detelina</td><td>Marketing </td><td style=\"text-align: right;\">2200</td><td style=\"text-align: right;\">700</td></tr>\n",
       "<tr><td>Samuel  </td><td>Marketing </td><td style=\"text-align: right;\">1500</td><td style=\"text-align: right;\">   </td></tr>\n",
       "<tr><td>Maria   </td><td>Operations</td><td style=\"text-align: right;\">2000</td><td style=\"text-align: right;\">  0</td></tr>\n",
       "<tr><td>Tanya   </td><td>Operations</td><td style=\"text-align: right;\">2000</td><td style=\"text-align: right;\">100</td></tr>\n",
       "<tr><td>Daniel  </td><td>Operations</td><td style=\"text-align: right;\">1900</td><td style=\"text-align: right;\"> 50</td></tr>\n",
       "<tr><td>Pratel  </td><td>Operations</td><td style=\"text-align: right;\">1850</td><td style=\"text-align: right;\"> 50</td></tr>\n",
       "<tr><td>Kris    </td><td>Operations</td><td style=\"text-align: right;\">1800</td><td style=\"text-align: right;\">  0</td></tr>\n",
       "<tr><td>Simeon  </td><td>Operations</td><td style=\"text-align: right;\">1800</td><td style=\"text-align: right;\"> 50</td></tr>\n",
       "<tr><td>Toby    </td><td>Operations</td><td style=\"text-align: right;\">1750</td><td style=\"text-align: right;\">250</td></tr>\n",
       "<tr><td>Katya   </td><td>Operations</td><td style=\"text-align: right;\">1500</td><td style=\"text-align: right;\">   </td></tr>\n",
       "<tr><td>Natalia </td><td>Sales     </td><td style=\"text-align: right;\">3500</td><td style=\"text-align: right;\">300</td></tr>\n",
       "<tr><td>Boris   </td><td>Sales     </td><td style=\"text-align: right;\">3200</td><td style=\"text-align: right;\">   </td></tr>\n",
       "</tbody>\n",
       "</table>"
      ],
      "text/plain": [
       "'<table>\\n<tbody>\\n<tr><td>Tobias  </td><td>Finance   </td><td style=\"text-align: right;\">3000</td><td style=\"text-align: right;\">200</td></tr>\\n<tr><td>Karen   </td><td>Finance   </td><td style=\"text-align: right;\">2800</td><td style=\"text-align: right;\">   </td></tr>\\n<tr><td>Anelia  </td><td>HR        </td><td style=\"text-align: right;\">2650</td><td style=\"text-align: right;\">  0</td></tr>\\n<tr><td>Anelia  </td><td>HR        </td><td style=\"text-align: right;\">2650</td><td style=\"text-align: right;\">150</td></tr>\\n<tr><td>Mario   </td><td>HR        </td><td style=\"text-align: right;\">2500</td><td style=\"text-align: right;\">   </td></tr>\\n<tr><td>Petko   </td><td>IT        </td><td style=\"text-align: right;\">2700</td><td style=\"text-align: right;\">300</td></tr>\\n<tr><td>John    </td><td>IT        </td><td style=\"text-align: right;\">2400</td><td style=\"text-align: right;\">200</td></tr>\\n<tr><td>Dilyana </td><td>IT        </td><td style=\"text-align: right;\">2200</td><td style=\"text-align: right;\">400</td></tr>\\n<tr><td>Ivan    </td><td>IT        </td><td style=\"text-align: right;\">1800</td><td style=\"text-align: right;\">   </td></tr>\\n<tr><td>Tony    </td><td>Legal     </td><td style=\"text-align: right;\">3100</td><td style=\"text-align: right;\">   </td></tr>\\n<tr><td>Anthony </td><td>Marketing </td><td style=\"text-align: right;\">2300</td><td style=\"text-align: right;\">100</td></tr>\\n<tr><td>Detelina</td><td>Marketing </td><td style=\"text-align: right;\">2200</td><td style=\"text-align: right;\">700</td></tr>\\n<tr><td>Samuel  </td><td>Marketing </td><td style=\"text-align: right;\">1500</td><td style=\"text-align: right;\">   </td></tr>\\n<tr><td>Maria   </td><td>Operations</td><td style=\"text-align: right;\">2000</td><td style=\"text-align: right;\">  0</td></tr>\\n<tr><td>Tanya   </td><td>Operations</td><td style=\"text-align: right;\">2000</td><td style=\"text-align: right;\">100</td></tr>\\n<tr><td>Daniel  </td><td>Operations</td><td style=\"text-align: right;\">1900</td><td style=\"text-align: right;\"> 50</td></tr>\\n<tr><td>Pratel  </td><td>Operations</td><td style=\"text-align: right;\">1850</td><td style=\"text-align: right;\"> 50</td></tr>\\n<tr><td>Kris    </td><td>Operations</td><td style=\"text-align: right;\">1800</td><td style=\"text-align: right;\">  0</td></tr>\\n<tr><td>Simeon  </td><td>Operations</td><td style=\"text-align: right;\">1800</td><td style=\"text-align: right;\"> 50</td></tr>\\n<tr><td>Toby    </td><td>Operations</td><td style=\"text-align: right;\">1750</td><td style=\"text-align: right;\">250</td></tr>\\n<tr><td>Katya   </td><td>Operations</td><td style=\"text-align: right;\">1500</td><td style=\"text-align: right;\">   </td></tr>\\n<tr><td>Natalia </td><td>Sales     </td><td style=\"text-align: right;\">3500</td><td style=\"text-align: right;\">300</td></tr>\\n<tr><td>Boris   </td><td>Sales     </td><td style=\"text-align: right;\">3200</td><td style=\"text-align: right;\">   </td></tr>\\n</tbody>\\n</table>'"
      ]
     },
     "execution_count": 17,
     "metadata": {},
     "output_type": "execute_result"
    }
   ],
   "source": [
    "sql_query = \"\"\"\n",
    "SELECT \n",
    "    name, \n",
    "    department,\n",
    "    salary,\n",
    "    salary - LEAD(salary, 1) OVER (PARTITION BY department ORDER BY salary DESC) AS diff_next\n",
    "FROM emp\n",
    "ORDER BY department, salary DESC;\n",
    "\"\"\"\n",
    "result = cursor.execute(sql_query)\n",
    "tabulate(result.fetchall(), tablefmt=\"html\")"
   ]
  },
  {
   "cell_type": "markdown",
   "id": "711ed5fe-a115-4521-8707-a338c1c7df33",
   "metadata": {},
   "source": [
    "# Departmental and Global Ranks"
   ]
  },
  {
   "cell_type": "code",
   "execution_count": 18,
   "id": "6b9519ff-22e9-4b35-ab63-e838898fc3f6",
   "metadata": {},
   "outputs": [
    {
     "data": {
      "text/html": [
       "<table>\n",
       "<tbody>\n",
       "<tr><td>Tobias  </td><td>Finance   </td><td style=\"text-align: right;\">3000</td><td style=\"text-align: right;\">1</td><td style=\"text-align: right;\"> 4</td></tr>\n",
       "<tr><td>Karen   </td><td>Finance   </td><td style=\"text-align: right;\">2800</td><td style=\"text-align: right;\">2</td><td style=\"text-align: right;\"> 5</td></tr>\n",
       "<tr><td>Anelia  </td><td>HR        </td><td style=\"text-align: right;\">2650</td><td style=\"text-align: right;\">1</td><td style=\"text-align: right;\"> 7</td></tr>\n",
       "<tr><td>Anelia  </td><td>HR        </td><td style=\"text-align: right;\">2650</td><td style=\"text-align: right;\">1</td><td style=\"text-align: right;\"> 7</td></tr>\n",
       "<tr><td>Mario   </td><td>HR        </td><td style=\"text-align: right;\">2500</td><td style=\"text-align: right;\">3</td><td style=\"text-align: right;\"> 9</td></tr>\n",
       "<tr><td>Petko   </td><td>IT        </td><td style=\"text-align: right;\">2700</td><td style=\"text-align: right;\">1</td><td style=\"text-align: right;\"> 6</td></tr>\n",
       "<tr><td>John    </td><td>IT        </td><td style=\"text-align: right;\">2400</td><td style=\"text-align: right;\">2</td><td style=\"text-align: right;\">10</td></tr>\n",
       "<tr><td>Dilyana </td><td>IT        </td><td style=\"text-align: right;\">2200</td><td style=\"text-align: right;\">3</td><td style=\"text-align: right;\">12</td></tr>\n",
       "<tr><td>Ivan    </td><td>IT        </td><td style=\"text-align: right;\">1800</td><td style=\"text-align: right;\">4</td><td style=\"text-align: right;\">18</td></tr>\n",
       "<tr><td>Tony    </td><td>Legal     </td><td style=\"text-align: right;\">3100</td><td style=\"text-align: right;\">1</td><td style=\"text-align: right;\"> 3</td></tr>\n",
       "<tr><td>Anthony </td><td>Marketing </td><td style=\"text-align: right;\">2300</td><td style=\"text-align: right;\">1</td><td style=\"text-align: right;\">11</td></tr>\n",
       "<tr><td>Detelina</td><td>Marketing </td><td style=\"text-align: right;\">2200</td><td style=\"text-align: right;\">2</td><td style=\"text-align: right;\">12</td></tr>\n",
       "<tr><td>Samuel  </td><td>Marketing </td><td style=\"text-align: right;\">1500</td><td style=\"text-align: right;\">3</td><td style=\"text-align: right;\">22</td></tr>\n",
       "<tr><td>Maria   </td><td>Operations</td><td style=\"text-align: right;\">2000</td><td style=\"text-align: right;\">1</td><td style=\"text-align: right;\">14</td></tr>\n",
       "<tr><td>Tanya   </td><td>Operations</td><td style=\"text-align: right;\">2000</td><td style=\"text-align: right;\">1</td><td style=\"text-align: right;\">14</td></tr>\n",
       "<tr><td>Daniel  </td><td>Operations</td><td style=\"text-align: right;\">1900</td><td style=\"text-align: right;\">3</td><td style=\"text-align: right;\">16</td></tr>\n",
       "<tr><td>Pratel  </td><td>Operations</td><td style=\"text-align: right;\">1850</td><td style=\"text-align: right;\">4</td><td style=\"text-align: right;\">17</td></tr>\n",
       "<tr><td>Kris    </td><td>Operations</td><td style=\"text-align: right;\">1800</td><td style=\"text-align: right;\">5</td><td style=\"text-align: right;\">18</td></tr>\n",
       "<tr><td>Simeon  </td><td>Operations</td><td style=\"text-align: right;\">1800</td><td style=\"text-align: right;\">5</td><td style=\"text-align: right;\">18</td></tr>\n",
       "<tr><td>Toby    </td><td>Operations</td><td style=\"text-align: right;\">1750</td><td style=\"text-align: right;\">7</td><td style=\"text-align: right;\">21</td></tr>\n",
       "<tr><td>Katya   </td><td>Operations</td><td style=\"text-align: right;\">1500</td><td style=\"text-align: right;\">8</td><td style=\"text-align: right;\">22</td></tr>\n",
       "<tr><td>Natalia </td><td>Sales     </td><td style=\"text-align: right;\">3500</td><td style=\"text-align: right;\">1</td><td style=\"text-align: right;\"> 1</td></tr>\n",
       "<tr><td>Boris   </td><td>Sales     </td><td style=\"text-align: right;\">3200</td><td style=\"text-align: right;\">2</td><td style=\"text-align: right;\"> 2</td></tr>\n",
       "</tbody>\n",
       "</table>"
      ],
      "text/plain": [
       "'<table>\\n<tbody>\\n<tr><td>Tobias  </td><td>Finance   </td><td style=\"text-align: right;\">3000</td><td style=\"text-align: right;\">1</td><td style=\"text-align: right;\"> 4</td></tr>\\n<tr><td>Karen   </td><td>Finance   </td><td style=\"text-align: right;\">2800</td><td style=\"text-align: right;\">2</td><td style=\"text-align: right;\"> 5</td></tr>\\n<tr><td>Anelia  </td><td>HR        </td><td style=\"text-align: right;\">2650</td><td style=\"text-align: right;\">1</td><td style=\"text-align: right;\"> 7</td></tr>\\n<tr><td>Anelia  </td><td>HR        </td><td style=\"text-align: right;\">2650</td><td style=\"text-align: right;\">1</td><td style=\"text-align: right;\"> 7</td></tr>\\n<tr><td>Mario   </td><td>HR        </td><td style=\"text-align: right;\">2500</td><td style=\"text-align: right;\">3</td><td style=\"text-align: right;\"> 9</td></tr>\\n<tr><td>Petko   </td><td>IT        </td><td style=\"text-align: right;\">2700</td><td style=\"text-align: right;\">1</td><td style=\"text-align: right;\"> 6</td></tr>\\n<tr><td>John    </td><td>IT        </td><td style=\"text-align: right;\">2400</td><td style=\"text-align: right;\">2</td><td style=\"text-align: right;\">10</td></tr>\\n<tr><td>Dilyana </td><td>IT        </td><td style=\"text-align: right;\">2200</td><td style=\"text-align: right;\">3</td><td style=\"text-align: right;\">12</td></tr>\\n<tr><td>Ivan    </td><td>IT        </td><td style=\"text-align: right;\">1800</td><td style=\"text-align: right;\">4</td><td style=\"text-align: right;\">18</td></tr>\\n<tr><td>Tony    </td><td>Legal     </td><td style=\"text-align: right;\">3100</td><td style=\"text-align: right;\">1</td><td style=\"text-align: right;\"> 3</td></tr>\\n<tr><td>Anthony </td><td>Marketing </td><td style=\"text-align: right;\">2300</td><td style=\"text-align: right;\">1</td><td style=\"text-align: right;\">11</td></tr>\\n<tr><td>Detelina</td><td>Marketing </td><td style=\"text-align: right;\">2200</td><td style=\"text-align: right;\">2</td><td style=\"text-align: right;\">12</td></tr>\\n<tr><td>Samuel  </td><td>Marketing </td><td style=\"text-align: right;\">1500</td><td style=\"text-align: right;\">3</td><td style=\"text-align: right;\">22</td></tr>\\n<tr><td>Maria   </td><td>Operations</td><td style=\"text-align: right;\">2000</td><td style=\"text-align: right;\">1</td><td style=\"text-align: right;\">14</td></tr>\\n<tr><td>Tanya   </td><td>Operations</td><td style=\"text-align: right;\">2000</td><td style=\"text-align: right;\">1</td><td style=\"text-align: right;\">14</td></tr>\\n<tr><td>Daniel  </td><td>Operations</td><td style=\"text-align: right;\">1900</td><td style=\"text-align: right;\">3</td><td style=\"text-align: right;\">16</td></tr>\\n<tr><td>Pratel  </td><td>Operations</td><td style=\"text-align: right;\">1850</td><td style=\"text-align: right;\">4</td><td style=\"text-align: right;\">17</td></tr>\\n<tr><td>Kris    </td><td>Operations</td><td style=\"text-align: right;\">1800</td><td style=\"text-align: right;\">5</td><td style=\"text-align: right;\">18</td></tr>\\n<tr><td>Simeon  </td><td>Operations</td><td style=\"text-align: right;\">1800</td><td style=\"text-align: right;\">5</td><td style=\"text-align: right;\">18</td></tr>\\n<tr><td>Toby    </td><td>Operations</td><td style=\"text-align: right;\">1750</td><td style=\"text-align: right;\">7</td><td style=\"text-align: right;\">21</td></tr>\\n<tr><td>Katya   </td><td>Operations</td><td style=\"text-align: right;\">1500</td><td style=\"text-align: right;\">8</td><td style=\"text-align: right;\">22</td></tr>\\n<tr><td>Natalia </td><td>Sales     </td><td style=\"text-align: right;\">3500</td><td style=\"text-align: right;\">1</td><td style=\"text-align: right;\"> 1</td></tr>\\n<tr><td>Boris   </td><td>Sales     </td><td style=\"text-align: right;\">3200</td><td style=\"text-align: right;\">2</td><td style=\"text-align: right;\"> 2</td></tr>\\n</tbody>\\n</table>'"
      ]
     },
     "execution_count": 18,
     "metadata": {},
     "output_type": "execute_result"
    }
   ],
   "source": [
    "sql_query = \"\"\"\n",
    "SELECT \n",
    "    name, \n",
    "    department,\n",
    "    salary,\n",
    "    RANK() OVER (PARTITION BY department ORDER BY salary DESC) AS dept_rank,\n",
    "    RANK() OVER (ORDER BY salary DESC) AS global_rank\n",
    "FROM emp\n",
    "ORDER BY department, salary DESC;\n",
    "\"\"\"\n",
    "result = cursor.execute(sql_query)\n",
    "tabulate(result.fetchall(), tablefmt=\"html\")"
   ]
  },
  {
   "cell_type": "code",
   "execution_count": 19,
   "id": "babb992a-bea9-4833-b95d-a0e08ee6cf8d",
   "metadata": {},
   "outputs": [
    {
     "data": {
      "text/plain": [
       "[(53100,)]"
      ]
     },
     "execution_count": 19,
     "metadata": {},
     "output_type": "execute_result"
    }
   ],
   "source": [
    "sql_query = \"\"\"\n",
    "SELECT SUM(salary) FROM emp\n",
    "\"\"\"\n",
    "result = cursor.execute(sql_query)\n",
    "result.fetchall()"
   ]
  },
  {
   "cell_type": "code",
   "execution_count": 20,
   "id": "82ec8b74-126f-4d86-8ef2-44974cccca1f",
   "metadata": {},
   "outputs": [],
   "source": [
    "conn.close()"
   ]
  },
  {
   "cell_type": "code",
   "execution_count": null,
   "id": "ff25414a-9f83-47f0-93d5-92f2c221a5fc",
   "metadata": {},
   "outputs": [],
   "source": []
  },
  {
   "cell_type": "code",
   "execution_count": null,
   "id": "1f9717cd-385d-4990-89c8-a53c10970d80",
   "metadata": {},
   "outputs": [],
   "source": []
  }
 ],
 "metadata": {
  "kernelspec": {
   "display_name": "Python 3 (ipykernel)",
   "language": "python",
   "name": "python3"
  },
  "language_info": {
   "codemirror_mode": {
    "name": "ipython",
    "version": 3
   },
   "file_extension": ".py",
   "mimetype": "text/x-python",
   "name": "python",
   "nbconvert_exporter": "python",
   "pygments_lexer": "ipython3",
   "version": "3.11.6"
  }
 },
 "nbformat": 4,
 "nbformat_minor": 5
}
